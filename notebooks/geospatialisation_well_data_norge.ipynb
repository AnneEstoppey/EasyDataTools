{
 "cells": [
  {
   "cell_type": "markdown",
   "metadata": {},
   "source": [
    "## Introduction\n",
    "In this notebook we will work with both the Exploration wellbore and the lithostratigraphy datasets from Norwegian Petroleum Directorate (NPD). The wellbore datasets are public domain. They are available here: https://data.norge.no/data/oljedirektoratet/br%C3%B8nnbane-wellbore. \n",
    "\n",
    "The datasets are available via an API which we will use. <br>\n",
    "\n",
    "### Description of the different data 'wrangling' steps, until ultimately generating a shapefile (displaying on map):\n",
    "\n",
    "We are first going to get the Exploration dataset, select columns and the wells for North Sea and Norwegian Sea only.\n",
    "\n",
    "The lithostratigraphy dataset has information about Formations and Groups for each well. It means that in this dataset, each well will be represented by several rows, each row being one Formation with top and bottom depths. We are also going to select specific columns and only North Sea and Norwegian Sea areas. <br>\n",
    "\n",
    "We are going to merge a selection of columns from the Exploration dataset together with the lithostratigraphy dataset.<br>\n",
    "\n",
    "The lithostratigraphy dataset does not have Geological ages (Paleocene, Cretaceous, Jurassic, Triassic, Permian). We created a new table for Groups with matching Ages, before adding this information to our lithostratigraphy dataset (using pandas 'map'). <br>\n",
    "\n",
    "The resulting is a dataframe for all Explorations wells in North Sea and Norwegian Sea, with Formation, Group and Age for each row. Each row also has coordinates, which will allow us to export to a point SHAPEFILE and examine our dataset in a geospatial context, here we are using MAPBOX."
   ]
  },
  {
   "cell_type": "code",
   "execution_count": 1,
   "metadata": {},
   "outputs": [],
   "source": [
    "%matplotlib inline"
   ]
  },
  {
   "cell_type": "code",
   "execution_count": 2,
   "metadata": {},
   "outputs": [],
   "source": [
    "import numpy as np\n",
    "import pandas as pd\n",
    "import matplotlib.pyplot as plt\n",
    "\n",
    "import requests\n",
    "import json\n",
    "import re\n",
    "\n",
    "import geopandas\n",
    "from shapely.geometry import Point\n",
    "from IPython.display import IFrame\n",
    "\n",
    "from mapboxgl.utils import *\n",
    "from mapboxgl.viz import *\n",
    "\n",
    "import altair as alt\n",
    "import seaborn as sns"
   ]
  },
  {
   "cell_type": "code",
   "execution_count": 3,
   "metadata": {},
   "outputs": [
    {
     "data": {
      "text/plain": [
       "RendererRegistry.enable('notebook')"
      ]
     },
     "execution_count": 3,
     "metadata": {},
     "output_type": "execute_result"
    }
   ],
   "source": [
    "alt.renderers.enable('notebook')"
   ]
  },
  {
   "cell_type": "markdown",
   "metadata": {},
   "source": [
    "#### API connection - check for status\n",
    "Make a general get request, print out status code.\n",
    "Status code = 200 means API connection is up and running."
   ]
  },
  {
   "cell_type": "code",
   "execution_count": 4,
   "metadata": {},
   "outputs": [
    {
     "name": "stdout",
     "output_type": "stream",
     "text": [
      "200\n"
     ]
    }
   ],
   "source": [
    "response = requests.get('http://data.norge.no/api/dcat/870917732/data.json')\n",
    "\n",
    "status_code = response.status_code\n",
    "print(status_code)"
   ]
  },
  {
   "cell_type": "markdown",
   "metadata": {},
   "source": [
    "#### Get request - Exploration dataset\n",
    "The dataset is paginated. The first page will tell us how many pages there are in total, and how many rows for the whole dataset. We go through all the page of the dataset and create a pandas dataframe from the json file."
   ]
  },
  {
   "cell_type": "code",
   "execution_count": 5,
   "metadata": {},
   "outputs": [],
   "source": [
    "dataset1 = requests.get('http://hotell.difi.no/api/json/npd/wellbore/exploration?page=1')\n",
    "json_dataset1 = dataset1.json()\n",
    "\n",
    "page = json_dataset1['pages']\n",
    "all_data_list_explo = []\n",
    "for i in range(0, page):\n",
    "    url =f'http://hotell.difi.no/api/json/npd/wellbore/exploration?page={i+1}'\n",
    "\n",
    "    dataset_all_explo = requests.get(url)\n",
    "    dataset_all_explo_json = dataset_all_explo.json()\n",
    "    number_of_entries = len(dataset_all_explo_json['entries'])\n",
    "\n",
    "    for x in range(0, number_of_entries):\n",
    "        all_data_list_explo.append(dataset_all_explo_json['entries'][x])\n",
    "\n",
    "df_all_explo = pd.DataFrame(all_data_list_explo)"
   ]
  },
  {
   "cell_type": "markdown",
   "metadata": {},
   "source": [
    "#### Select columns out in a new dataframe (from 81 columns down to 22)"
   ]
  },
  {
   "cell_type": "code",
   "execution_count": 6,
   "metadata": {},
   "outputs": [],
   "source": [
    "df_all_explo_sel_col = df_all_explo.filter(['wlbWellboreName', 'wlbEwDesDeg','wlbNsDecDeg', 'wlbEntryYear',\n",
    "                                                'wlbCompletionYear','wlbEwUtm','wlbNsUtm','wlbUtmZone',\n",
    "                                                'wlbContent', 'wlbDiscoveryWellbore',\n",
    "                                                'wlbTotalDepth','wlbAgeAtTd','wlbFormationAtTd',\n",
    "                                                'wlbAgeWithHc1', 'wlbAgeWithHc2', 'wlbAgeWithHc3',\n",
    "                                                'wlbFormationWithHc1', 'wlbFormationWithHc2', 'wlbFormationWithHc3',\n",
    "                                                'wlbDrillingOperator', 'wlbMainArea', 'datesyncNPD'],\n",
    "                                                axis=1)"
   ]
  },
  {
   "cell_type": "markdown",
   "metadata": {},
   "source": [
    "#### We select wells only within North Sea and Norwegian Sea areas"
   ]
  },
  {
   "cell_type": "code",
   "execution_count": 7,
   "metadata": {},
   "outputs": [
    {
     "data": {
      "text/plain": [
       "(1720, 22)"
      ]
     },
     "execution_count": 7,
     "metadata": {},
     "output_type": "execute_result"
    }
   ],
   "source": [
    "df_explo_NTS_NS = df_all_explo_sel_col.loc[df_all_explo_sel_col['wlbMainArea'].isin(['NORTH SEA','NORWEGIAN SEA'])]\n",
    "df_explo_NTS_NS.shape"
   ]
  },
  {
   "cell_type": "code",
   "execution_count": 8,
   "metadata": {},
   "outputs": [
    {
     "data": {
      "text/html": [
       "<div>\n",
       "<style scoped>\n",
       "    .dataframe tbody tr th:only-of-type {\n",
       "        vertical-align: middle;\n",
       "    }\n",
       "\n",
       "    .dataframe tbody tr th {\n",
       "        vertical-align: top;\n",
       "    }\n",
       "\n",
       "    .dataframe thead th {\n",
       "        text-align: right;\n",
       "    }\n",
       "</style>\n",
       "<table border=\"1\" class=\"dataframe\">\n",
       "  <thead>\n",
       "    <tr style=\"text-align: right;\">\n",
       "      <th></th>\n",
       "      <th>wlbWellboreName</th>\n",
       "      <th>wlbEwDesDeg</th>\n",
       "      <th>wlbNsDecDeg</th>\n",
       "      <th>wlbEntryYear</th>\n",
       "      <th>wlbCompletionYear</th>\n",
       "      <th>wlbEwUtm</th>\n",
       "      <th>wlbNsUtm</th>\n",
       "      <th>wlbUtmZone</th>\n",
       "      <th>wlbContent</th>\n",
       "      <th>wlbDiscoveryWellbore</th>\n",
       "      <th>...</th>\n",
       "      <th>wlbFormationAtTd</th>\n",
       "      <th>wlbAgeWithHc1</th>\n",
       "      <th>wlbAgeWithHc2</th>\n",
       "      <th>wlbAgeWithHc3</th>\n",
       "      <th>wlbFormationWithHc1</th>\n",
       "      <th>wlbFormationWithHc2</th>\n",
       "      <th>wlbFormationWithHc3</th>\n",
       "      <th>wlbDrillingOperator</th>\n",
       "      <th>wlbMainArea</th>\n",
       "      <th>datesyncNPD</th>\n",
       "    </tr>\n",
       "  </thead>\n",
       "  <tbody>\n",
       "    <tr>\n",
       "      <th>0</th>\n",
       "      <td>1/2-1</td>\n",
       "      <td>2.476583</td>\n",
       "      <td>56.887519</td>\n",
       "      <td>1989</td>\n",
       "      <td>1989</td>\n",
       "      <td>468106.29</td>\n",
       "      <td>6305128.26</td>\n",
       "      <td>31</td>\n",
       "      <td>OIL</td>\n",
       "      <td>YES</td>\n",
       "      <td>...</td>\n",
       "      <td>TOR FM</td>\n",
       "      <td>PALEOCENE</td>\n",
       "      <td></td>\n",
       "      <td></td>\n",
       "      <td>FORTIES FM</td>\n",
       "      <td></td>\n",
       "      <td></td>\n",
       "      <td>Phillips Petroleum Norsk AS</td>\n",
       "      <td>NORTH SEA</td>\n",
       "      <td>01.04.2019</td>\n",
       "    </tr>\n",
       "    <tr>\n",
       "      <th>1</th>\n",
       "      <td>1/2-2</td>\n",
       "      <td>2.496572</td>\n",
       "      <td>56.992222</td>\n",
       "      <td>2005</td>\n",
       "      <td>2006</td>\n",
       "      <td>469410.10</td>\n",
       "      <td>6316774.33</td>\n",
       "      <td>31</td>\n",
       "      <td>OIL SHOWS</td>\n",
       "      <td>NO</td>\n",
       "      <td>...</td>\n",
       "      <td>EKOFISK FM</td>\n",
       "      <td></td>\n",
       "      <td></td>\n",
       "      <td></td>\n",
       "      <td></td>\n",
       "      <td></td>\n",
       "      <td></td>\n",
       "      <td>Paladin Resources Norge AS</td>\n",
       "      <td>NORTH SEA</td>\n",
       "      <td>01.04.2019</td>\n",
       "    </tr>\n",
       "    <tr>\n",
       "      <th>2</th>\n",
       "      <td>1/3-1</td>\n",
       "      <td>2.851389</td>\n",
       "      <td>56.855833</td>\n",
       "      <td>1968</td>\n",
       "      <td>1968</td>\n",
       "      <td>490936.87</td>\n",
       "      <td>6301488.86</td>\n",
       "      <td>31</td>\n",
       "      <td>GAS</td>\n",
       "      <td>YES</td>\n",
       "      <td>...</td>\n",
       "      <td>ZECHSTEIN GP</td>\n",
       "      <td>LATE CRETACEOUS</td>\n",
       "      <td>EARLY CRETACEOUS</td>\n",
       "      <td></td>\n",
       "      <td>TOR FM</td>\n",
       "      <td>CROMER KNOLL GP</td>\n",
       "      <td></td>\n",
       "      <td>A/S Norske Shell</td>\n",
       "      <td>NORTH SEA</td>\n",
       "      <td>01.04.2019</td>\n",
       "    </tr>\n",
       "    <tr>\n",
       "      <th>3</th>\n",
       "      <td>1/3-2</td>\n",
       "      <td>2.750000</td>\n",
       "      <td>56.936111</td>\n",
       "      <td>1969</td>\n",
       "      <td>1969</td>\n",
       "      <td>484786.28</td>\n",
       "      <td>6310443.20</td>\n",
       "      <td>31</td>\n",
       "      <td>DRY</td>\n",
       "      <td>NO</td>\n",
       "      <td>...</td>\n",
       "      <td>SOLA FM</td>\n",
       "      <td></td>\n",
       "      <td></td>\n",
       "      <td></td>\n",
       "      <td></td>\n",
       "      <td></td>\n",
       "      <td></td>\n",
       "      <td>A/S Norske Shell</td>\n",
       "      <td>NORTH SEA</td>\n",
       "      <td>01.04.2019</td>\n",
       "    </tr>\n",
       "    <tr>\n",
       "      <th>4</th>\n",
       "      <td>1/3-3</td>\n",
       "      <td>2.981681</td>\n",
       "      <td>56.952378</td>\n",
       "      <td>1982</td>\n",
       "      <td>1983</td>\n",
       "      <td>498885.66</td>\n",
       "      <td>6312226.32</td>\n",
       "      <td>31</td>\n",
       "      <td>OIL</td>\n",
       "      <td>YES</td>\n",
       "      <td>...</td>\n",
       "      <td>ZECHSTEIN GP</td>\n",
       "      <td>LATE JURASSIC</td>\n",
       "      <td></td>\n",
       "      <td></td>\n",
       "      <td>ULA FM</td>\n",
       "      <td></td>\n",
       "      <td></td>\n",
       "      <td>Elf Petroleum Norge AS</td>\n",
       "      <td>NORTH SEA</td>\n",
       "      <td>01.04.2019</td>\n",
       "    </tr>\n",
       "  </tbody>\n",
       "</table>\n",
       "<p>5 rows × 22 columns</p>\n",
       "</div>"
      ],
      "text/plain": [
       "  wlbWellboreName wlbEwDesDeg wlbNsDecDeg wlbEntryYear wlbCompletionYear  \\\n",
       "0           1/2-1    2.476583   56.887519         1989              1989   \n",
       "1           1/2-2    2.496572   56.992222         2005              2006   \n",
       "2           1/3-1    2.851389   56.855833         1968              1968   \n",
       "3           1/3-2    2.750000   56.936111         1969              1969   \n",
       "4           1/3-3    2.981681   56.952378         1982              1983   \n",
       "\n",
       "    wlbEwUtm    wlbNsUtm wlbUtmZone wlbContent wlbDiscoveryWellbore  ...  \\\n",
       "0  468106.29  6305128.26         31        OIL                  YES  ...   \n",
       "1  469410.10  6316774.33         31  OIL SHOWS                   NO  ...   \n",
       "2  490936.87  6301488.86         31        GAS                  YES  ...   \n",
       "3  484786.28  6310443.20         31        DRY                   NO  ...   \n",
       "4  498885.66  6312226.32         31        OIL                  YES  ...   \n",
       "\n",
       "  wlbFormationAtTd    wlbAgeWithHc1     wlbAgeWithHc2 wlbAgeWithHc3  \\\n",
       "0           TOR FM        PALEOCENE                                   \n",
       "1       EKOFISK FM                                                    \n",
       "2     ZECHSTEIN GP  LATE CRETACEOUS  EARLY CRETACEOUS                 \n",
       "3          SOLA FM                                                    \n",
       "4     ZECHSTEIN GP    LATE JURASSIC                                   \n",
       "\n",
       "  wlbFormationWithHc1 wlbFormationWithHc2 wlbFormationWithHc3  \\\n",
       "0          FORTIES FM                                           \n",
       "1                                                               \n",
       "2              TOR FM     CROMER KNOLL GP                       \n",
       "3                                                               \n",
       "4              ULA FM                                           \n",
       "\n",
       "           wlbDrillingOperator wlbMainArea datesyncNPD  \n",
       "0  Phillips Petroleum Norsk AS   NORTH SEA  01.04.2019  \n",
       "1   Paladin Resources Norge AS   NORTH SEA  01.04.2019  \n",
       "2             A/S Norske Shell   NORTH SEA  01.04.2019  \n",
       "3             A/S Norske Shell   NORTH SEA  01.04.2019  \n",
       "4       Elf Petroleum Norge AS   NORTH SEA  01.04.2019  \n",
       "\n",
       "[5 rows x 22 columns]"
      ]
     },
     "execution_count": 8,
     "metadata": {},
     "output_type": "execute_result"
    }
   ],
   "source": [
    "df_explo_NTS_NS.head()"
   ]
  },
  {
   "cell_type": "markdown",
   "metadata": {},
   "source": [
    "---"
   ]
  },
  {
   "cell_type": "markdown",
   "metadata": {},
   "source": [
    "#### Get request - Lithostratigraphy dataset\n",
    "The dataset is paginated. The first page will tell us how many pages there are in total, and how many rows for the whole dataset. We go through all the page of the dataset and create a pandas dataframe from the json file."
   ]
  },
  {
   "cell_type": "code",
   "execution_count": 9,
   "metadata": {},
   "outputs": [],
   "source": [
    "dataset3 = requests.get('http://hotell.difi.no/api/json/npd/wellbore/with-lithostratigraphy?page=1')\n",
    "json_dataset3 = dataset3.json()\n",
    "\n",
    "page = json_dataset3['pages']\n",
    "all_data_list_strati = []\n",
    "for i in range(0, page):\n",
    "    url =f'http://hotell.difi.no/api/json/npd/wellbore/with-lithostratigraphy?page={i+1}'\n",
    "\n",
    "    dataset_all_strati = requests.get(url)\n",
    "    dataset_all_strati_json = dataset_all_strati.json()\n",
    "    number_of_entries = len(dataset_all_strati_json['entries'])\n",
    "\n",
    "    for x in range(0, number_of_entries):\n",
    "        all_data_list_strati.append(dataset_all_strati_json['entries'][x])\n",
    "\n",
    "df_all_explo_strati = pd.DataFrame(all_data_list_strati)"
   ]
  },
  {
   "cell_type": "markdown",
   "metadata": {},
   "source": [
    "#### Re-arrange colums to make it more readable"
   ]
  },
  {
   "cell_type": "code",
   "execution_count": 10,
   "metadata": {},
   "outputs": [],
   "source": [
    "df_all_explo_strati = df_all_explo_strati[['wlbName', 'wlbNpdidWellbore', 'lsuTopDepth','lsuBottomDepth',\n",
    "                                           'lsuName', 'lsuNameParent', 'lsuNpdidLithoStrat',\n",
    "                                           'lsuNpdidLithoStratParent', 'lsuLevel',\n",
    "                                           'IsuWellboreUpdatedDate', 'datesyncNPD']]"
   ]
  },
  {
   "cell_type": "code",
   "execution_count": 11,
   "metadata": {},
   "outputs": [
    {
     "data": {
      "text/html": [
       "<div>\n",
       "<style scoped>\n",
       "    .dataframe tbody tr th:only-of-type {\n",
       "        vertical-align: middle;\n",
       "    }\n",
       "\n",
       "    .dataframe tbody tr th {\n",
       "        vertical-align: top;\n",
       "    }\n",
       "\n",
       "    .dataframe thead th {\n",
       "        text-align: right;\n",
       "    }\n",
       "</style>\n",
       "<table border=\"1\" class=\"dataframe\">\n",
       "  <thead>\n",
       "    <tr style=\"text-align: right;\">\n",
       "      <th></th>\n",
       "      <th>wlbName</th>\n",
       "      <th>wlbNpdidWellbore</th>\n",
       "      <th>lsuTopDepth</th>\n",
       "      <th>lsuBottomDepth</th>\n",
       "      <th>lsuName</th>\n",
       "      <th>lsuNameParent</th>\n",
       "      <th>lsuNpdidLithoStrat</th>\n",
       "      <th>lsuNpdidLithoStratParent</th>\n",
       "      <th>lsuLevel</th>\n",
       "      <th>IsuWellboreUpdatedDate</th>\n",
       "      <th>datesyncNPD</th>\n",
       "    </tr>\n",
       "  </thead>\n",
       "  <tbody>\n",
       "    <tr>\n",
       "      <th>0</th>\n",
       "      <td>9/8-1</td>\n",
       "      <td>145</td>\n",
       "      <td>98</td>\n",
       "      <td>568</td>\n",
       "      <td>NORDLAND GP</td>\n",
       "      <td></td>\n",
       "      <td>113</td>\n",
       "      <td></td>\n",
       "      <td>GROUP</td>\n",
       "      <td></td>\n",
       "      <td>01.04.2019</td>\n",
       "    </tr>\n",
       "    <tr>\n",
       "      <th>1</th>\n",
       "      <td>9/8-1</td>\n",
       "      <td>145</td>\n",
       "      <td>1597</td>\n",
       "      <td>1625</td>\n",
       "      <td>BLODØKS FM</td>\n",
       "      <td>SHETLAND GP</td>\n",
       "      <td>13</td>\n",
       "      <td>143</td>\n",
       "      <td>FORMATION</td>\n",
       "      <td></td>\n",
       "      <td>01.04.2019</td>\n",
       "    </tr>\n",
       "    <tr>\n",
       "      <th>2</th>\n",
       "      <td>9/8-1</td>\n",
       "      <td>145</td>\n",
       "      <td>1120</td>\n",
       "      <td>1275</td>\n",
       "      <td>ROGALAND GP</td>\n",
       "      <td></td>\n",
       "      <td>131</td>\n",
       "      <td></td>\n",
       "      <td>GROUP</td>\n",
       "      <td></td>\n",
       "      <td>01.04.2019</td>\n",
       "    </tr>\n",
       "    <tr>\n",
       "      <th>3</th>\n",
       "      <td>9/8-1</td>\n",
       "      <td>145</td>\n",
       "      <td>1625</td>\n",
       "      <td>1695</td>\n",
       "      <td>RØDBY FM</td>\n",
       "      <td>CROMER KNOLL GP</td>\n",
       "      <td>137</td>\n",
       "      <td>23</td>\n",
       "      <td>FORMATION</td>\n",
       "      <td></td>\n",
       "      <td>01.04.2019</td>\n",
       "    </tr>\n",
       "    <tr>\n",
       "      <th>4</th>\n",
       "      <td>9/8-1</td>\n",
       "      <td>145</td>\n",
       "      <td>1922</td>\n",
       "      <td>2109</td>\n",
       "      <td>SANDNES FM</td>\n",
       "      <td>VESTLAND GP</td>\n",
       "      <td>139</td>\n",
       "      <td>186</td>\n",
       "      <td>FORMATION</td>\n",
       "      <td></td>\n",
       "      <td>01.04.2019</td>\n",
       "    </tr>\n",
       "  </tbody>\n",
       "</table>\n",
       "</div>"
      ],
      "text/plain": [
       "  wlbName wlbNpdidWellbore lsuTopDepth lsuBottomDepth      lsuName  \\\n",
       "0   9/8-1              145          98            568  NORDLAND GP   \n",
       "1   9/8-1              145        1597           1625   BLODØKS FM   \n",
       "2   9/8-1              145        1120           1275  ROGALAND GP   \n",
       "3   9/8-1              145        1625           1695     RØDBY FM   \n",
       "4   9/8-1              145        1922           2109   SANDNES FM   \n",
       "\n",
       "     lsuNameParent lsuNpdidLithoStrat lsuNpdidLithoStratParent   lsuLevel  \\\n",
       "0                                 113                               GROUP   \n",
       "1      SHETLAND GP                 13                      143  FORMATION   \n",
       "2                                 131                               GROUP   \n",
       "3  CROMER KNOLL GP                137                       23  FORMATION   \n",
       "4      VESTLAND GP                139                      186  FORMATION   \n",
       "\n",
       "  IsuWellboreUpdatedDate datesyncNPD  \n",
       "0                         01.04.2019  \n",
       "1                         01.04.2019  \n",
       "2                         01.04.2019  \n",
       "3                         01.04.2019  \n",
       "4                         01.04.2019  "
      ]
     },
     "execution_count": 11,
     "metadata": {},
     "output_type": "execute_result"
    }
   ],
   "source": [
    "df_all_explo_strati.head()"
   ]
  },
  {
   "cell_type": "markdown",
   "metadata": {},
   "source": [
    "Fill all empty values with NaN"
   ]
  },
  {
   "cell_type": "code",
   "execution_count": 12,
   "metadata": {},
   "outputs": [],
   "source": [
    "df_all_explo_strati = df_all_explo_strati.replace('', np.nan)"
   ]
  },
  {
   "cell_type": "markdown",
   "metadata": {},
   "source": [
    "#### Merge with coordinates and region (North Sea, Norwegian Sea, Barents Sea) from dataframe df_all_explo_sel_col"
   ]
  },
  {
   "cell_type": "code",
   "execution_count": 13,
   "metadata": {},
   "outputs": [],
   "source": [
    "df_all_explo_strati_merge = pd.merge(df_all_explo_strati, \n",
    "                              df_all_explo_sel_col[['wlbEwDesDeg', 'wlbNsDecDeg', 'wlbEwUtm', 'wlbNsUtm',\n",
    "                                                   'wlbWellboreName', 'wlbMainArea']], how='left',\n",
    "                              left_on='wlbName', right_on='wlbWellboreName')"
   ]
  },
  {
   "cell_type": "code",
   "execution_count": 14,
   "metadata": {},
   "outputs": [
    {
     "data": {
      "text/html": [
       "<div>\n",
       "<style scoped>\n",
       "    .dataframe tbody tr th:only-of-type {\n",
       "        vertical-align: middle;\n",
       "    }\n",
       "\n",
       "    .dataframe tbody tr th {\n",
       "        vertical-align: top;\n",
       "    }\n",
       "\n",
       "    .dataframe thead th {\n",
       "        text-align: right;\n",
       "    }\n",
       "</style>\n",
       "<table border=\"1\" class=\"dataframe\">\n",
       "  <thead>\n",
       "    <tr style=\"text-align: right;\">\n",
       "      <th></th>\n",
       "      <th>wlbName</th>\n",
       "      <th>wlbNpdidWellbore</th>\n",
       "      <th>lsuTopDepth</th>\n",
       "      <th>lsuBottomDepth</th>\n",
       "      <th>lsuName</th>\n",
       "      <th>lsuNameParent</th>\n",
       "      <th>lsuNpdidLithoStrat</th>\n",
       "      <th>lsuNpdidLithoStratParent</th>\n",
       "      <th>lsuLevel</th>\n",
       "      <th>IsuWellboreUpdatedDate</th>\n",
       "      <th>datesyncNPD</th>\n",
       "      <th>wlbEwDesDeg</th>\n",
       "      <th>wlbNsDecDeg</th>\n",
       "      <th>wlbEwUtm</th>\n",
       "      <th>wlbNsUtm</th>\n",
       "      <th>wlbWellboreName</th>\n",
       "      <th>wlbMainArea</th>\n",
       "    </tr>\n",
       "  </thead>\n",
       "  <tbody>\n",
       "    <tr>\n",
       "      <th>0</th>\n",
       "      <td>9/8-1</td>\n",
       "      <td>145</td>\n",
       "      <td>98</td>\n",
       "      <td>568</td>\n",
       "      <td>NORDLAND GP</td>\n",
       "      <td>NaN</td>\n",
       "      <td>113</td>\n",
       "      <td>NaN</td>\n",
       "      <td>GROUP</td>\n",
       "      <td>NaN</td>\n",
       "      <td>01.04.2019</td>\n",
       "      <td>4.336939</td>\n",
       "      <td>57.342769</td>\n",
       "      <td>580468.98</td>\n",
       "      <td>6356476.03</td>\n",
       "      <td>9/8-1</td>\n",
       "      <td>NORTH SEA</td>\n",
       "    </tr>\n",
       "    <tr>\n",
       "      <th>1</th>\n",
       "      <td>9/8-1</td>\n",
       "      <td>145</td>\n",
       "      <td>1597</td>\n",
       "      <td>1625</td>\n",
       "      <td>BLODØKS FM</td>\n",
       "      <td>SHETLAND GP</td>\n",
       "      <td>13</td>\n",
       "      <td>143</td>\n",
       "      <td>FORMATION</td>\n",
       "      <td>NaN</td>\n",
       "      <td>01.04.2019</td>\n",
       "      <td>4.336939</td>\n",
       "      <td>57.342769</td>\n",
       "      <td>580468.98</td>\n",
       "      <td>6356476.03</td>\n",
       "      <td>9/8-1</td>\n",
       "      <td>NORTH SEA</td>\n",
       "    </tr>\n",
       "    <tr>\n",
       "      <th>2</th>\n",
       "      <td>9/8-1</td>\n",
       "      <td>145</td>\n",
       "      <td>1120</td>\n",
       "      <td>1275</td>\n",
       "      <td>ROGALAND GP</td>\n",
       "      <td>NaN</td>\n",
       "      <td>131</td>\n",
       "      <td>NaN</td>\n",
       "      <td>GROUP</td>\n",
       "      <td>NaN</td>\n",
       "      <td>01.04.2019</td>\n",
       "      <td>4.336939</td>\n",
       "      <td>57.342769</td>\n",
       "      <td>580468.98</td>\n",
       "      <td>6356476.03</td>\n",
       "      <td>9/8-1</td>\n",
       "      <td>NORTH SEA</td>\n",
       "    </tr>\n",
       "    <tr>\n",
       "      <th>3</th>\n",
       "      <td>9/8-1</td>\n",
       "      <td>145</td>\n",
       "      <td>1625</td>\n",
       "      <td>1695</td>\n",
       "      <td>RØDBY FM</td>\n",
       "      <td>CROMER KNOLL GP</td>\n",
       "      <td>137</td>\n",
       "      <td>23</td>\n",
       "      <td>FORMATION</td>\n",
       "      <td>NaN</td>\n",
       "      <td>01.04.2019</td>\n",
       "      <td>4.336939</td>\n",
       "      <td>57.342769</td>\n",
       "      <td>580468.98</td>\n",
       "      <td>6356476.03</td>\n",
       "      <td>9/8-1</td>\n",
       "      <td>NORTH SEA</td>\n",
       "    </tr>\n",
       "    <tr>\n",
       "      <th>4</th>\n",
       "      <td>9/8-1</td>\n",
       "      <td>145</td>\n",
       "      <td>1922</td>\n",
       "      <td>2109</td>\n",
       "      <td>SANDNES FM</td>\n",
       "      <td>VESTLAND GP</td>\n",
       "      <td>139</td>\n",
       "      <td>186</td>\n",
       "      <td>FORMATION</td>\n",
       "      <td>NaN</td>\n",
       "      <td>01.04.2019</td>\n",
       "      <td>4.336939</td>\n",
       "      <td>57.342769</td>\n",
       "      <td>580468.98</td>\n",
       "      <td>6356476.03</td>\n",
       "      <td>9/8-1</td>\n",
       "      <td>NORTH SEA</td>\n",
       "    </tr>\n",
       "  </tbody>\n",
       "</table>\n",
       "</div>"
      ],
      "text/plain": [
       "  wlbName wlbNpdidWellbore lsuTopDepth lsuBottomDepth      lsuName  \\\n",
       "0   9/8-1              145          98            568  NORDLAND GP   \n",
       "1   9/8-1              145        1597           1625   BLODØKS FM   \n",
       "2   9/8-1              145        1120           1275  ROGALAND GP   \n",
       "3   9/8-1              145        1625           1695     RØDBY FM   \n",
       "4   9/8-1              145        1922           2109   SANDNES FM   \n",
       "\n",
       "     lsuNameParent lsuNpdidLithoStrat lsuNpdidLithoStratParent   lsuLevel  \\\n",
       "0              NaN                113                      NaN      GROUP   \n",
       "1      SHETLAND GP                 13                      143  FORMATION   \n",
       "2              NaN                131                      NaN      GROUP   \n",
       "3  CROMER KNOLL GP                137                       23  FORMATION   \n",
       "4      VESTLAND GP                139                      186  FORMATION   \n",
       "\n",
       "  IsuWellboreUpdatedDate datesyncNPD wlbEwDesDeg wlbNsDecDeg   wlbEwUtm  \\\n",
       "0                    NaN  01.04.2019    4.336939   57.342769  580468.98   \n",
       "1                    NaN  01.04.2019    4.336939   57.342769  580468.98   \n",
       "2                    NaN  01.04.2019    4.336939   57.342769  580468.98   \n",
       "3                    NaN  01.04.2019    4.336939   57.342769  580468.98   \n",
       "4                    NaN  01.04.2019    4.336939   57.342769  580468.98   \n",
       "\n",
       "     wlbNsUtm wlbWellboreName wlbMainArea  \n",
       "0  6356476.03           9/8-1   NORTH SEA  \n",
       "1  6356476.03           9/8-1   NORTH SEA  \n",
       "2  6356476.03           9/8-1   NORTH SEA  \n",
       "3  6356476.03           9/8-1   NORTH SEA  \n",
       "4  6356476.03           9/8-1   NORTH SEA  "
      ]
     },
     "execution_count": 14,
     "metadata": {},
     "output_type": "execute_result"
    }
   ],
   "source": [
    "df_all_explo_strati_merge.head()"
   ]
  },
  {
   "cell_type": "markdown",
   "metadata": {},
   "source": [
    "Do we have any NaNs in the merged dataframe columns? Where and how many?"
   ]
  },
  {
   "cell_type": "code",
   "execution_count": 15,
   "metadata": {},
   "outputs": [
    {
     "data": {
      "text/plain": [
       "wlbName                         0\n",
       "wlbNpdidWellbore                0\n",
       "lsuTopDepth                     0\n",
       "lsuBottomDepth                  0\n",
       "lsuName                         0\n",
       "lsuNameParent               13637\n",
       "lsuNpdidLithoStrat              0\n",
       "lsuNpdidLithoStratParent    13637\n",
       "lsuLevel                        0\n",
       "IsuWellboreUpdatedDate      33703\n",
       "datesyncNPD                     0\n",
       "wlbEwDesDeg                   126\n",
       "wlbNsDecDeg                   126\n",
       "wlbEwUtm                      126\n",
       "wlbNsUtm                      126\n",
       "wlbWellboreName               126\n",
       "wlbMainArea                   126\n",
       "dtype: int64"
      ]
     },
     "execution_count": 15,
     "metadata": {},
     "output_type": "execute_result"
    }
   ],
   "source": [
    "df_all_explo_strati_merge.isnull().sum()"
   ]
  },
  {
   "cell_type": "markdown",
   "metadata": {},
   "source": [
    "Let's have a closer look at the 126 entries with NaNs which appeared after we merged the two dataframes."
   ]
  },
  {
   "cell_type": "code",
   "execution_count": 16,
   "metadata": {},
   "outputs": [],
   "source": [
    "df_all_explo_strati_merge_coord_nan = df_all_explo_strati_merge.loc[\n",
    "                                        df_all_explo_strati_merge['wlbWellboreName'].isnull()]"
   ]
  },
  {
   "cell_type": "code",
   "execution_count": 19,
   "metadata": {},
   "outputs": [
    {
     "data": {
      "text/html": [
       "<div>\n",
       "<style scoped>\n",
       "    .dataframe tbody tr th:only-of-type {\n",
       "        vertical-align: middle;\n",
       "    }\n",
       "\n",
       "    .dataframe tbody tr th {\n",
       "        vertical-align: top;\n",
       "    }\n",
       "\n",
       "    .dataframe thead th {\n",
       "        text-align: right;\n",
       "    }\n",
       "</style>\n",
       "<table border=\"1\" class=\"dataframe\">\n",
       "  <thead>\n",
       "    <tr style=\"text-align: right;\">\n",
       "      <th></th>\n",
       "      <th>wlbName</th>\n",
       "      <th>wlbNpdidWellbore</th>\n",
       "      <th>lsuTopDepth</th>\n",
       "      <th>lsuBottomDepth</th>\n",
       "      <th>lsuName</th>\n",
       "      <th>lsuNameParent</th>\n",
       "      <th>lsuNpdidLithoStrat</th>\n",
       "      <th>lsuNpdidLithoStratParent</th>\n",
       "      <th>lsuLevel</th>\n",
       "      <th>IsuWellboreUpdatedDate</th>\n",
       "      <th>datesyncNPD</th>\n",
       "      <th>wlbEwDesDeg</th>\n",
       "      <th>wlbNsDecDeg</th>\n",
       "      <th>wlbEwUtm</th>\n",
       "      <th>wlbNsUtm</th>\n",
       "      <th>wlbWellboreName</th>\n",
       "      <th>wlbMainArea</th>\n",
       "    </tr>\n",
       "  </thead>\n",
       "  <tbody>\n",
       "    <tr>\n",
       "      <th>30580</th>\n",
       "      <td>16/2-U-18</td>\n",
       "      <td>8052</td>\n",
       "      <td>1978</td>\n",
       "      <td>1981</td>\n",
       "      <td>VESTLAND GP</td>\n",
       "      <td>NaN</td>\n",
       "      <td>186</td>\n",
       "      <td>NaN</td>\n",
       "      <td>GROUP</td>\n",
       "      <td>NaN</td>\n",
       "      <td>01.04.2019</td>\n",
       "      <td>NaN</td>\n",
       "      <td>NaN</td>\n",
       "      <td>NaN</td>\n",
       "      <td>NaN</td>\n",
       "      <td>NaN</td>\n",
       "      <td>NaN</td>\n",
       "    </tr>\n",
       "    <tr>\n",
       "      <th>30581</th>\n",
       "      <td>16/2-U-18</td>\n",
       "      <td>8052</td>\n",
       "      <td>1852</td>\n",
       "      <td>1909</td>\n",
       "      <td>RØDBY FM</td>\n",
       "      <td>CROMER KNOLL GP</td>\n",
       "      <td>137</td>\n",
       "      <td>23</td>\n",
       "      <td>FORMATION</td>\n",
       "      <td>NaN</td>\n",
       "      <td>01.04.2019</td>\n",
       "      <td>NaN</td>\n",
       "      <td>NaN</td>\n",
       "      <td>NaN</td>\n",
       "      <td>NaN</td>\n",
       "      <td>NaN</td>\n",
       "      <td>NaN</td>\n",
       "    </tr>\n",
       "    <tr>\n",
       "      <th>30582</th>\n",
       "      <td>16/2-U-18</td>\n",
       "      <td>8052</td>\n",
       "      <td>1553</td>\n",
       "      <td>1689</td>\n",
       "      <td>ROGALAND GP</td>\n",
       "      <td>NaN</td>\n",
       "      <td>131</td>\n",
       "      <td>NaN</td>\n",
       "      <td>GROUP</td>\n",
       "      <td>NaN</td>\n",
       "      <td>01.04.2019</td>\n",
       "      <td>NaN</td>\n",
       "      <td>NaN</td>\n",
       "      <td>NaN</td>\n",
       "      <td>NaN</td>\n",
       "      <td>NaN</td>\n",
       "      <td>NaN</td>\n",
       "    </tr>\n",
       "    <tr>\n",
       "      <th>30583</th>\n",
       "      <td>16/2-U-18</td>\n",
       "      <td>8052</td>\n",
       "      <td>154</td>\n",
       "      <td>999</td>\n",
       "      <td>NORDLAND GP</td>\n",
       "      <td>NaN</td>\n",
       "      <td>113</td>\n",
       "      <td>NaN</td>\n",
       "      <td>GROUP</td>\n",
       "      <td>NaN</td>\n",
       "      <td>01.04.2019</td>\n",
       "      <td>NaN</td>\n",
       "      <td>NaN</td>\n",
       "      <td>NaN</td>\n",
       "      <td>NaN</td>\n",
       "      <td>NaN</td>\n",
       "      <td>NaN</td>\n",
       "    </tr>\n",
       "    <tr>\n",
       "      <th>30584</th>\n",
       "      <td>16/2-U-18</td>\n",
       "      <td>8052</td>\n",
       "      <td>1802</td>\n",
       "      <td>1817</td>\n",
       "      <td>BLODØKS FM</td>\n",
       "      <td>SHETLAND GP</td>\n",
       "      <td>13</td>\n",
       "      <td>143</td>\n",
       "      <td>FORMATION</td>\n",
       "      <td>NaN</td>\n",
       "      <td>01.04.2019</td>\n",
       "      <td>NaN</td>\n",
       "      <td>NaN</td>\n",
       "      <td>NaN</td>\n",
       "      <td>NaN</td>\n",
       "      <td>NaN</td>\n",
       "      <td>NaN</td>\n",
       "    </tr>\n",
       "  </tbody>\n",
       "</table>\n",
       "</div>"
      ],
      "text/plain": [
       "         wlbName wlbNpdidWellbore lsuTopDepth lsuBottomDepth      lsuName  \\\n",
       "30580  16/2-U-18             8052        1978           1981  VESTLAND GP   \n",
       "30581  16/2-U-18             8052        1852           1909     RØDBY FM   \n",
       "30582  16/2-U-18             8052        1553           1689  ROGALAND GP   \n",
       "30583  16/2-U-18             8052         154            999  NORDLAND GP   \n",
       "30584  16/2-U-18             8052        1802           1817   BLODØKS FM   \n",
       "\n",
       "         lsuNameParent lsuNpdidLithoStrat lsuNpdidLithoStratParent   lsuLevel  \\\n",
       "30580              NaN                186                      NaN      GROUP   \n",
       "30581  CROMER KNOLL GP                137                       23  FORMATION   \n",
       "30582              NaN                131                      NaN      GROUP   \n",
       "30583              NaN                113                      NaN      GROUP   \n",
       "30584      SHETLAND GP                 13                      143  FORMATION   \n",
       "\n",
       "      IsuWellboreUpdatedDate datesyncNPD wlbEwDesDeg wlbNsDecDeg wlbEwUtm  \\\n",
       "30580                    NaN  01.04.2019         NaN         NaN      NaN   \n",
       "30581                    NaN  01.04.2019         NaN         NaN      NaN   \n",
       "30582                    NaN  01.04.2019         NaN         NaN      NaN   \n",
       "30583                    NaN  01.04.2019         NaN         NaN      NaN   \n",
       "30584                    NaN  01.04.2019         NaN         NaN      NaN   \n",
       "\n",
       "      wlbNsUtm wlbWellboreName wlbMainArea  \n",
       "30580      NaN             NaN         NaN  \n",
       "30581      NaN             NaN         NaN  \n",
       "30582      NaN             NaN         NaN  \n",
       "30583      NaN             NaN         NaN  \n",
       "30584      NaN             NaN         NaN  "
      ]
     },
     "execution_count": 19,
     "metadata": {},
     "output_type": "execute_result"
    }
   ],
   "source": [
    "df_all_explo_strati_merge_coord_nan.tail()"
   ]
  },
  {
   "cell_type": "markdown",
   "metadata": {},
   "source": [
    "We seem to have a nomentclature issue between 'wlbName' and 'wlbWellboreName' for the following wells:"
   ]
  },
  {
   "cell_type": "code",
   "execution_count": 20,
   "metadata": {},
   "outputs": [
    {
     "data": {
      "text/plain": [
       "array(['9/2-A-4', '16/3-U-1 B', '16/3-U-1 A', '16/3-U-1', '16/2-U-19',\n",
       "       '16/2-U-18'], dtype=object)"
      ]
     },
     "execution_count": 20,
     "metadata": {},
     "output_type": "execute_result"
    }
   ],
   "source": [
    "df_all_explo_strati_merge_coord_nan['wlbName'].unique()"
   ]
  },
  {
   "cell_type": "markdown",
   "metadata": {},
   "source": [
    "The missing wells are not in the original Exploration wells dataset, therefore we remove them from the merged dataframe."
   ]
  },
  {
   "cell_type": "code",
   "execution_count": 21,
   "metadata": {},
   "outputs": [],
   "source": [
    "df_all_explo_strati_merge = df_all_explo_strati_merge.dropna(subset=['wlbWellboreName'])"
   ]
  },
  {
   "cell_type": "code",
   "execution_count": 22,
   "metadata": {},
   "outputs": [
    {
     "data": {
      "text/plain": [
       "(35332, 17)"
      ]
     },
     "execution_count": 22,
     "metadata": {},
     "output_type": "execute_result"
    }
   ],
   "source": [
    "df_all_explo_strati_merge.shape"
   ]
  },
  {
   "cell_type": "markdown",
   "metadata": {},
   "source": [
    "Let's remove the column 'IsuWellboreUpdatedDate' which is almost all empty"
   ]
  },
  {
   "cell_type": "code",
   "execution_count": 23,
   "metadata": {},
   "outputs": [],
   "source": [
    "df_all_explo_strati_merge = df_all_explo_strati_merge.drop('IsuWellboreUpdatedDate', axis = 1)"
   ]
  },
  {
   "cell_type": "markdown",
   "metadata": {},
   "source": [
    "Let's rework our datatypes to float and integer"
   ]
  },
  {
   "cell_type": "code",
   "execution_count": 24,
   "metadata": {},
   "outputs": [
    {
     "data": {
      "text/plain": [
       "wlbName                     object\n",
       "wlbNpdidWellbore            object\n",
       "lsuTopDepth                 object\n",
       "lsuBottomDepth              object\n",
       "lsuName                     object\n",
       "lsuNameParent               object\n",
       "lsuNpdidLithoStrat          object\n",
       "lsuNpdidLithoStratParent    object\n",
       "lsuLevel                    object\n",
       "datesyncNPD                 object\n",
       "wlbEwDesDeg                 object\n",
       "wlbNsDecDeg                 object\n",
       "wlbEwUtm                    object\n",
       "wlbNsUtm                    object\n",
       "wlbWellboreName             object\n",
       "wlbMainArea                 object\n",
       "dtype: object"
      ]
     },
     "execution_count": 24,
     "metadata": {},
     "output_type": "execute_result"
    }
   ],
   "source": [
    "df_all_explo_strati_merge.dtypes"
   ]
  },
  {
   "cell_type": "code",
   "execution_count": 25,
   "metadata": {},
   "outputs": [],
   "source": [
    "float_col = ['lsuTopDepth', 'lsuBottomDepth', 'wlbEwDesDeg', 'wlbNsDecDeg', 'wlbEwUtm', 'wlbNsUtm']\n",
    "for f in float_col:\n",
    "    df_all_explo_strati_merge[f] = df_all_explo_strati_merge[f].astype(np.float64)\n",
    "\n",
    "int_col = ['wlbNpdidWellbore', 'lsuNpdidLithoStrat']\n",
    "for i in int_col:\n",
    "    df_all_explo_strati_merge[i] = df_all_explo_strati_merge[i].astype(int)"
   ]
  },
  {
   "cell_type": "code",
   "execution_count": 26,
   "metadata": {},
   "outputs": [
    {
     "data": {
      "text/html": [
       "<div>\n",
       "<style scoped>\n",
       "    .dataframe tbody tr th:only-of-type {\n",
       "        vertical-align: middle;\n",
       "    }\n",
       "\n",
       "    .dataframe tbody tr th {\n",
       "        vertical-align: top;\n",
       "    }\n",
       "\n",
       "    .dataframe thead th {\n",
       "        text-align: right;\n",
       "    }\n",
       "</style>\n",
       "<table border=\"1\" class=\"dataframe\">\n",
       "  <thead>\n",
       "    <tr style=\"text-align: right;\">\n",
       "      <th></th>\n",
       "      <th>wlbName</th>\n",
       "      <th>wlbNpdidWellbore</th>\n",
       "      <th>lsuTopDepth</th>\n",
       "      <th>lsuBottomDepth</th>\n",
       "      <th>lsuName</th>\n",
       "      <th>lsuNameParent</th>\n",
       "      <th>lsuNpdidLithoStrat</th>\n",
       "      <th>lsuNpdidLithoStratParent</th>\n",
       "      <th>lsuLevel</th>\n",
       "      <th>datesyncNPD</th>\n",
       "      <th>wlbEwDesDeg</th>\n",
       "      <th>wlbNsDecDeg</th>\n",
       "      <th>wlbEwUtm</th>\n",
       "      <th>wlbNsUtm</th>\n",
       "      <th>wlbWellboreName</th>\n",
       "      <th>wlbMainArea</th>\n",
       "    </tr>\n",
       "  </thead>\n",
       "  <tbody>\n",
       "    <tr>\n",
       "      <th>0</th>\n",
       "      <td>9/8-1</td>\n",
       "      <td>145</td>\n",
       "      <td>98.0</td>\n",
       "      <td>568.0</td>\n",
       "      <td>NORDLAND GP</td>\n",
       "      <td>NaN</td>\n",
       "      <td>113</td>\n",
       "      <td>NaN</td>\n",
       "      <td>GROUP</td>\n",
       "      <td>01.04.2019</td>\n",
       "      <td>4.336939</td>\n",
       "      <td>57.342769</td>\n",
       "      <td>580468.98</td>\n",
       "      <td>6356476.03</td>\n",
       "      <td>9/8-1</td>\n",
       "      <td>NORTH SEA</td>\n",
       "    </tr>\n",
       "    <tr>\n",
       "      <th>1</th>\n",
       "      <td>9/8-1</td>\n",
       "      <td>145</td>\n",
       "      <td>1597.0</td>\n",
       "      <td>1625.0</td>\n",
       "      <td>BLODØKS FM</td>\n",
       "      <td>SHETLAND GP</td>\n",
       "      <td>13</td>\n",
       "      <td>143</td>\n",
       "      <td>FORMATION</td>\n",
       "      <td>01.04.2019</td>\n",
       "      <td>4.336939</td>\n",
       "      <td>57.342769</td>\n",
       "      <td>580468.98</td>\n",
       "      <td>6356476.03</td>\n",
       "      <td>9/8-1</td>\n",
       "      <td>NORTH SEA</td>\n",
       "    </tr>\n",
       "    <tr>\n",
       "      <th>2</th>\n",
       "      <td>9/8-1</td>\n",
       "      <td>145</td>\n",
       "      <td>1120.0</td>\n",
       "      <td>1275.0</td>\n",
       "      <td>ROGALAND GP</td>\n",
       "      <td>NaN</td>\n",
       "      <td>131</td>\n",
       "      <td>NaN</td>\n",
       "      <td>GROUP</td>\n",
       "      <td>01.04.2019</td>\n",
       "      <td>4.336939</td>\n",
       "      <td>57.342769</td>\n",
       "      <td>580468.98</td>\n",
       "      <td>6356476.03</td>\n",
       "      <td>9/8-1</td>\n",
       "      <td>NORTH SEA</td>\n",
       "    </tr>\n",
       "    <tr>\n",
       "      <th>3</th>\n",
       "      <td>9/8-1</td>\n",
       "      <td>145</td>\n",
       "      <td>1625.0</td>\n",
       "      <td>1695.0</td>\n",
       "      <td>RØDBY FM</td>\n",
       "      <td>CROMER KNOLL GP</td>\n",
       "      <td>137</td>\n",
       "      <td>23</td>\n",
       "      <td>FORMATION</td>\n",
       "      <td>01.04.2019</td>\n",
       "      <td>4.336939</td>\n",
       "      <td>57.342769</td>\n",
       "      <td>580468.98</td>\n",
       "      <td>6356476.03</td>\n",
       "      <td>9/8-1</td>\n",
       "      <td>NORTH SEA</td>\n",
       "    </tr>\n",
       "    <tr>\n",
       "      <th>4</th>\n",
       "      <td>9/8-1</td>\n",
       "      <td>145</td>\n",
       "      <td>1922.0</td>\n",
       "      <td>2109.0</td>\n",
       "      <td>SANDNES FM</td>\n",
       "      <td>VESTLAND GP</td>\n",
       "      <td>139</td>\n",
       "      <td>186</td>\n",
       "      <td>FORMATION</td>\n",
       "      <td>01.04.2019</td>\n",
       "      <td>4.336939</td>\n",
       "      <td>57.342769</td>\n",
       "      <td>580468.98</td>\n",
       "      <td>6356476.03</td>\n",
       "      <td>9/8-1</td>\n",
       "      <td>NORTH SEA</td>\n",
       "    </tr>\n",
       "  </tbody>\n",
       "</table>\n",
       "</div>"
      ],
      "text/plain": [
       "  wlbName  wlbNpdidWellbore  lsuTopDepth  lsuBottomDepth      lsuName  \\\n",
       "0   9/8-1               145         98.0           568.0  NORDLAND GP   \n",
       "1   9/8-1               145       1597.0          1625.0   BLODØKS FM   \n",
       "2   9/8-1               145       1120.0          1275.0  ROGALAND GP   \n",
       "3   9/8-1               145       1625.0          1695.0     RØDBY FM   \n",
       "4   9/8-1               145       1922.0          2109.0   SANDNES FM   \n",
       "\n",
       "     lsuNameParent  lsuNpdidLithoStrat lsuNpdidLithoStratParent   lsuLevel  \\\n",
       "0              NaN                 113                      NaN      GROUP   \n",
       "1      SHETLAND GP                  13                      143  FORMATION   \n",
       "2              NaN                 131                      NaN      GROUP   \n",
       "3  CROMER KNOLL GP                 137                       23  FORMATION   \n",
       "4      VESTLAND GP                 139                      186  FORMATION   \n",
       "\n",
       "  datesyncNPD  wlbEwDesDeg  wlbNsDecDeg   wlbEwUtm    wlbNsUtm  \\\n",
       "0  01.04.2019     4.336939    57.342769  580468.98  6356476.03   \n",
       "1  01.04.2019     4.336939    57.342769  580468.98  6356476.03   \n",
       "2  01.04.2019     4.336939    57.342769  580468.98  6356476.03   \n",
       "3  01.04.2019     4.336939    57.342769  580468.98  6356476.03   \n",
       "4  01.04.2019     4.336939    57.342769  580468.98  6356476.03   \n",
       "\n",
       "  wlbWellboreName wlbMainArea  \n",
       "0           9/8-1   NORTH SEA  \n",
       "1           9/8-1   NORTH SEA  \n",
       "2           9/8-1   NORTH SEA  \n",
       "3           9/8-1   NORTH SEA  \n",
       "4           9/8-1   NORTH SEA  "
      ]
     },
     "execution_count": 26,
     "metadata": {},
     "output_type": "execute_result"
    }
   ],
   "source": [
    "df_all_explo_strati_merge.head()"
   ]
  },
  {
   "cell_type": "code",
   "execution_count": 27,
   "metadata": {},
   "outputs": [
    {
     "data": {
      "text/plain": [
       "NORTH SEA        26708\n",
       "NORWEGIAN SEA     6711\n",
       "BARENTS SEA       1913\n",
       "Name: wlbMainArea, dtype: int64"
      ]
     },
     "execution_count": 27,
     "metadata": {},
     "output_type": "execute_result"
    }
   ],
   "source": [
    "df_all_explo_strati_merge['wlbMainArea'].value_counts()"
   ]
  },
  {
   "cell_type": "markdown",
   "metadata": {},
   "source": [
    "Let's remove all our BARENTS SEA rows from 'df_all_explo_strati_merge'"
   ]
  },
  {
   "cell_type": "code",
   "execution_count": 28,
   "metadata": {},
   "outputs": [],
   "source": [
    "df_all_explo_strati_merge_NTS_NS = df_all_explo_strati_merge.loc[\n",
    "    df_all_explo_strati_merge['wlbMainArea'].isin(['NORTH SEA','NORWEGIAN SEA'])]"
   ]
  },
  {
   "cell_type": "code",
   "execution_count": 29,
   "metadata": {},
   "outputs": [
    {
     "data": {
      "text/plain": [
       "(33419, 16)"
      ]
     },
     "execution_count": 29,
     "metadata": {},
     "output_type": "execute_result"
    }
   ],
   "source": [
    "df_all_explo_strati_merge_NTS_NS.shape"
   ]
  },
  {
   "cell_type": "code",
   "execution_count": 30,
   "metadata": {},
   "outputs": [
    {
     "data": {
      "text/plain": [
       "wlbName                      object\n",
       "wlbNpdidWellbore              int64\n",
       "lsuTopDepth                 float64\n",
       "lsuBottomDepth              float64\n",
       "lsuName                      object\n",
       "lsuNameParent                object\n",
       "lsuNpdidLithoStrat            int64\n",
       "lsuNpdidLithoStratParent     object\n",
       "lsuLevel                     object\n",
       "datesyncNPD                  object\n",
       "wlbEwDesDeg                 float64\n",
       "wlbNsDecDeg                 float64\n",
       "wlbEwUtm                    float64\n",
       "wlbNsUtm                    float64\n",
       "wlbWellboreName              object\n",
       "wlbMainArea                  object\n",
       "dtype: object"
      ]
     },
     "execution_count": 30,
     "metadata": {},
     "output_type": "execute_result"
    }
   ],
   "source": [
    "df_all_explo_strati_merge_NTS_NS.dtypes"
   ]
  },
  {
   "cell_type": "code",
   "execution_count": 31,
   "metadata": {},
   "outputs": [
    {
     "data": {
      "text/plain": [
       "NORTH SEA        26708\n",
       "NORWEGIAN SEA     6711\n",
       "Name: wlbMainArea, dtype: int64"
      ]
     },
     "execution_count": 31,
     "metadata": {},
     "output_type": "execute_result"
    }
   ],
   "source": [
    "df_all_explo_strati_merge_NTS_NS['wlbMainArea'].value_counts()"
   ]
  },
  {
   "cell_type": "code",
   "execution_count": 32,
   "metadata": {},
   "outputs": [
    {
     "data": {
      "text/plain": [
       "1599"
      ]
     },
     "execution_count": 32,
     "metadata": {},
     "output_type": "execute_result"
    }
   ],
   "source": [
    "len(df_all_explo_strati_merge_NTS_NS['wlbName'].unique())"
   ]
  },
  {
   "cell_type": "markdown",
   "metadata": {},
   "source": [
    "We have now 1599 unique wells in our dataframe with lithostratigraphies, for North Sea and Norwegian Sea."
   ]
  },
  {
   "cell_type": "code",
   "execution_count": 33,
   "metadata": {},
   "outputs": [
    {
     "data": {
      "text/html": [
       "<div>\n",
       "<style scoped>\n",
       "    .dataframe tbody tr th:only-of-type {\n",
       "        vertical-align: middle;\n",
       "    }\n",
       "\n",
       "    .dataframe tbody tr th {\n",
       "        vertical-align: top;\n",
       "    }\n",
       "\n",
       "    .dataframe thead th {\n",
       "        text-align: right;\n",
       "    }\n",
       "</style>\n",
       "<table border=\"1\" class=\"dataframe\">\n",
       "  <thead>\n",
       "    <tr style=\"text-align: right;\">\n",
       "      <th></th>\n",
       "      <th>wlbName</th>\n",
       "      <th>wlbNpdidWellbore</th>\n",
       "      <th>lsuTopDepth</th>\n",
       "      <th>lsuBottomDepth</th>\n",
       "      <th>lsuName</th>\n",
       "      <th>lsuNameParent</th>\n",
       "      <th>lsuNpdidLithoStrat</th>\n",
       "      <th>lsuNpdidLithoStratParent</th>\n",
       "      <th>lsuLevel</th>\n",
       "      <th>datesyncNPD</th>\n",
       "      <th>wlbEwDesDeg</th>\n",
       "      <th>wlbNsDecDeg</th>\n",
       "      <th>wlbEwUtm</th>\n",
       "      <th>wlbNsUtm</th>\n",
       "      <th>wlbWellboreName</th>\n",
       "      <th>wlbMainArea</th>\n",
       "    </tr>\n",
       "  </thead>\n",
       "  <tbody>\n",
       "    <tr>\n",
       "      <th>0</th>\n",
       "      <td>9/8-1</td>\n",
       "      <td>145</td>\n",
       "      <td>98.0</td>\n",
       "      <td>568.0</td>\n",
       "      <td>NORDLAND GP</td>\n",
       "      <td>NaN</td>\n",
       "      <td>113</td>\n",
       "      <td>NaN</td>\n",
       "      <td>GROUP</td>\n",
       "      <td>01.04.2019</td>\n",
       "      <td>4.336939</td>\n",
       "      <td>57.342769</td>\n",
       "      <td>580468.98</td>\n",
       "      <td>6356476.03</td>\n",
       "      <td>9/8-1</td>\n",
       "      <td>NORTH SEA</td>\n",
       "    </tr>\n",
       "    <tr>\n",
       "      <th>1</th>\n",
       "      <td>9/8-1</td>\n",
       "      <td>145</td>\n",
       "      <td>1597.0</td>\n",
       "      <td>1625.0</td>\n",
       "      <td>BLODØKS FM</td>\n",
       "      <td>SHETLAND GP</td>\n",
       "      <td>13</td>\n",
       "      <td>143</td>\n",
       "      <td>FORMATION</td>\n",
       "      <td>01.04.2019</td>\n",
       "      <td>4.336939</td>\n",
       "      <td>57.342769</td>\n",
       "      <td>580468.98</td>\n",
       "      <td>6356476.03</td>\n",
       "      <td>9/8-1</td>\n",
       "      <td>NORTH SEA</td>\n",
       "    </tr>\n",
       "    <tr>\n",
       "      <th>2</th>\n",
       "      <td>9/8-1</td>\n",
       "      <td>145</td>\n",
       "      <td>1120.0</td>\n",
       "      <td>1275.0</td>\n",
       "      <td>ROGALAND GP</td>\n",
       "      <td>NaN</td>\n",
       "      <td>131</td>\n",
       "      <td>NaN</td>\n",
       "      <td>GROUP</td>\n",
       "      <td>01.04.2019</td>\n",
       "      <td>4.336939</td>\n",
       "      <td>57.342769</td>\n",
       "      <td>580468.98</td>\n",
       "      <td>6356476.03</td>\n",
       "      <td>9/8-1</td>\n",
       "      <td>NORTH SEA</td>\n",
       "    </tr>\n",
       "    <tr>\n",
       "      <th>3</th>\n",
       "      <td>9/8-1</td>\n",
       "      <td>145</td>\n",
       "      <td>1625.0</td>\n",
       "      <td>1695.0</td>\n",
       "      <td>RØDBY FM</td>\n",
       "      <td>CROMER KNOLL GP</td>\n",
       "      <td>137</td>\n",
       "      <td>23</td>\n",
       "      <td>FORMATION</td>\n",
       "      <td>01.04.2019</td>\n",
       "      <td>4.336939</td>\n",
       "      <td>57.342769</td>\n",
       "      <td>580468.98</td>\n",
       "      <td>6356476.03</td>\n",
       "      <td>9/8-1</td>\n",
       "      <td>NORTH SEA</td>\n",
       "    </tr>\n",
       "    <tr>\n",
       "      <th>4</th>\n",
       "      <td>9/8-1</td>\n",
       "      <td>145</td>\n",
       "      <td>1922.0</td>\n",
       "      <td>2109.0</td>\n",
       "      <td>SANDNES FM</td>\n",
       "      <td>VESTLAND GP</td>\n",
       "      <td>139</td>\n",
       "      <td>186</td>\n",
       "      <td>FORMATION</td>\n",
       "      <td>01.04.2019</td>\n",
       "      <td>4.336939</td>\n",
       "      <td>57.342769</td>\n",
       "      <td>580468.98</td>\n",
       "      <td>6356476.03</td>\n",
       "      <td>9/8-1</td>\n",
       "      <td>NORTH SEA</td>\n",
       "    </tr>\n",
       "  </tbody>\n",
       "</table>\n",
       "</div>"
      ],
      "text/plain": [
       "  wlbName  wlbNpdidWellbore  lsuTopDepth  lsuBottomDepth      lsuName  \\\n",
       "0   9/8-1               145         98.0           568.0  NORDLAND GP   \n",
       "1   9/8-1               145       1597.0          1625.0   BLODØKS FM   \n",
       "2   9/8-1               145       1120.0          1275.0  ROGALAND GP   \n",
       "3   9/8-1               145       1625.0          1695.0     RØDBY FM   \n",
       "4   9/8-1               145       1922.0          2109.0   SANDNES FM   \n",
       "\n",
       "     lsuNameParent  lsuNpdidLithoStrat lsuNpdidLithoStratParent   lsuLevel  \\\n",
       "0              NaN                 113                      NaN      GROUP   \n",
       "1      SHETLAND GP                  13                      143  FORMATION   \n",
       "2              NaN                 131                      NaN      GROUP   \n",
       "3  CROMER KNOLL GP                 137                       23  FORMATION   \n",
       "4      VESTLAND GP                 139                      186  FORMATION   \n",
       "\n",
       "  datesyncNPD  wlbEwDesDeg  wlbNsDecDeg   wlbEwUtm    wlbNsUtm  \\\n",
       "0  01.04.2019     4.336939    57.342769  580468.98  6356476.03   \n",
       "1  01.04.2019     4.336939    57.342769  580468.98  6356476.03   \n",
       "2  01.04.2019     4.336939    57.342769  580468.98  6356476.03   \n",
       "3  01.04.2019     4.336939    57.342769  580468.98  6356476.03   \n",
       "4  01.04.2019     4.336939    57.342769  580468.98  6356476.03   \n",
       "\n",
       "  wlbWellboreName wlbMainArea  \n",
       "0           9/8-1   NORTH SEA  \n",
       "1           9/8-1   NORTH SEA  \n",
       "2           9/8-1   NORTH SEA  \n",
       "3           9/8-1   NORTH SEA  \n",
       "4           9/8-1   NORTH SEA  "
      ]
     },
     "execution_count": 33,
     "metadata": {},
     "output_type": "execute_result"
    }
   ],
   "source": [
    "df_all_explo_strati_merge_NTS_NS.head()"
   ]
  },
  {
   "cell_type": "markdown",
   "metadata": {},
   "source": [
    "---"
   ]
  },
  {
   "cell_type": "markdown",
   "metadata": {},
   "source": [
    "Let's make a copy of our lithostratigraphy dataframe and shorten its name, then sort it by wlbName and IsuTopDepth and from South to North with wlbNsDecDeg, and finally re-index the dataframe"
   ]
  },
  {
   "cell_type": "code",
   "execution_count": 34,
   "metadata": {},
   "outputs": [],
   "source": [
    "df_strati_merge_NTS_NS_sort = df_all_explo_strati_merge_NTS_NS.copy()\n",
    "df_strati_merge_NTS_NS_sort = df_strati_merge_NTS_NS_sort.sort_values(['wlbName', 'lsuTopDepth', 'wlbNsDecDeg'])\n",
    "df_strati_merge_NTS_NS_sort = df_strati_merge_NTS_NS_sort.reset_index(drop=True)"
   ]
  },
  {
   "cell_type": "code",
   "execution_count": 35,
   "metadata": {},
   "outputs": [
    {
     "data": {
      "text/html": [
       "<div>\n",
       "<style scoped>\n",
       "    .dataframe tbody tr th:only-of-type {\n",
       "        vertical-align: middle;\n",
       "    }\n",
       "\n",
       "    .dataframe tbody tr th {\n",
       "        vertical-align: top;\n",
       "    }\n",
       "\n",
       "    .dataframe thead th {\n",
       "        text-align: right;\n",
       "    }\n",
       "</style>\n",
       "<table border=\"1\" class=\"dataframe\">\n",
       "  <thead>\n",
       "    <tr style=\"text-align: right;\">\n",
       "      <th></th>\n",
       "      <th>wlbName</th>\n",
       "      <th>wlbNpdidWellbore</th>\n",
       "      <th>lsuTopDepth</th>\n",
       "      <th>lsuBottomDepth</th>\n",
       "      <th>lsuName</th>\n",
       "      <th>lsuNameParent</th>\n",
       "      <th>lsuNpdidLithoStrat</th>\n",
       "      <th>lsuNpdidLithoStratParent</th>\n",
       "      <th>lsuLevel</th>\n",
       "      <th>datesyncNPD</th>\n",
       "      <th>wlbEwDesDeg</th>\n",
       "      <th>wlbNsDecDeg</th>\n",
       "      <th>wlbEwUtm</th>\n",
       "      <th>wlbNsUtm</th>\n",
       "      <th>wlbWellboreName</th>\n",
       "      <th>wlbMainArea</th>\n",
       "    </tr>\n",
       "  </thead>\n",
       "  <tbody>\n",
       "    <tr>\n",
       "      <th>0</th>\n",
       "      <td>1/2-1</td>\n",
       "      <td>1382</td>\n",
       "      <td>94.0</td>\n",
       "      <td>1777.0</td>\n",
       "      <td>NORDLAND GP</td>\n",
       "      <td>NaN</td>\n",
       "      <td>113</td>\n",
       "      <td>NaN</td>\n",
       "      <td>GROUP</td>\n",
       "      <td>01.04.2019</td>\n",
       "      <td>2.476583</td>\n",
       "      <td>56.887519</td>\n",
       "      <td>468106.29</td>\n",
       "      <td>6305128.26</td>\n",
       "      <td>1/2-1</td>\n",
       "      <td>NORTH SEA</td>\n",
       "    </tr>\n",
       "    <tr>\n",
       "      <th>1</th>\n",
       "      <td>1/2-1</td>\n",
       "      <td>1382</td>\n",
       "      <td>1777.0</td>\n",
       "      <td>3059.0</td>\n",
       "      <td>HORDALAND GP</td>\n",
       "      <td>NaN</td>\n",
       "      <td>67</td>\n",
       "      <td>NaN</td>\n",
       "      <td>GROUP</td>\n",
       "      <td>01.04.2019</td>\n",
       "      <td>2.476583</td>\n",
       "      <td>56.887519</td>\n",
       "      <td>468106.29</td>\n",
       "      <td>6305128.26</td>\n",
       "      <td>1/2-1</td>\n",
       "      <td>NORTH SEA</td>\n",
       "    </tr>\n",
       "    <tr>\n",
       "      <th>2</th>\n",
       "      <td>1/2-1</td>\n",
       "      <td>1382</td>\n",
       "      <td>3059.0</td>\n",
       "      <td>3407.0</td>\n",
       "      <td>ROGALAND GP</td>\n",
       "      <td>NaN</td>\n",
       "      <td>131</td>\n",
       "      <td>NaN</td>\n",
       "      <td>GROUP</td>\n",
       "      <td>01.04.2019</td>\n",
       "      <td>2.476583</td>\n",
       "      <td>56.887519</td>\n",
       "      <td>468106.29</td>\n",
       "      <td>6305128.26</td>\n",
       "      <td>1/2-1</td>\n",
       "      <td>NORTH SEA</td>\n",
       "    </tr>\n",
       "    <tr>\n",
       "      <th>3</th>\n",
       "      <td>1/2-1</td>\n",
       "      <td>1382</td>\n",
       "      <td>3059.0</td>\n",
       "      <td>3121.0</td>\n",
       "      <td>BALDER FM</td>\n",
       "      <td>ROGALAND GP</td>\n",
       "      <td>6</td>\n",
       "      <td>131</td>\n",
       "      <td>FORMATION</td>\n",
       "      <td>01.04.2019</td>\n",
       "      <td>2.476583</td>\n",
       "      <td>56.887519</td>\n",
       "      <td>468106.29</td>\n",
       "      <td>6305128.26</td>\n",
       "      <td>1/2-1</td>\n",
       "      <td>NORTH SEA</td>\n",
       "    </tr>\n",
       "    <tr>\n",
       "      <th>4</th>\n",
       "      <td>1/2-1</td>\n",
       "      <td>1382</td>\n",
       "      <td>3121.0</td>\n",
       "      <td>3275.0</td>\n",
       "      <td>FORTIES FM</td>\n",
       "      <td>ROGALAND GP</td>\n",
       "      <td>44</td>\n",
       "      <td>131</td>\n",
       "      <td>FORMATION</td>\n",
       "      <td>01.04.2019</td>\n",
       "      <td>2.476583</td>\n",
       "      <td>56.887519</td>\n",
       "      <td>468106.29</td>\n",
       "      <td>6305128.26</td>\n",
       "      <td>1/2-1</td>\n",
       "      <td>NORTH SEA</td>\n",
       "    </tr>\n",
       "  </tbody>\n",
       "</table>\n",
       "</div>"
      ],
      "text/plain": [
       "  wlbName  wlbNpdidWellbore  lsuTopDepth  lsuBottomDepth       lsuName  \\\n",
       "0   1/2-1              1382         94.0          1777.0   NORDLAND GP   \n",
       "1   1/2-1              1382       1777.0          3059.0  HORDALAND GP   \n",
       "2   1/2-1              1382       3059.0          3407.0   ROGALAND GP   \n",
       "3   1/2-1              1382       3059.0          3121.0     BALDER FM   \n",
       "4   1/2-1              1382       3121.0          3275.0    FORTIES FM   \n",
       "\n",
       "  lsuNameParent  lsuNpdidLithoStrat lsuNpdidLithoStratParent   lsuLevel  \\\n",
       "0           NaN                 113                      NaN      GROUP   \n",
       "1           NaN                  67                      NaN      GROUP   \n",
       "2           NaN                 131                      NaN      GROUP   \n",
       "3   ROGALAND GP                   6                      131  FORMATION   \n",
       "4   ROGALAND GP                  44                      131  FORMATION   \n",
       "\n",
       "  datesyncNPD  wlbEwDesDeg  wlbNsDecDeg   wlbEwUtm    wlbNsUtm  \\\n",
       "0  01.04.2019     2.476583    56.887519  468106.29  6305128.26   \n",
       "1  01.04.2019     2.476583    56.887519  468106.29  6305128.26   \n",
       "2  01.04.2019     2.476583    56.887519  468106.29  6305128.26   \n",
       "3  01.04.2019     2.476583    56.887519  468106.29  6305128.26   \n",
       "4  01.04.2019     2.476583    56.887519  468106.29  6305128.26   \n",
       "\n",
       "  wlbWellboreName wlbMainArea  \n",
       "0           1/2-1   NORTH SEA  \n",
       "1           1/2-1   NORTH SEA  \n",
       "2           1/2-1   NORTH SEA  \n",
       "3           1/2-1   NORTH SEA  \n",
       "4           1/2-1   NORTH SEA  "
      ]
     },
     "execution_count": 35,
     "metadata": {},
     "output_type": "execute_result"
    }
   ],
   "source": [
    "df_strati_merge_NTS_NS_sort.head()"
   ]
  },
  {
   "cell_type": "code",
   "execution_count": 36,
   "metadata": {},
   "outputs": [
    {
     "data": {
      "text/plain": [
       "(33419, 16)"
      ]
     },
     "execution_count": 36,
     "metadata": {},
     "output_type": "execute_result"
    }
   ],
   "source": [
    "df_strati_merge_NTS_NS_sort.shape"
   ]
  },
  {
   "cell_type": "markdown",
   "metadata": {},
   "source": [
    "We will now remove all rows with 'IsuLevel' == GROUP so that we have only Formations and their corresponding depths. Groups names are in the column 'IsuNameParent' as well. We'll keep that column. We then re-index the dataframe."
   ]
  },
  {
   "cell_type": "code",
   "execution_count": 37,
   "metadata": {},
   "outputs": [],
   "source": [
    "df_strati_merge_NTS_NS_formations = df_strati_merge_NTS_NS_sort[df_strati_merge_NTS_NS_sort.lsuLevel != 'GROUP']\n",
    "df_strati_merge_NTS_NS_formations = df_strati_merge_NTS_NS_formations.reset_index(drop=True)"
   ]
  },
  {
   "cell_type": "code",
   "execution_count": 38,
   "metadata": {},
   "outputs": [
    {
     "data": {
      "text/html": [
       "<div>\n",
       "<style scoped>\n",
       "    .dataframe tbody tr th:only-of-type {\n",
       "        vertical-align: middle;\n",
       "    }\n",
       "\n",
       "    .dataframe tbody tr th {\n",
       "        vertical-align: top;\n",
       "    }\n",
       "\n",
       "    .dataframe thead th {\n",
       "        text-align: right;\n",
       "    }\n",
       "</style>\n",
       "<table border=\"1\" class=\"dataframe\">\n",
       "  <thead>\n",
       "    <tr style=\"text-align: right;\">\n",
       "      <th></th>\n",
       "      <th>wlbName</th>\n",
       "      <th>wlbNpdidWellbore</th>\n",
       "      <th>lsuTopDepth</th>\n",
       "      <th>lsuBottomDepth</th>\n",
       "      <th>lsuName</th>\n",
       "      <th>lsuNameParent</th>\n",
       "      <th>lsuNpdidLithoStrat</th>\n",
       "      <th>lsuNpdidLithoStratParent</th>\n",
       "      <th>lsuLevel</th>\n",
       "      <th>datesyncNPD</th>\n",
       "      <th>wlbEwDesDeg</th>\n",
       "      <th>wlbNsDecDeg</th>\n",
       "      <th>wlbEwUtm</th>\n",
       "      <th>wlbNsUtm</th>\n",
       "      <th>wlbWellboreName</th>\n",
       "      <th>wlbMainArea</th>\n",
       "    </tr>\n",
       "  </thead>\n",
       "  <tbody>\n",
       "    <tr>\n",
       "      <th>0</th>\n",
       "      <td>1/2-1</td>\n",
       "      <td>1382</td>\n",
       "      <td>3059.0</td>\n",
       "      <td>3121.0</td>\n",
       "      <td>BALDER FM</td>\n",
       "      <td>ROGALAND GP</td>\n",
       "      <td>6</td>\n",
       "      <td>131</td>\n",
       "      <td>FORMATION</td>\n",
       "      <td>01.04.2019</td>\n",
       "      <td>2.476583</td>\n",
       "      <td>56.887519</td>\n",
       "      <td>468106.29</td>\n",
       "      <td>6305128.26</td>\n",
       "      <td>1/2-1</td>\n",
       "      <td>NORTH SEA</td>\n",
       "    </tr>\n",
       "    <tr>\n",
       "      <th>1</th>\n",
       "      <td>1/2-1</td>\n",
       "      <td>1382</td>\n",
       "      <td>3121.0</td>\n",
       "      <td>3275.0</td>\n",
       "      <td>FORTIES FM</td>\n",
       "      <td>ROGALAND GP</td>\n",
       "      <td>44</td>\n",
       "      <td>131</td>\n",
       "      <td>FORMATION</td>\n",
       "      <td>01.04.2019</td>\n",
       "      <td>2.476583</td>\n",
       "      <td>56.887519</td>\n",
       "      <td>468106.29</td>\n",
       "      <td>6305128.26</td>\n",
       "      <td>1/2-1</td>\n",
       "      <td>NORTH SEA</td>\n",
       "    </tr>\n",
       "    <tr>\n",
       "      <th>2</th>\n",
       "      <td>1/2-1</td>\n",
       "      <td>1382</td>\n",
       "      <td>3275.0</td>\n",
       "      <td>3335.0</td>\n",
       "      <td>LISTA FM</td>\n",
       "      <td>ROGALAND GP</td>\n",
       "      <td>95</td>\n",
       "      <td>131</td>\n",
       "      <td>FORMATION</td>\n",
       "      <td>01.04.2019</td>\n",
       "      <td>2.476583</td>\n",
       "      <td>56.887519</td>\n",
       "      <td>468106.29</td>\n",
       "      <td>6305128.26</td>\n",
       "      <td>1/2-1</td>\n",
       "      <td>NORTH SEA</td>\n",
       "    </tr>\n",
       "    <tr>\n",
       "      <th>3</th>\n",
       "      <td>1/2-1</td>\n",
       "      <td>1382</td>\n",
       "      <td>3335.0</td>\n",
       "      <td>3407.0</td>\n",
       "      <td>MAUREEN FM</td>\n",
       "      <td>ROGALAND GP</td>\n",
       "      <td>102</td>\n",
       "      <td>131</td>\n",
       "      <td>FORMATION</td>\n",
       "      <td>01.04.2019</td>\n",
       "      <td>2.476583</td>\n",
       "      <td>56.887519</td>\n",
       "      <td>468106.29</td>\n",
       "      <td>6305128.26</td>\n",
       "      <td>1/2-1</td>\n",
       "      <td>NORTH SEA</td>\n",
       "    </tr>\n",
       "    <tr>\n",
       "      <th>4</th>\n",
       "      <td>1/2-1</td>\n",
       "      <td>1382</td>\n",
       "      <td>3407.0</td>\n",
       "      <td>3514.0</td>\n",
       "      <td>EKOFISK FM</td>\n",
       "      <td>SHETLAND GP</td>\n",
       "      <td>33</td>\n",
       "      <td>143</td>\n",
       "      <td>FORMATION</td>\n",
       "      <td>01.04.2019</td>\n",
       "      <td>2.476583</td>\n",
       "      <td>56.887519</td>\n",
       "      <td>468106.29</td>\n",
       "      <td>6305128.26</td>\n",
       "      <td>1/2-1</td>\n",
       "      <td>NORTH SEA</td>\n",
       "    </tr>\n",
       "  </tbody>\n",
       "</table>\n",
       "</div>"
      ],
      "text/plain": [
       "  wlbName  wlbNpdidWellbore  lsuTopDepth  lsuBottomDepth     lsuName  \\\n",
       "0   1/2-1              1382       3059.0          3121.0   BALDER FM   \n",
       "1   1/2-1              1382       3121.0          3275.0  FORTIES FM   \n",
       "2   1/2-1              1382       3275.0          3335.0    LISTA FM   \n",
       "3   1/2-1              1382       3335.0          3407.0  MAUREEN FM   \n",
       "4   1/2-1              1382       3407.0          3514.0  EKOFISK FM   \n",
       "\n",
       "  lsuNameParent  lsuNpdidLithoStrat lsuNpdidLithoStratParent   lsuLevel  \\\n",
       "0   ROGALAND GP                   6                      131  FORMATION   \n",
       "1   ROGALAND GP                  44                      131  FORMATION   \n",
       "2   ROGALAND GP                  95                      131  FORMATION   \n",
       "3   ROGALAND GP                 102                      131  FORMATION   \n",
       "4   SHETLAND GP                  33                      143  FORMATION   \n",
       "\n",
       "  datesyncNPD  wlbEwDesDeg  wlbNsDecDeg   wlbEwUtm    wlbNsUtm  \\\n",
       "0  01.04.2019     2.476583    56.887519  468106.29  6305128.26   \n",
       "1  01.04.2019     2.476583    56.887519  468106.29  6305128.26   \n",
       "2  01.04.2019     2.476583    56.887519  468106.29  6305128.26   \n",
       "3  01.04.2019     2.476583    56.887519  468106.29  6305128.26   \n",
       "4  01.04.2019     2.476583    56.887519  468106.29  6305128.26   \n",
       "\n",
       "  wlbWellboreName wlbMainArea  \n",
       "0           1/2-1   NORTH SEA  \n",
       "1           1/2-1   NORTH SEA  \n",
       "2           1/2-1   NORTH SEA  \n",
       "3           1/2-1   NORTH SEA  \n",
       "4           1/2-1   NORTH SEA  "
      ]
     },
     "execution_count": 38,
     "metadata": {},
     "output_type": "execute_result"
    }
   ],
   "source": [
    "df_strati_merge_NTS_NS_formations.head()"
   ]
  },
  {
   "cell_type": "markdown",
   "metadata": {},
   "source": [
    "How many wells do we have now?"
   ]
  },
  {
   "cell_type": "code",
   "execution_count": 39,
   "metadata": {},
   "outputs": [
    {
     "data": {
      "text/plain": [
       "1563"
      ]
     },
     "execution_count": 39,
     "metadata": {},
     "output_type": "execute_result"
    }
   ],
   "source": [
    "len(df_strati_merge_NTS_NS_formations.wlbName.unique())"
   ]
  },
  {
   "cell_type": "markdown",
   "metadata": {},
   "source": [
    "We see that we have less wells now that we have removed the 'Group' level in column 'lsuLevel'. It means that some wells had only Groups without any Formations."
   ]
  },
  {
   "cell_type": "markdown",
   "metadata": {},
   "source": [
    "let's check out how many Groups we have in 'IsuNameParent'"
   ]
  },
  {
   "cell_type": "code",
   "execution_count": 40,
   "metadata": {},
   "outputs": [
    {
     "data": {
      "text/plain": [
       "array(['ROGALAND GP', 'SHETLAND GP', 'CROMER KNOLL GP', 'HORDALAND GP',\n",
       "       nan, 'TYNE GP', 'HEGRE GP', 'VESTLAND GP', 'BOKNFJORD GP',\n",
       "       'NORDLAND GP', 'VIKING GP', 'DUNLIN GP', 'FLADEN GP',\n",
       "       'ZECHSTEIN GP', 'HEIMDAL FM', 'STATFJORD GP', 'BRENT GP',\n",
       "       'FANGST GP', 'BÅT GP'], dtype=object)"
      ]
     },
     "execution_count": 40,
     "metadata": {},
     "output_type": "execute_result"
    }
   ],
   "source": [
    "df_strati_merge_NTS_NS_formations['lsuNameParent'].unique()"
   ]
  },
  {
   "cell_type": "markdown",
   "metadata": {},
   "source": [
    "Let's create a dictionary with Age and Groups (from 'IsuNameParent' column), and create a new dataframe with Group and Age."
   ]
  },
  {
   "cell_type": "code",
   "execution_count": 41,
   "metadata": {},
   "outputs": [],
   "source": [
    "age_dict = {'Paleocene': ['ROGALAND GP', 'HORDALAND GP', 'NORDLAND GP', 'HEIMDAL FM', 'FLADEN GP'],\n",
    "            'Cretaceous': ['SHETLAND GP', 'CROMER KNOLL GP'],\n",
    "            'Jurassic': ['VIKING GP', 'BRENT GP', 'DUNLIN GP', 'TYNE GP', 'VESTLAND GP', 'BOKNFJORD GP',\n",
    "                        'FANGST GP', 'BÅT GP'],\n",
    "            'Triassic': ['HEGRE GP', 'STATFJORD GP'],\n",
    "            'Permian': ['ZECHSTEIN GP']}"
   ]
  },
  {
   "cell_type": "code",
   "execution_count": 42,
   "metadata": {},
   "outputs": [],
   "source": [
    "age_dat = [[group, age]\n",
    "           for age, groups in age_dict.items()\n",
    "           for group in groups]\n",
    "df_ages = pd.DataFrame(age_dat, columns=['group', 'age'])"
   ]
  },
  {
   "cell_type": "code",
   "execution_count": 43,
   "metadata": {},
   "outputs": [
    {
     "data": {
      "text/html": [
       "<div>\n",
       "<style scoped>\n",
       "    .dataframe tbody tr th:only-of-type {\n",
       "        vertical-align: middle;\n",
       "    }\n",
       "\n",
       "    .dataframe tbody tr th {\n",
       "        vertical-align: top;\n",
       "    }\n",
       "\n",
       "    .dataframe thead th {\n",
       "        text-align: right;\n",
       "    }\n",
       "</style>\n",
       "<table border=\"1\" class=\"dataframe\">\n",
       "  <thead>\n",
       "    <tr style=\"text-align: right;\">\n",
       "      <th></th>\n",
       "      <th>group</th>\n",
       "      <th>age</th>\n",
       "    </tr>\n",
       "  </thead>\n",
       "  <tbody>\n",
       "    <tr>\n",
       "      <th>0</th>\n",
       "      <td>ROGALAND GP</td>\n",
       "      <td>Paleocene</td>\n",
       "    </tr>\n",
       "    <tr>\n",
       "      <th>1</th>\n",
       "      <td>HORDALAND GP</td>\n",
       "      <td>Paleocene</td>\n",
       "    </tr>\n",
       "    <tr>\n",
       "      <th>2</th>\n",
       "      <td>NORDLAND GP</td>\n",
       "      <td>Paleocene</td>\n",
       "    </tr>\n",
       "    <tr>\n",
       "      <th>3</th>\n",
       "      <td>HEIMDAL FM</td>\n",
       "      <td>Paleocene</td>\n",
       "    </tr>\n",
       "    <tr>\n",
       "      <th>4</th>\n",
       "      <td>FLADEN GP</td>\n",
       "      <td>Paleocene</td>\n",
       "    </tr>\n",
       "    <tr>\n",
       "      <th>5</th>\n",
       "      <td>SHETLAND GP</td>\n",
       "      <td>Cretaceous</td>\n",
       "    </tr>\n",
       "    <tr>\n",
       "      <th>6</th>\n",
       "      <td>CROMER KNOLL GP</td>\n",
       "      <td>Cretaceous</td>\n",
       "    </tr>\n",
       "    <tr>\n",
       "      <th>7</th>\n",
       "      <td>VIKING GP</td>\n",
       "      <td>Jurassic</td>\n",
       "    </tr>\n",
       "    <tr>\n",
       "      <th>8</th>\n",
       "      <td>BRENT GP</td>\n",
       "      <td>Jurassic</td>\n",
       "    </tr>\n",
       "    <tr>\n",
       "      <th>9</th>\n",
       "      <td>DUNLIN GP</td>\n",
       "      <td>Jurassic</td>\n",
       "    </tr>\n",
       "    <tr>\n",
       "      <th>10</th>\n",
       "      <td>TYNE GP</td>\n",
       "      <td>Jurassic</td>\n",
       "    </tr>\n",
       "    <tr>\n",
       "      <th>11</th>\n",
       "      <td>VESTLAND GP</td>\n",
       "      <td>Jurassic</td>\n",
       "    </tr>\n",
       "    <tr>\n",
       "      <th>12</th>\n",
       "      <td>BOKNFJORD GP</td>\n",
       "      <td>Jurassic</td>\n",
       "    </tr>\n",
       "    <tr>\n",
       "      <th>13</th>\n",
       "      <td>FANGST GP</td>\n",
       "      <td>Jurassic</td>\n",
       "    </tr>\n",
       "    <tr>\n",
       "      <th>14</th>\n",
       "      <td>BÅT GP</td>\n",
       "      <td>Jurassic</td>\n",
       "    </tr>\n",
       "    <tr>\n",
       "      <th>15</th>\n",
       "      <td>HEGRE GP</td>\n",
       "      <td>Triassic</td>\n",
       "    </tr>\n",
       "    <tr>\n",
       "      <th>16</th>\n",
       "      <td>STATFJORD GP</td>\n",
       "      <td>Triassic</td>\n",
       "    </tr>\n",
       "    <tr>\n",
       "      <th>17</th>\n",
       "      <td>ZECHSTEIN GP</td>\n",
       "      <td>Permian</td>\n",
       "    </tr>\n",
       "  </tbody>\n",
       "</table>\n",
       "</div>"
      ],
      "text/plain": [
       "              group         age\n",
       "0       ROGALAND GP   Paleocene\n",
       "1      HORDALAND GP   Paleocene\n",
       "2       NORDLAND GP   Paleocene\n",
       "3        HEIMDAL FM   Paleocene\n",
       "4         FLADEN GP   Paleocene\n",
       "5       SHETLAND GP  Cretaceous\n",
       "6   CROMER KNOLL GP  Cretaceous\n",
       "7         VIKING GP    Jurassic\n",
       "8          BRENT GP    Jurassic\n",
       "9         DUNLIN GP    Jurassic\n",
       "10          TYNE GP    Jurassic\n",
       "11      VESTLAND GP    Jurassic\n",
       "12     BOKNFJORD GP    Jurassic\n",
       "13        FANGST GP    Jurassic\n",
       "14           BÅT GP    Jurassic\n",
       "15         HEGRE GP    Triassic\n",
       "16     STATFJORD GP    Triassic\n",
       "17     ZECHSTEIN GP     Permian"
      ]
     },
     "execution_count": 43,
     "metadata": {},
     "output_type": "execute_result"
    }
   ],
   "source": [
    "df_ages"
   ]
  },
  {
   "cell_type": "code",
   "execution_count": 44,
   "metadata": {},
   "outputs": [],
   "source": [
    "# let's first copy the well lithostratigraphy frame\n",
    "df_strati_NTS_NS_age = df_strati_merge_NTS_NS_formations.copy()"
   ]
  },
  {
   "cell_type": "code",
   "execution_count": 45,
   "metadata": {},
   "outputs": [
    {
     "data": {
      "text/plain": [
       "(22589, 16)"
      ]
     },
     "execution_count": 45,
     "metadata": {},
     "output_type": "execute_result"
    }
   ],
   "source": [
    "df_strati_NTS_NS_age.shape"
   ]
  },
  {
   "cell_type": "markdown",
   "metadata": {},
   "source": [
    "We are now adding 'age' from dataframe df_ages into our lithostratigraphy dataframe 'df_strati_NTS_NS'"
   ]
  },
  {
   "cell_type": "code",
   "execution_count": 46,
   "metadata": {},
   "outputs": [],
   "source": [
    "df_strati_NTS_NS_age['age'] = df_strati_NTS_NS_age['lsuNameParent'].map(df_ages.set_index('group')['age'])"
   ]
  },
  {
   "cell_type": "markdown",
   "metadata": {},
   "source": [
    "Let's place the new column 'age' besides column 'lsuNameParent'."
   ]
  },
  {
   "cell_type": "code",
   "execution_count": 47,
   "metadata": {},
   "outputs": [],
   "source": [
    "df_strati_NTS_NS_age = df_strati_NTS_NS_age[['wlbName', 'wlbNpdidWellbore', 'lsuTopDepth', 'lsuBottomDepth',\n",
    "       'lsuName', 'lsuNameParent', 'age', 'lsuNpdidLithoStrat',\n",
    "       'lsuNpdidLithoStratParent', 'lsuLevel', 'datesyncNPD', 'wlbEwDesDeg',\n",
    "       'wlbNsDecDeg', 'wlbEwUtm', 'wlbNsUtm', 'wlbWellboreName', 'wlbMainArea']]"
   ]
  },
  {
   "cell_type": "code",
   "execution_count": 48,
   "metadata": {},
   "outputs": [
    {
     "data": {
      "text/html": [
       "<div>\n",
       "<style scoped>\n",
       "    .dataframe tbody tr th:only-of-type {\n",
       "        vertical-align: middle;\n",
       "    }\n",
       "\n",
       "    .dataframe tbody tr th {\n",
       "        vertical-align: top;\n",
       "    }\n",
       "\n",
       "    .dataframe thead th {\n",
       "        text-align: right;\n",
       "    }\n",
       "</style>\n",
       "<table border=\"1\" class=\"dataframe\">\n",
       "  <thead>\n",
       "    <tr style=\"text-align: right;\">\n",
       "      <th></th>\n",
       "      <th>wlbName</th>\n",
       "      <th>wlbNpdidWellbore</th>\n",
       "      <th>lsuTopDepth</th>\n",
       "      <th>lsuBottomDepth</th>\n",
       "      <th>lsuName</th>\n",
       "      <th>lsuNameParent</th>\n",
       "      <th>age</th>\n",
       "      <th>lsuNpdidLithoStrat</th>\n",
       "      <th>lsuNpdidLithoStratParent</th>\n",
       "      <th>lsuLevel</th>\n",
       "      <th>datesyncNPD</th>\n",
       "      <th>wlbEwDesDeg</th>\n",
       "      <th>wlbNsDecDeg</th>\n",
       "      <th>wlbEwUtm</th>\n",
       "      <th>wlbNsUtm</th>\n",
       "      <th>wlbWellboreName</th>\n",
       "      <th>wlbMainArea</th>\n",
       "    </tr>\n",
       "  </thead>\n",
       "  <tbody>\n",
       "    <tr>\n",
       "      <th>0</th>\n",
       "      <td>1/2-1</td>\n",
       "      <td>1382</td>\n",
       "      <td>3059.0</td>\n",
       "      <td>3121.0</td>\n",
       "      <td>BALDER FM</td>\n",
       "      <td>ROGALAND GP</td>\n",
       "      <td>Paleocene</td>\n",
       "      <td>6</td>\n",
       "      <td>131</td>\n",
       "      <td>FORMATION</td>\n",
       "      <td>01.04.2019</td>\n",
       "      <td>2.476583</td>\n",
       "      <td>56.887519</td>\n",
       "      <td>468106.29</td>\n",
       "      <td>6305128.26</td>\n",
       "      <td>1/2-1</td>\n",
       "      <td>NORTH SEA</td>\n",
       "    </tr>\n",
       "    <tr>\n",
       "      <th>1</th>\n",
       "      <td>1/2-1</td>\n",
       "      <td>1382</td>\n",
       "      <td>3121.0</td>\n",
       "      <td>3275.0</td>\n",
       "      <td>FORTIES FM</td>\n",
       "      <td>ROGALAND GP</td>\n",
       "      <td>Paleocene</td>\n",
       "      <td>44</td>\n",
       "      <td>131</td>\n",
       "      <td>FORMATION</td>\n",
       "      <td>01.04.2019</td>\n",
       "      <td>2.476583</td>\n",
       "      <td>56.887519</td>\n",
       "      <td>468106.29</td>\n",
       "      <td>6305128.26</td>\n",
       "      <td>1/2-1</td>\n",
       "      <td>NORTH SEA</td>\n",
       "    </tr>\n",
       "    <tr>\n",
       "      <th>2</th>\n",
       "      <td>1/2-1</td>\n",
       "      <td>1382</td>\n",
       "      <td>3275.0</td>\n",
       "      <td>3335.0</td>\n",
       "      <td>LISTA FM</td>\n",
       "      <td>ROGALAND GP</td>\n",
       "      <td>Paleocene</td>\n",
       "      <td>95</td>\n",
       "      <td>131</td>\n",
       "      <td>FORMATION</td>\n",
       "      <td>01.04.2019</td>\n",
       "      <td>2.476583</td>\n",
       "      <td>56.887519</td>\n",
       "      <td>468106.29</td>\n",
       "      <td>6305128.26</td>\n",
       "      <td>1/2-1</td>\n",
       "      <td>NORTH SEA</td>\n",
       "    </tr>\n",
       "    <tr>\n",
       "      <th>3</th>\n",
       "      <td>1/2-1</td>\n",
       "      <td>1382</td>\n",
       "      <td>3335.0</td>\n",
       "      <td>3407.0</td>\n",
       "      <td>MAUREEN FM</td>\n",
       "      <td>ROGALAND GP</td>\n",
       "      <td>Paleocene</td>\n",
       "      <td>102</td>\n",
       "      <td>131</td>\n",
       "      <td>FORMATION</td>\n",
       "      <td>01.04.2019</td>\n",
       "      <td>2.476583</td>\n",
       "      <td>56.887519</td>\n",
       "      <td>468106.29</td>\n",
       "      <td>6305128.26</td>\n",
       "      <td>1/2-1</td>\n",
       "      <td>NORTH SEA</td>\n",
       "    </tr>\n",
       "    <tr>\n",
       "      <th>4</th>\n",
       "      <td>1/2-1</td>\n",
       "      <td>1382</td>\n",
       "      <td>3407.0</td>\n",
       "      <td>3514.0</td>\n",
       "      <td>EKOFISK FM</td>\n",
       "      <td>SHETLAND GP</td>\n",
       "      <td>Cretaceous</td>\n",
       "      <td>33</td>\n",
       "      <td>143</td>\n",
       "      <td>FORMATION</td>\n",
       "      <td>01.04.2019</td>\n",
       "      <td>2.476583</td>\n",
       "      <td>56.887519</td>\n",
       "      <td>468106.29</td>\n",
       "      <td>6305128.26</td>\n",
       "      <td>1/2-1</td>\n",
       "      <td>NORTH SEA</td>\n",
       "    </tr>\n",
       "  </tbody>\n",
       "</table>\n",
       "</div>"
      ],
      "text/plain": [
       "  wlbName  wlbNpdidWellbore  lsuTopDepth  lsuBottomDepth     lsuName  \\\n",
       "0   1/2-1              1382       3059.0          3121.0   BALDER FM   \n",
       "1   1/2-1              1382       3121.0          3275.0  FORTIES FM   \n",
       "2   1/2-1              1382       3275.0          3335.0    LISTA FM   \n",
       "3   1/2-1              1382       3335.0          3407.0  MAUREEN FM   \n",
       "4   1/2-1              1382       3407.0          3514.0  EKOFISK FM   \n",
       "\n",
       "  lsuNameParent         age  lsuNpdidLithoStrat lsuNpdidLithoStratParent  \\\n",
       "0   ROGALAND GP   Paleocene                   6                      131   \n",
       "1   ROGALAND GP   Paleocene                  44                      131   \n",
       "2   ROGALAND GP   Paleocene                  95                      131   \n",
       "3   ROGALAND GP   Paleocene                 102                      131   \n",
       "4   SHETLAND GP  Cretaceous                  33                      143   \n",
       "\n",
       "    lsuLevel datesyncNPD  wlbEwDesDeg  wlbNsDecDeg   wlbEwUtm    wlbNsUtm  \\\n",
       "0  FORMATION  01.04.2019     2.476583    56.887519  468106.29  6305128.26   \n",
       "1  FORMATION  01.04.2019     2.476583    56.887519  468106.29  6305128.26   \n",
       "2  FORMATION  01.04.2019     2.476583    56.887519  468106.29  6305128.26   \n",
       "3  FORMATION  01.04.2019     2.476583    56.887519  468106.29  6305128.26   \n",
       "4  FORMATION  01.04.2019     2.476583    56.887519  468106.29  6305128.26   \n",
       "\n",
       "  wlbWellboreName wlbMainArea  \n",
       "0           1/2-1   NORTH SEA  \n",
       "1           1/2-1   NORTH SEA  \n",
       "2           1/2-1   NORTH SEA  \n",
       "3           1/2-1   NORTH SEA  \n",
       "4           1/2-1   NORTH SEA  "
      ]
     },
     "execution_count": 48,
     "metadata": {},
     "output_type": "execute_result"
    }
   ],
   "source": [
    "df_strati_NTS_NS_age.head()"
   ]
  },
  {
   "cell_type": "markdown",
   "metadata": {},
   "source": [
    "Let's have an overview over our well distribution for each age."
   ]
  },
  {
   "cell_type": "code",
   "execution_count": 49,
   "metadata": {},
   "outputs": [],
   "source": [
    "# how many wells for each age?\n",
    "df_count = df_strati_NTS_NS_age.groupby('age')['wlbName'].unique()\n",
    "df_count = pd.DataFrame(df_count).reset_index(drop=False)\n",
    "df_count['nb_of_wells'] = df_count['wlbName'].str.len()"
   ]
  },
  {
   "cell_type": "code",
   "execution_count": 50,
   "metadata": {},
   "outputs": [
    {
     "data": {
      "text/html": [
       "<div>\n",
       "<style scoped>\n",
       "    .dataframe tbody tr th:only-of-type {\n",
       "        vertical-align: middle;\n",
       "    }\n",
       "\n",
       "    .dataframe tbody tr th {\n",
       "        vertical-align: top;\n",
       "    }\n",
       "\n",
       "    .dataframe thead th {\n",
       "        text-align: right;\n",
       "    }\n",
       "</style>\n",
       "<table border=\"1\" class=\"dataframe\">\n",
       "  <thead>\n",
       "    <tr style=\"text-align: right;\">\n",
       "      <th></th>\n",
       "      <th>age</th>\n",
       "      <th>wlbName</th>\n",
       "      <th>nb_of_wells</th>\n",
       "    </tr>\n",
       "  </thead>\n",
       "  <tbody>\n",
       "    <tr>\n",
       "      <th>0</th>\n",
       "      <td>Cretaceous</td>\n",
       "      <td>[1/2-1, 1/2-2, 1/3-1, 1/3-11, 1/3-12 S, 1/3-2,...</td>\n",
       "      <td>1243</td>\n",
       "    </tr>\n",
       "    <tr>\n",
       "      <th>1</th>\n",
       "      <td>Jurassic</td>\n",
       "      <td>[1/3-12 S, 1/3-3, 1/3-8, 1/3-9 S, 1/5-5, 1/6-6...</td>\n",
       "      <td>1151</td>\n",
       "    </tr>\n",
       "    <tr>\n",
       "      <th>2</th>\n",
       "      <td>Paleocene</td>\n",
       "      <td>[1/2-1, 1/2-2, 1/3-1, 1/3-10, 1/3-10 A, 1/3-11...</td>\n",
       "      <td>1549</td>\n",
       "    </tr>\n",
       "    <tr>\n",
       "      <th>3</th>\n",
       "      <td>Permian</td>\n",
       "      <td>[15/9-16, 15/9-9, 16/1-2, 16/1-3, 16/2-7, 16/3...</td>\n",
       "      <td>22</td>\n",
       "    </tr>\n",
       "    <tr>\n",
       "      <th>4</th>\n",
       "      <td>Triassic</td>\n",
       "      <td>[1/3-12 S, 1/3-3, 1/3-8, 1/6-6, 1/9-7, 10/5-1,...</td>\n",
       "      <td>379</td>\n",
       "    </tr>\n",
       "  </tbody>\n",
       "</table>\n",
       "</div>"
      ],
      "text/plain": [
       "          age                                            wlbName  nb_of_wells\n",
       "0  Cretaceous  [1/2-1, 1/2-2, 1/3-1, 1/3-11, 1/3-12 S, 1/3-2,...         1243\n",
       "1    Jurassic  [1/3-12 S, 1/3-3, 1/3-8, 1/3-9 S, 1/5-5, 1/6-6...         1151\n",
       "2   Paleocene  [1/2-1, 1/2-2, 1/3-1, 1/3-10, 1/3-10 A, 1/3-11...         1549\n",
       "3     Permian  [15/9-16, 15/9-9, 16/1-2, 16/1-3, 16/2-7, 16/3...           22\n",
       "4    Triassic  [1/3-12 S, 1/3-3, 1/3-8, 1/6-6, 1/9-7, 10/5-1,...          379"
      ]
     },
     "execution_count": 50,
     "metadata": {},
     "output_type": "execute_result"
    }
   ],
   "source": [
    "df_count"
   ]
  },
  {
   "cell_type": "code",
   "execution_count": 51,
   "metadata": {},
   "outputs": [
    {
     "data": {
      "application/javascript": [
       "var spec = {\"config\": {\"view\": {\"width\": 400, \"height\": 300}}, \"data\": {\"name\": \"data-898aa5a10681cba8df0a27591effe014\"}, \"mark\": \"bar\", \"encoding\": {\"color\": {\"value\": \"brown\"}, \"x\": {\"type\": \"quantitative\", \"field\": \"nb_of_wells\"}, \"y\": {\"type\": \"nominal\", \"field\": \"age\", \"sort\": {\"op\": \"sum\", \"field\": \"nb_of_wells\", \"order\": \"descending\"}}}, \"height\": 150, \"width\": 500, \"$schema\": \"https://vega.github.io/schema/vega-lite/v2.6.0.json\", \"datasets\": {\"data-898aa5a10681cba8df0a27591effe014\": [{\"age\": \"Cretaceous\", \"wlbName\": [\"1/2-1\", \"1/2-2\", \"1/3-1\", \"1/3-11\", \"1/3-12 S\", \"1/3-2\", \"1/3-3\", \"1/3-4\", \"1/3-5\", \"1/3-6\", \"1/3-8\", \"1/3-9 S\", \"1/5-2\", \"1/5-4 S\", \"1/5-5\", \"1/6-1\", \"1/6-2\", \"1/6-3\", \"1/6-4\", \"1/6-5\", \"1/6-6\", \"1/6-7\", \"1/9-1\", \"1/9-1 R\", \"1/9-2\", \"1/9-3 R\", \"1/9-4\", \"1/9-4 R\", \"1/9-5\", \"1/9-6 S\", \"1/9-7\", \"10/4-1\", \"10/5-1\", \"10/8-1\", \"11/10-1\", \"11/5-1\", \"15/12-1\", \"15/12-10 S\", \"15/12-11 S\", \"15/12-12\", \"15/12-16 S\", \"15/12-17 A\", \"15/12-17 S\", \"15/12-18 A\", \"15/12-18 S\", \"15/12-19\", \"15/12-2\", \"15/12-20 S\", \"15/12-21\", \"15/12-21 A\", \"15/12-22\", \"15/12-23\", \"15/12-23 A\", \"15/12-24 S\", \"15/12-3\", \"15/12-4\", \"15/12-5\", \"15/12-6 S\", \"15/12-7 S\", \"15/12-8\", \"15/12-8 A\", \"15/12-9 S\", \"15/2-1\", \"15/3-1 S\", \"15/3-3\", \"15/3-4\", \"15/3-5\", \"15/3-6\", \"15/3-7\", \"15/3-8\", \"15/3-9\", \"15/5-1\", \"15/5-2\", \"15/5-3\", \"15/5-5\", \"15/5-6\", \"15/5-7\", \"15/5-7 A\", \"15/6-10\", \"15/6-11 A\", \"15/6-11 S\", \"15/6-12\", \"15/6-13\", \"15/6-13 A\", \"15/6-13 B\", \"15/6-4\", \"15/6-5\", \"15/6-6\", \"15/6-7\", \"15/6-8 S\", \"15/6-9 A\", \"15/6-9 B\", \"15/6-9 S\", \"15/8-1\", \"15/8-2\", \"15/9-1\", \"15/9-10\", \"15/9-11\", \"15/9-12\", \"15/9-13\", \"15/9-14\", \"15/9-15\", \"15/9-16\", \"15/9-17\", \"15/9-18\", \"15/9-19 A\", \"15/9-19 B\", \"15/9-19 SR\", \"15/9-19 SR2\", \"15/9-2\", \"15/9-20 S\", \"15/9-21 S\", \"15/9-22\", \"15/9-23\", \"15/9-24\", \"15/9-3\", \"15/9-4\", \"15/9-5\", \"15/9-6\", \"15/9-7\", \"15/9-8\", \"15/9-9\", \"16/1-1\", \"16/1-10\", \"16/1-11\", \"16/1-11 A\", \"16/1-12\", \"16/1-13\", \"16/1-14\", \"16/1-15\", \"16/1-15 A\", \"16/1-16\", \"16/1-16 A\", \"16/1-17\", \"16/1-18\", \"16/1-19 S\", \"16/1-20 A\", \"16/1-21 A\", \"16/1-21 S\", \"16/1-22 A\", \"16/1-22 B\", \"16/1-22 S\", \"16/1-23 S\", \"16/1-25 S\", \"16/1-26 A\", \"16/1-26 S\", \"16/1-4\", \"16/1-5\", \"16/1-5 A\", \"16/1-6 A\", \"16/1-6 S\", \"16/1-7\", \"16/1-8\", \"16/1-8 R\", \"16/1-9\", \"16/10-1\", \"16/10-2\", \"16/10-3\", \"16/10-4\", \"16/10-5\", \"16/11-1 S\", \"16/11-2\", \"16/2-1\", \"16/2-10\", \"16/2-11\", \"16/2-11 A\", \"16/2-12\", \"16/2-13 A\", \"16/2-13 S\", \"16/2-14\", \"16/2-15\", \"16/2-16\", \"16/2-16 A\", \"16/2-17 B\", \"16/2-17 S\", \"16/2-18 S\", \"16/2-19\", \"16/2-19 A\", \"16/2-2\", \"16/2-20 A\", \"16/2-20 S\", \"16/2-21\", \"16/2-3\", \"16/2-4\", \"16/2-5\", \"16/2-6\", \"16/2-7\", \"16/2-7 A\", \"16/2-8\", \"16/2-9 S\", \"16/3-2\", \"16/3-3\", \"16/3-4\", \"16/3-4 A\", \"16/3-5\", \"16/3-6\", \"16/3-7\", \"16/3-8 A\", \"16/3-8 S\", \"16/4-1\", \"16/4-10\", \"16/4-2\", \"16/4-3\", \"16/4-4\", \"16/4-5\", \"16/4-6 S\", \"16/4-7\", \"16/4-8 S\", \"16/4-9 S\", \"16/5-1\", \"16/5-2 S\", \"16/5-3\", \"16/5-4\", \"16/5-5\", \"16/5-6\", \"16/6-1\", \"16/7-1\", \"16/7-10\", \"16/7-11\", \"16/7-2\", \"16/7-3\", \"16/7-4\", \"16/7-5\", \"16/7-6\", \"16/7-7 S\", \"16/7-8 S\", \"16/7-9\", \"16/8-1\", \"16/8-2\", \"16/8-3 S\", \"16/9-1\", \"17/10-1\", \"17/11-1\", \"17/11-2\", \"17/12-1 R\", \"17/12-3\", \"17/12-4\", \"17/12-4 A\", \"17/12-4 B\", \"17/3-1\", \"17/4-1\", \"17/6-1\", \"17/9-1\", \"17/9-1 R\", \"18/10-1\", \"18/11-1\", \"2/1-1\", \"2/1-10\", \"2/1-11\", \"2/1-12\", \"2/1-13 S\", \"2/1-14 S\", \"2/1-15\", \"2/1-16 S\", \"2/1-2\", \"2/1-3\", \"2/1-4\", \"2/1-5\", \"2/1-6\", \"2/1-7\", \"2/1-8\", \"2/1-9\", \"2/1-9 A\", \"2/10-1 S\", \"2/10-2\", \"2/11-1\", \"2/11-10 S\", \"2/11-11\", \"2/11-2\", \"2/11-3\", \"2/11-4\", \"2/11-5\", \"2/11-6 S\", \"2/11-7\", \"2/11-8\", \"2/11-9\", \"2/12-1\", \"2/12-2 S\", \"2/2-1\", \"2/2-2\", \"2/2-3\", \"2/2-4\", \"2/2-5\", \"2/2-6\", \"2/3-1\", \"2/3-3\", \"2/3-4\", \"2/4-10\", \"2/4-11\", \"2/4-12\", \"2/4-14\", \"2/4-14 R\", \"2/4-14 R2\", \"2/4-15 S\", \"2/4-15 SR\", \"2/4-16\", \"2/4-16 R\", \"2/4-17\", \"2/4-18 R\", \"2/4-2\", \"2/4-20\", \"2/4-21\", \"2/4-21 A\", \"2/4-22 S\", \"2/4-23 S\", \"2/4-3\", \"2/4-4\", \"2/4-5\", \"2/4-6\", \"2/4-7\", \"2/4-8\", \"2/4-9\", \"2/5-1\", \"2/5-10\", \"2/5-10 A\", \"2/5-11\", \"2/5-12\", \"2/5-13\", \"2/5-14 S\", \"2/5-2\", \"2/5-3\", \"2/5-4\", \"2/5-5\", \"2/5-6\", \"2/5-7\", \"2/5-8\", \"2/5-9\", \"2/6-1\", \"2/6-2\", \"2/6-3\", \"2/6-4 S\", \"2/6-5\", \"2/7-1\", \"2/7-10\", \"2/7-11\", \"2/7-13\", \"2/7-14\", \"2/7-14 R\", \"2/7-15\", \"2/7-16\", \"2/7-19\", \"2/7-19 R\", \"2/7-2\", \"2/7-20\", \"2/7-20 R\", \"2/7-21 S\", \"2/7-21 SR\", \"2/7-22\", \"2/7-23 S\", \"2/7-24\", \"2/7-25 S\", \"2/7-26 S\", \"2/7-27 S\", \"2/7-28\", \"2/7-29\", \"2/7-30\", \"2/7-31\", \"2/7-4\", \"2/7-5\", \"2/7-7\", \"2/7-8\", \"2/7-9\", \"2/8-10\", \"2/8-11\", \"2/8-12 S\", \"2/8-13\", \"2/8-14\", \"2/8-15\", \"2/8-17 A\", \"2/8-17 S\", \"2/8-18 S\", \"2/8-2\", \"2/8-3\", \"2/8-4\", \"2/8-5\", \"2/8-6\", \"2/8-7\", \"2/8-8\", \"2/8-9\", \"2/9-1\", \"2/9-2\", \"2/9-3\", \"2/9-4\", \"2/9-5 S\", \"24/12-1\", \"24/12-1 R\", \"24/12-2\", \"24/12-6 S\", \"24/6-1\", \"24/9-1\", \"24/9-2\", \"24/9-3\", \"24/9-5\", \"25/1-1\", \"25/1-4\", \"25/1-6\", \"25/1-7\", \"25/1-7 R\", \"25/1-7 R2\", \"25/1-7 R3\", \"25/1-7 R4\", \"25/1-9\", \"25/10-1 R\", \"25/10-10\", \"25/10-11\", \"25/10-12 S\", \"25/10-13 S\", \"25/10-14 S\", \"25/10-15 S\", \"25/10-2 R\", \"25/10-3\", \"25/10-5\", \"25/10-6 S\", \"25/10-7 S\", \"25/10-8\", \"25/10-8 A\", \"25/10-9\", \"25/11-1\", \"25/11-10\", \"25/11-11\", \"25/11-12\", \"25/11-13\", \"25/11-15\", \"25/11-16\", \"25/11-17\", \"25/11-18\", \"25/11-19 S\", \"25/11-19 SR\", \"25/11-20\", \"25/11-21 S\", \"25/11-22\", \"25/11-23\", \"25/11-24\", \"25/11-25 A\", \"25/11-26\", \"25/11-27\", \"25/11-28\", \"25/11-3\", \"25/11-4\", \"25/11-6\", \"25/11-7\", \"25/11-8\", \"25/11-9\", \"25/12-1\", \"25/2-1\", \"25/2-10 S\", \"25/2-10 SR\", \"25/2-12\", \"25/2-12 A\", \"25/2-13\", \"25/2-14\", \"25/2-15\", \"25/2-15 R\", \"25/2-15 R2\", \"25/2-16 S\", \"25/2-18 A\", \"25/2-18 B\", \"25/2-18 C\", \"25/2-18 S\", \"25/2-2\", \"25/2-3\", \"25/2-4\", \"25/2-5\", \"25/2-6\", \"25/4-1\", \"25/4-2\", \"25/4-3\", \"25/4-5\", \"25/4-6 S\", \"25/4-6 SR\", \"25/5-1\", \"25/5-1 A\", \"25/5-2\", \"25/5-3\", \"25/5-4\", \"25/6-1\", \"25/6-2\", \"25/6-3\", \"25/6-4 S\", \"25/7-1 S\", \"25/7-2\", \"25/7-3\", \"25/7-4 S\", \"25/8-1\", \"25/8-10 S\", \"25/8-11\", \"25/8-14 S\", \"25/8-16 A\", \"25/8-16 S\", \"25/8-18 S\", \"25/8-3\", \"25/8-4\", \"25/8-5 S\", \"25/8-5 SR\", \"25/8-6\", \"25/8-7\", \"25/8-9\", \"25/9-1\", \"25/9-2 S\", \"25/9-3\", \"25/9-4\", \"26/4-1\", \"26/4-2\", \"26/5-1\", \"29/3-1\", \"29/6-1\", \"29/9-1\", \"3/4-1\", \"3/4-2 S\", \"3/5-1\", \"3/5-2\", \"3/6-1\", \"3/7-1\", \"3/7-10 S\", \"3/7-2\", \"3/7-3\", \"3/7-4\", \"3/7-5\", \"3/7-6\", \"3/7-7\", \"3/7-8 S\", \"3/7-9 S\", \"3/8-1\", \"30/10-1\", \"30/10-2\", \"30/10-5\", \"30/10-6\", \"30/10-7\", \"30/11-10\", \"30/11-10 A\", \"30/11-11 A\", \"30/11-11 S\", \"30/11-12 A\", \"30/11-12 S\", \"30/11-13\", \"30/11-14\", \"30/11-14 B\", \"30/11-3\", \"30/11-4\", \"30/11-5\", \"30/11-6 S\", \"30/11-7\", \"30/11-7 A\", \"30/11-8 A\", \"30/11-8 S\", \"30/11-9 A\", \"30/11-9 S\", \"30/12-1\", \"30/2-2\", \"30/2-3\", \"30/2-4 S\", \"30/3-1\", \"30/3-1 R\", \"30/3-10 S\", \"30/3-3\", \"30/3-4\", \"30/3-4 R\", \"30/3-7 A\", \"30/3-7 B\", \"30/3-7 BR\", \"30/3-7 S\", \"30/3-9\", \"30/4-1\", \"30/4-3 S\", \"30/5-1\", \"30/5-2\", \"30/5-3 A\", \"30/5-3 S\", \"30/6-1\", \"30/6-13\", \"30/6-13 R\", \"30/6-17 A\", \"30/6-17 R\", \"30/6-18\", \"30/6-25 S\", \"30/6-26\", \"30/6-27\", \"30/6-28 S\", \"30/6-7\", \"30/7-2\", \"30/7-3\", \"30/7-7\", \"30/8-1 S\", \"30/8-1 SR\", \"30/8-2\", \"30/8-3\", \"30/8-4 S\", \"30/9-11\", \"30/9-11 A\", \"30/9-12\", \"30/9-12 A\", \"30/9-12 AR\", \"30/9-13 S\", \"30/9-13 SR\", \"30/9-14\", \"30/9-15\", \"30/9-16\", \"30/9-18\", \"30/9-19\", \"30/9-19 A\", \"30/9-2\", \"30/9-2 R\", \"30/9-20 S\", \"30/9-21 A\", \"30/9-21 S\", \"30/9-22\", \"30/9-23\", \"30/9-24\", \"30/9-25\", \"30/9-28 S\", \"30/9-3\", \"30/9-4 S\", \"30/9-7\", \"30/9-8 R\", \"30/9-9\", \"31/1-1\", \"31/10-1\", \"31/2-10\", \"31/2-19 S\", \"31/2-2\", \"31/2-2 R\", \"31/2-21 S\", \"31/2-6\", \"31/3-1\", \"31/3-2\", \"31/3-4\", \"31/4-12\", \"31/4-9\", \"31/5-2\", \"31/5-2 R\", \"31/5-4 A\", \"31/5-4 AR\", \"31/5-4 AR2\", \"31/5-4 S\", \"31/6-1\", \"31/6-2\", \"31/6-2 R\", \"31/6-3\", \"31/6-5\", \"31/6-6\", \"31/6-8\", \"31/6-8 R\", \"31/7-1\", \"31/7-1 A\", \"31/8-1\", \"32/2-1\", \"32/4-1\", \"33/12-10 S\", \"33/12-2\", \"33/2-1\", \"33/2-2 S\", \"33/5-1\", \"33/5-2\", \"33/6-2\", \"33/6-3 S\", \"33/6-4\", \"33/9-15\", \"33/9-16\", \"33/9-17\", \"33/9-18\", \"33/9-18 A\", \"33/9-19 A\", \"33/9-19 S\", \"33/9-20 S\", \"33/9-21 A\", \"33/9-21 B\", \"33/9-21 S\", \"33/9-6\", \"34/10-1\", \"34/10-16\", \"34/10-16 R\", \"34/10-17\", \"34/10-18\", \"34/10-2\", \"34/10-20\", \"34/10-21\", \"34/10-23\", \"34/10-3\", \"34/10-3 R\", \"34/10-33\", \"34/10-33 A\", \"34/10-33 B\", \"34/10-33 C\", \"34/10-33 CR\", \"34/10-36\", \"34/10-37 A\", \"34/10-4\", \"34/10-42 S\", \"34/10-45 B\", \"34/10-5\", \"34/10-54 A\", \"34/10-54 S\", \"34/10-6\", \"34/10-7\", \"34/10-7 R\", \"34/10-8\", \"34/10-9\", \"34/10-9 R\", \"34/11-1\", \"34/11-2 S\", \"34/11-4\", \"34/11-5 S\", \"34/12-1\", \"34/2-2 R\", \"34/2-3\", \"34/2-4\", \"34/3-1 A\", \"34/3-1 S\", \"34/3-2 S\", \"34/3-3 A\", \"34/3-3 S\", \"34/3-4 A\", \"34/3-5\", \"34/4-1\", \"34/4-10\", \"34/4-10 R\", \"34/4-11\", \"34/4-12 A\", \"34/4-12 S\", \"34/4-13 S\", \"34/4-14 S\", \"34/4-2\", \"34/4-4\", \"34/4-5\", \"34/4-6\", \"34/4-7\", \"34/4-8\", \"34/4-9 S\", \"34/5-1 A\", \"34/5-1 S\", \"34/6-1 S\", \"34/6-2 A\", \"34/6-2 S\", \"34/6-3 A\", \"34/6-3 S\", \"34/6-4\", \"34/7-1\", \"34/7-10\", \"34/7-12\", \"34/7-13\", \"34/7-14\", \"34/7-15 S\", \"34/7-16\", \"34/7-16 R\", \"34/7-16 R2\", \"34/7-17\", \"34/7-17 A\", \"34/7-18\", \"34/7-19\", \"34/7-19 R\", \"34/7-2\", \"34/7-20\", \"34/7-21\", \"34/7-21 A\", \"34/7-22\", \"34/7-23 A\", \"34/7-23 S\", \"34/7-24 S\", \"34/7-25 S\", \"34/7-26 A\", \"34/7-26 S\", \"34/7-26 SR\", \"34/7-27\", \"34/7-28\", \"34/7-29 S\", \"34/7-29 SR\", \"34/7-3\", \"34/7-30 SR\", \"34/7-31\", \"34/7-31 A\", \"34/7-32\", \"34/7-35 S\", \"34/7-36 S\", \"34/7-4\", \"34/7-5\", \"34/7-6\", \"34/7-7\", \"34/7-8\", \"34/7-9\", \"34/8-10 S\", \"34/8-11\", \"34/8-12 S\", \"34/8-13 A\", \"34/8-13 S\", \"34/8-14 A\", \"34/8-14 B\", \"34/8-14 C\", \"34/8-14 D\", \"34/8-14 S\", \"34/8-15 S\", \"34/8-16 S\", \"34/8-2\", \"34/8-3\", \"34/8-3 A\", \"34/8-5\", \"34/8-6\", \"34/8-7\", \"34/8-7 R\", \"34/8-8\", \"34/8-8 R\", \"35/1-1\", \"35/1-2 S\", \"35/10-1\", \"35/10-2\", \"35/10-3\", \"35/11-10\", \"35/11-10 A\", \"35/11-11\", \"35/11-12\", \"35/11-13\", \"35/11-14 S\", \"35/11-15 S\", \"35/11-16 S\", \"35/11-17\", \"35/11-18\", \"35/11-18 A\", \"35/11-2\", \"35/11-20 A\", \"35/11-20 B\", \"35/11-20 S\", \"35/11-3 S\", \"35/11-4\", \"35/11-4 R\", \"35/11-5\", \"35/11-6\", \"35/11-7\", \"35/11-8 S\", \"35/11-9\", \"35/12-1\", \"35/12-2\", \"35/12-3 S\", \"35/12-4 A\", \"35/12-4 S\", \"35/12-5 S\", \"35/3-1\", \"35/3-2\", \"35/3-4\", \"35/3-5\", \"35/3-6\", \"35/3-7 S\", \"35/4-1\", \"35/6-2 S\", \"35/7-1 S\", \"35/8-1\", \"35/8-2\", \"35/8-3\", \"35/8-4\", \"35/8-5 S\", \"35/8-6 A\", \"35/8-6 S\", \"35/9-1\", \"35/9-1 R\", \"35/9-10 A\", \"35/9-10 S\", \"35/9-11 A\", \"35/9-11 S\", \"35/9-12 S\", \"35/9-2\", \"35/9-3\", \"35/9-5\", \"35/9-6 S\", \"35/9-7\", \"35/9-8\", \"35/9-9\", \"36/1-1\", \"36/1-2\", \"36/4-1\", \"36/7-1\", \"36/7-2\", \"36/7-3\", \"36/7-4\", \"4/4-1\", \"6/3-1\", \"6/3-2\", \"6201/11-1\", \"6201/11-2\", \"6201/11-3\", \"6201/11-3 R\", \"6204/10-1\", \"6204/10-2 A\", \"6204/10-2 R\", \"6204/11-1\", \"6204/11-2\", \"6205/3-1\", \"6205/3-1 R\", \"6302/6-1\", \"6305/1-1\", \"6305/12-1\", \"6305/12-2\", \"6305/4-1\", \"6305/4-2 S\", \"6305/5-1\", \"6305/5-3 S\", \"6305/7-1\", \"6305/8-1\", \"6305/8-2\", \"6305/9-1\", \"6305/9-2\", \"6306/10-1\", \"6306/5-1\", \"6306/5-2\", \"6306/6-1\", \"6306/6-2\", \"6403/10-1\", \"6403/6-1\", \"6404/11-1\", \"6405/10-1\", \"6405/12-1\", \"6405/7-1\", \"6406/1-1\", \"6406/1-2\", \"6406/1-3\", \"6406/1-3 R\", \"6406/1-3 R2\", \"6406/1-4\", \"6406/11-1 S\", \"6406/12-1 S\", \"6406/12-2\", \"6406/12-3 A\", \"6406/12-3 B\", \"6406/12-3 S\", \"6406/12-4 A\", \"6406/12-4 S\", \"6406/12-5 S\", \"6406/2-1\", \"6406/2-1 R\", \"6406/2-2\", \"6406/2-2 R\", \"6406/2-3\", \"6406/2-4 S\", \"6406/2-4 SR\", \"6406/2-5\", \"6406/2-5 A\", \"6406/2-6\", \"6406/2-6 A\", \"6406/2-6 R\", \"6406/2-7\", \"6406/2-8\", \"6406/3-3\", \"6406/3-4\", \"6406/3-5\", \"6406/3-6\", \"6406/3-7\", \"6406/3-8\", \"6406/3-9\", \"6406/5-1\", \"6406/6-2\", \"6406/6-3\", \"6406/6-4 S\", \"6406/8-2\", \"6406/9-1\", \"6406/9-2\", \"6406/9-3\", \"6407/1-2\", \"6407/1-3\", \"6407/1-4\", \"6407/1-5 S\", \"6407/1-6 S\", \"6407/1-7\", \"6407/1-7 A\", \"6407/10-1\", \"6407/10-2\", \"6407/10-3\", \"6407/10-4\", \"6407/10-5\", \"6407/12-1\", \"6407/12-2\", \"6407/12-3\", \"6407/2-1\", \"6407/2-2\", \"6407/2-4\", \"6407/2-5 S\", \"6407/2-6 S\", \"6407/3-1 S\", \"6407/4-1\", \"6407/4-2\", \"6407/5-1\", \"6407/5-2 S\", \"6407/6-1\", \"6407/6-4\", \"6407/6-6\", \"6407/6-7 S\", \"6407/7-3\", \"6407/7-4\", \"6407/7-5\", \"6407/7-6\", \"6407/7-7 S\", \"6407/7-8\", \"6407/7-8 A\", \"6407/7-9 A\", \"6407/7-9 S\", \"6407/8-1\", \"6407/8-2\", \"6407/8-3\", \"6407/8-4 A\", \"6407/8-4 S\", \"6407/8-5 A\", \"6407/8-5 S\", \"6407/8-6\", \"6407/8-6 A\", \"6407/8-7\", \"6407/8-7 A\", \"6407/9-1\", \"6407/9-2\", \"6407/9-3\", \"6407/9-6\", \"6407/9-6 R\", \"6407/9-7\", \"6407/9-8\", \"6407/9-9\", \"6408/4-1\", \"6504/5-1 S\", \"6505/10-1\", \"6506/11-1\", \"6506/11-2\", \"6506/11-3\", \"6506/11-4 S\", \"6506/11-5 S\", \"6506/11-6\", \"6506/11-7\", \"6506/11-8\", \"6506/11-9 S\", \"6506/12-1\", \"6506/12-10\", \"6506/12-10 A\", \"6506/12-11 S\", \"6506/12-11 SR\", \"6506/12-12 A\", \"6506/12-12 S\", \"6506/12-3\", \"6506/12-4\", \"6506/12-5\", \"6506/12-6\", \"6506/12-7\", \"6506/12-8\", \"6506/12-9 S\", \"6506/3-1\", \"6506/6-1\", \"6506/6-2\", \"6506/9-1\", \"6506/9-2 S\", \"6506/9-3\", \"6507/1-1\", \"6507/10-1\", \"6507/10-2 S\", \"6507/11-1\", \"6507/11-10\", \"6507/11-11\", \"6507/11-3\", \"6507/11-5 S\", \"6507/11-6\", \"6507/11-7\", \"6507/11-8\", \"6507/11-9\", \"6507/12-1\", \"6507/12-2\", \"6507/12-3\", \"6507/2-1\", \"6507/2-2\", \"6507/2-3\", \"6507/2-4\", \"6507/3-1\", \"6507/3-10\", \"6507/3-3\", \"6507/3-3 A\", \"6507/3-3 B\", \"6507/3-4\", \"6507/3-5 S\", \"6507/3-7\", \"6507/3-8\", \"6507/3-9 S\", \"6507/5-1\", \"6507/5-2\", \"6507/5-3\", \"6507/5-4\", \"6507/5-4 A\", \"6507/5-5\", \"6507/5-6 S\", \"6507/6-2\", \"6507/6-3\", \"6507/7-1\", \"6507/7-10\", \"6507/7-11 S\", \"6507/7-12\", \"6507/7-13\", \"6507/7-14 S\", \"6507/7-15 S\", \"6507/8-7\", \"6507/8-8\", \"6508/1-1 A\", \"6508/1-1 S\", \"6508/1-2\", \"6508/5-1\", \"6603/12-1\", \"6603/5-1 S\", \"6604/10-1\", \"6604/2-1\", \"6605/1-1\", \"6605/8-1\", \"6605/8-2\", \"6607/12-2 S\", \"6607/12-3\", \"6607/2-1\", \"6607/5-1\", \"6607/5-2\", \"6608/10-1\", \"6608/10-10\", \"6608/10-11 S\", \"6608/10-12\", \"6608/10-12 A\", \"6608/10-13\", \"6608/10-14 S\", \"6608/10-15\", \"6608/10-16\", \"6608/10-17 S\", \"6608/10-2\", \"6608/10-3\", \"6608/10-3 R\", \"6608/10-4\", \"6608/10-5\", \"6608/10-6\", \"6608/10-6 R\", \"6608/10-6 R2\", \"6608/10-7\", \"6608/10-8\", \"6608/10-8 A\", \"6608/10-9\", \"6608/11-2\", \"6608/11-4\", \"6608/11-5\", \"6608/11-7 S\", \"6608/11-8\", \"6608/2-1 S\", \"6608/8-1\", \"6608/8-2\", \"6609/10-1\", \"6609/10-2\", \"6609/11-1\", \"6609/6-1\", \"6609/7-1\", \"6610/10-1\", \"6610/2-1 S\", \"6610/3-1\", \"6610/3-1 R\", \"6610/3-1 R2\", \"6610/7-1\", \"6610/7-2\", \"6704/12-1\", \"6705/10-1\", \"6706/11-1\", \"6706/11-2\", \"6706/12-1\", \"6706/12-2\", \"6706/12-3\", \"6707/10-1\", \"6707/10-2 A\", \"6707/10-2 S\", \"6707/10-3 S\", \"6710/10-1\", \"7/1-1\", \"7/1-2 S\", \"7/11-1\", \"7/11-10 S\", \"7/11-11 S\", \"7/11-12 A\", \"7/11-12 S\", \"7/11-13\", \"7/11-2\", \"7/11-3\", \"7/11-4\", \"7/11-5\", \"7/11-6\", \"7/11-7\", \"7/11-7 R\", \"7/11-8\", \"7/11-9\", \"7/12-1 S\", \"7/12-10\", \"7/12-11\", \"7/12-12 S\", \"7/12-13 S\", \"7/12-2\", \"7/12-3\", \"7/12-3 A\", \"7/12-4\", \"7/12-5\", \"7/12-6\", \"7/12-7\", \"7/12-8\", \"7/12-9\", \"7/3-1\", \"7/4-1\", \"7/4-2\", \"7/4-3\", \"7/7-1\", \"7/7-2\", \"7/7-3\", \"7/7-4\", \"7/8-1\", \"7/8-2\", \"7/8-3\", \"7/8-4\", \"7/8-5 S\", \"7/8-6 S\", \"7/9-1\", \"8/1-1\", \"8/10-1\", \"8/10-2\", \"8/10-3\", \"8/10-4 A\", \"8/10-4 S\", \"8/10-5 A\", \"8/10-5 S\", \"8/10-6 S\", \"8/11-1\", \"8/12-1\", \"8/3-1\", \"8/3-2\", \"8/4-1\", \"8/5-1\", \"8/9-1\", \"9/1-1 S\", \"9/10-1\", \"9/11-1\", \"9/12-1\", \"9/2-1\", \"9/2-11\", \"9/2-2\", \"9/2-3\", \"9/2-4 S\", \"9/2-5\", \"9/2-6 S\", \"9/2-7 S\", \"9/2-8 S\", \"9/2-9 S\", \"9/3-1\", \"9/3-2\", \"9/4-1\", \"9/4-2\", \"9/4-3\", \"9/4-4\", \"9/4-5\", \"9/8-1\"], \"nb_of_wells\": 1243}, {\"age\": \"Jurassic\", \"wlbName\": [\"1/3-12 S\", \"1/3-3\", \"1/3-8\", \"1/3-9 S\", \"1/5-5\", \"1/6-6\", \"1/6-7\", \"1/9-3 R\", \"1/9-7\", \"10/4-1\", \"10/5-1\", \"10/7-1\", \"10/8-1\", \"11/10-1\", \"11/5-1\", \"15/12-1\", \"15/12-10 S\", \"15/12-11 S\", \"15/12-12\", \"15/12-13\", \"15/12-13 B\", \"15/12-14\", \"15/12-15\", \"15/12-16 S\", \"15/12-17 A\", \"15/12-17 S\", \"15/12-18 S\", \"15/12-19\", \"15/12-2\", \"15/12-20 S\", \"15/12-21\", \"15/12-21 A\", \"15/12-22\", \"15/12-23\", \"15/12-23 A\", \"15/12-24 S\", \"15/12-3\", \"15/12-4\", \"15/12-5\", \"15/12-6 S\", \"15/12-7 S\", \"15/12-8\", \"15/12-8 A\", \"15/12-9 S\", \"15/2-1\", \"15/3-1 S\", \"15/3-2\", \"15/3-2 R\", \"15/3-3\", \"15/3-4\", \"15/3-5\", \"15/3-7\", \"15/3-8\", \"15/3-9\", \"15/5-1\", \"15/5-2\", \"15/5-3\", \"15/5-7\", \"15/5-7 A\", \"15/6-10\", \"15/6-11 A\", \"15/6-11 S\", \"15/6-12\", \"15/6-13\", \"15/6-13 A\", \"15/6-13 B\", \"15/6-2 R\", \"15/6-4\", \"15/6-5\", \"15/6-6\", \"15/6-7\", \"15/6-8 S\", \"15/6-9 A\", \"15/6-9 B\", \"15/6-9 S\", \"15/8-1\", \"15/8-2\", \"15/9-1\", \"15/9-10\", \"15/9-11\", \"15/9-12\", \"15/9-13\", \"15/9-14\", \"15/9-15\", \"15/9-17\", \"15/9-18\", \"15/9-19 A\", \"15/9-19 B\", \"15/9-19 SR\", \"15/9-19 SR2\", \"15/9-2\", \"15/9-20 S\", \"15/9-21 S\", \"15/9-22\", \"15/9-23\", \"15/9-3\", \"15/9-4\", \"15/9-5\", \"15/9-6\", \"15/9-7\", \"15/9-8\", \"15/9-9\", \"16/1-11\", \"16/1-11 A\", \"16/1-12\", \"16/1-13\", \"16/1-14\", \"16/1-16\", \"16/1-16 A\", \"16/1-2\", \"16/1-20 A\", \"16/1-21 A\", \"16/1-21 S\", \"16/1-22 A\", \"16/1-22 B\", \"16/1-22 S\", \"16/1-24\", \"16/1-26 A\", \"16/1-26 S\", \"16/1-3\", \"16/1-5\", \"16/1-5 A\", \"16/1-7\", \"16/1-9\", \"16/10-1\", \"16/10-2\", \"16/10-3\", \"16/10-4\", \"16/10-5\", \"16/11-1 S\", \"16/11-2\", \"16/2-10\", \"16/2-11\", \"16/2-11 A\", \"16/2-12\", \"16/2-13 A\", \"16/2-13 S\", \"16/2-14\", \"16/2-15\", \"16/2-16\", \"16/2-16 A\", \"16/2-17 S\", \"16/2-19\", \"16/2-19 A\", \"16/2-20 A\", \"16/2-20 S\", \"16/2-21\", \"16/2-6\", \"16/2-7\", \"16/2-7 A\", \"16/2-8\", \"16/2-9 S\", \"16/3-2\", \"16/3-4\", \"16/3-4 A\", \"16/3-5\", \"16/3-6\", \"16/3-7\", \"16/3-8 A\", \"16/3-8 S\", \"16/4-1\", \"16/4-10\", \"16/4-2\", \"16/4-7\", \"16/5-2 S\", \"16/5-3\", \"16/5-4\", \"16/5-6\", \"16/6-1\", \"16/7-2\", \"16/7-3\", \"16/7-4\", \"16/7-5\", \"16/7-6\", \"16/7-7 S\", \"16/7-8 S\", \"16/7-9\", \"16/8-1\", \"16/8-2\", \"16/8-3 S\", \"16/9-1\", \"17/10-1\", \"17/11-1\", \"17/11-2\", \"17/12-1 R\", \"17/12-2\", \"17/12-3\", \"17/12-4\", \"17/12-4 A\", \"17/12-4 B\", \"17/3-1\", \"17/4-1\", \"17/6-1\", \"17/9-1\", \"17/9-1 R\", \"18/10-1\", \"18/11-1\", \"2/1-10\", \"2/1-11\", \"2/1-12\", \"2/1-13 S\", \"2/1-14 S\", \"2/1-15\", \"2/1-16 S\", \"2/1-2\", \"2/1-3\", \"2/1-4\", \"2/1-5\", \"2/1-6\", \"2/1-7\", \"2/1-8\", \"2/1-9\", \"2/1-9 A\", \"2/10-1 S\", \"2/10-2\", \"2/11-1\", \"2/11-7\", \"2/11-8\", \"2/12-1\", \"2/12-2 S\", \"2/2-1\", \"2/2-2\", \"2/2-3\", \"2/2-4\", \"2/2-5\", \"2/2-6\", \"2/3-3\", \"2/3-4\", \"2/4-11\", \"2/4-14\", \"2/4-14 R\", \"2/4-14 R2\", \"2/4-15 S\", \"2/4-15 SR\", \"2/4-16\", \"2/4-16 R\", \"2/4-17\", \"2/4-18 R\", \"2/4-20\", \"2/4-21\", \"2/4-21 A\", \"2/4-22 S\", \"2/4-23 S\", \"2/4-8\", \"2/5-1\", \"2/5-10\", \"2/5-10 A\", \"2/5-12\", \"2/5-13\", \"2/5-7\", \"2/5-9\", \"2/6-1\", \"2/6-2\", \"2/6-3\", \"2/6-4 S\", \"2/7-1\", \"2/7-15\", \"2/7-19\", \"2/7-19 R\", \"2/7-2\", \"2/7-20\", \"2/7-20 R\", \"2/7-22\", \"2/7-23 S\", \"2/7-24\", \"2/7-25 S\", \"2/7-26 S\", \"2/7-28\", \"2/7-29\", \"2/7-3\", \"2/7-31\", \"2/7-9\", \"2/8-12 S\", \"2/8-14\", \"2/8-3\", \"2/9-2\", \"2/9-3\", \"2/9-4\", \"2/9-5 S\", \"24/12-1 R\", \"24/12-2\", \"24/12-6 S\", \"24/6-1\", \"24/9-1\", \"25/1-1\", \"25/1-10\", \"25/10-11\", \"25/10-12 S\", \"25/10-15 S\", \"25/10-4\", \"25/10-4 R\", \"25/10-6 S\", \"25/10-8\", \"25/10-8 A\", \"25/10-9\", \"25/11-1\", \"25/11-15\", \"25/11-17\", \"25/11-19 S\", \"25/11-19 SR\", \"25/11-24\", \"25/11-25 A\", \"25/11-26\", \"25/11-28\", \"25/11-5\", \"25/12-1\", \"25/2-12\", \"25/2-12 A\", \"25/2-13\", \"25/2-14\", \"25/2-15\", \"25/2-15 R\", \"25/2-15 R2\", \"25/2-16 S\", \"25/2-18 A\", \"25/2-18 B\", \"25/2-18 C\", \"25/2-18 S\", \"25/2-4\", \"25/2-5\", \"25/2-6\", \"25/2-7\", \"25/3-1\", \"25/4-1\", \"25/4-5\", \"25/4-6 S\", \"25/4-6 SR\", \"25/5-1\", \"25/5-1 A\", \"25/5-2\", \"25/5-3\", \"25/5-4\", \"25/5-7\", \"25/6-1\", \"25/6-2\", \"25/6-4 S\", \"25/6-5 S\", \"25/7-2\", \"25/8-1\", \"25/8-13\", \"25/8-15 S\", \"25/8-16 S\", \"25/8-2\", \"25/8-5 S\", \"25/8-5 SR\", \"25/8-7\", \"25/8-8 S\", \"25/8-9\", \"25/9-1\", \"25/9-2 S\", \"25/9-3\", \"25/9-4\", \"26/4-1\", \"29/3-1\", \"29/6-1\", \"29/9-1\", \"3/4-1\", \"3/4-2 S\", \"3/5-1\", \"3/5-2\", \"3/7-10 S\", \"3/7-3\", \"3/7-4\", \"3/7-5\", \"3/7-6\", \"3/7-7\", \"3/7-8 S\", \"3/7-9 S\", \"3/8-1\", \"30/10-5\", \"30/10-6\", \"30/11-10\", \"30/11-10 A\", \"30/11-11 A\", \"30/11-11 S\", \"30/11-12 A\", \"30/11-12 S\", \"30/11-13\", \"30/11-14\", \"30/11-14 B\", \"30/11-3\", \"30/11-4\", \"30/11-5\", \"30/11-6 S\", \"30/11-7\", \"30/11-7 A\", \"30/11-8 A\", \"30/11-8 S\", \"30/11-9 A\", \"30/11-9 S\", \"30/12-1\", \"30/2-1\", \"30/2-2\", \"30/2-3\", \"30/2-4 S\", \"30/3-1 R\", \"30/3-10 S\", \"30/3-2 R\", \"30/3-3\", \"30/3-4\", \"30/3-4 R\", \"30/3-5 S\", \"30/3-6 S\", \"30/3-7 A\", \"30/3-7 B\", \"30/3-7 BR\", \"30/3-7 S\", \"30/3-8 A\", \"30/3-8 S\", \"30/3-9\", \"30/4-1\", \"30/4-2\", \"30/4-3 S\", \"30/5-2\", \"30/5-3 A\", \"30/6-1\", \"30/6-10\", \"30/6-10 A\", \"30/6-11\", \"30/6-13\", \"30/6-13 R\", \"30/6-14\", \"30/6-15\", \"30/6-16\", \"30/6-17 A\", \"30/6-17 R\", \"30/6-18\", \"30/6-19\", \"30/6-19 R\", \"30/6-2\", \"30/6-20\", \"30/6-21\", \"30/6-22\", \"30/6-22 R\", \"30/6-23\", \"30/6-24 S\", \"30/6-25 S\", \"30/6-26\", \"30/6-27\", \"30/6-29 S\", \"30/6-3\", \"30/6-4\", \"30/6-5\", \"30/6-6\", \"30/6-7\", \"30/6-8\", \"30/6-9\", \"30/6-9 R\", \"30/7-6 R\", \"30/7-7\", \"30/7-8\", \"30/7-8 R\", \"30/8-1 S\", \"30/8-1 SR\", \"30/8-3\", \"30/8-4 S\", \"30/9-1\", \"30/9-10\", \"30/9-11\", \"30/9-11 A\", \"30/9-12\", \"30/9-12 A\", \"30/9-12 AR\", \"30/9-13 S\", \"30/9-13 SR\", \"30/9-14\", \"30/9-15\", \"30/9-16\", \"30/9-18\", \"30/9-19\", \"30/9-19 A\", \"30/9-2\", \"30/9-2 R\", \"30/9-20 S\", \"30/9-21 A\", \"30/9-21 S\", \"30/9-22\", \"30/9-23\", \"30/9-25\", \"30/9-26 S\", \"30/9-27 S\", \"30/9-28 S\", \"30/9-3\", \"30/9-3 A\", \"30/9-4 S\", \"30/9-5 S\", \"30/9-6\", \"30/9-7\", \"30/9-8 R\", \"30/9-9\", \"31/1-1\", \"31/2-1\", \"31/2-1 R\", \"31/2-10\", \"31/2-11\", \"31/2-12\", \"31/2-13 S\", \"31/2-14\", \"31/2-15\", \"31/2-16 S\", \"31/2-16 SR\", \"31/2-17 A\", \"31/2-17 B\", \"31/2-17 BR\", \"31/2-17 S\", \"31/2-18\", \"31/2-18 A\", \"31/2-19 S\", \"31/2-2\", \"31/2-2 R\", \"31/2-20 S\", \"31/2-21 S\", \"31/2-3\", \"31/2-4 R\", \"31/2-4 R2\", \"31/2-5\", \"31/2-5 R\", \"31/2-5 R2\", \"31/2-6\", \"31/2-7\", \"31/2-8\", \"31/2-9\", \"31/3-1\", \"31/3-2\", \"31/3-3\", \"31/3-4\", \"31/4-10\", \"31/4-11\", \"31/4-12\", \"31/4-2\", \"31/4-3\", \"31/4-4\", \"31/4-5\", \"31/4-6\", \"31/4-7\", \"31/4-8\", \"31/4-9\", \"31/5-2\", \"31/5-2 R\", \"31/5-3\", \"31/5-4 A\", \"31/5-4 AR\", \"31/5-4 AR2\", \"31/5-4 S\", \"31/5-5\", \"31/5-5 R\", \"31/5-6\", \"31/6-1\", \"31/6-2\", \"31/6-2 R\", \"31/6-3\", \"31/6-5\", \"31/6-6\", \"31/6-8\", \"31/6-8 R\", \"31/7-1\", \"31/7-1 A\", \"31/8-1\", \"32/2-1\", \"32/4-1\", \"33/12-10 S\", \"33/12-2\", \"33/12-4\", \"33/12-6\", \"33/12-7\", \"33/12-8 A\", \"33/12-8 S\", \"33/12-9 S\", \"33/2-1\", \"33/5-2\", \"33/6-1\", \"33/6-2\", \"33/6-3 S\", \"33/9-1\", \"33/9-10\", \"33/9-11\", \"33/9-12\", \"33/9-13 S\", \"33/9-14\", \"33/9-15\", \"33/9-16\", \"33/9-17\", \"33/9-18\", \"33/9-18 A\", \"33/9-19 A\", \"33/9-19 S\", \"33/9-20 S\", \"33/9-21 A\", \"33/9-21 B\", \"33/9-21 S\", \"33/9-3\", \"33/9-5\", \"33/9-6\", \"33/9-7\", \"33/9-8\", \"33/9-9\", \"34/10-1\", \"34/10-11\", \"34/10-12\", \"34/10-13\", \"34/10-14\", \"34/10-15\", \"34/10-16\", \"34/10-16 R\", \"34/10-17\", \"34/10-18\", \"34/10-19\", \"34/10-2\", \"34/10-21\", \"34/10-23\", \"34/10-3\", \"34/10-3 R\", \"34/10-30\", \"34/10-32\", \"34/10-32 R\", \"34/10-33\", \"34/10-33 A\", \"34/10-33 B\", \"34/10-33 C\", \"34/10-33 CR\", \"34/10-34\", \"34/10-35\", \"34/10-36\", \"34/10-37\", \"34/10-37 A\", \"34/10-38 S\", \"34/10-39 S\", \"34/10-4\", \"34/10-40 S\", \"34/10-41 S\", \"34/10-42 S\", \"34/10-43 S\", \"34/10-44 S\", \"34/10-45 A\", \"34/10-45 B\", \"34/10-45 S\", \"34/10-46 A\", \"34/10-46 B\", \"34/10-46 S\", \"34/10-47 A\", \"34/10-47 S\", \"34/10-48 A\", \"34/10-48 S\", \"34/10-49 A\", \"34/10-49 B\", \"34/10-49 S\", \"34/10-5\", \"34/10-52 A\", \"34/10-52 B\", \"34/10-53 A\", \"34/10-53 S\", \"34/10-54 A\", \"34/10-54 S\", \"34/10-6\", \"34/10-7\", \"34/10-7 R\", \"34/10-8\", \"34/10-9\", \"34/10-9 R\", \"34/11-1\", \"34/11-2 S\", \"34/11-3\", \"34/11-4\", \"34/11-5 S\", \"34/12-1\", \"34/2-2 R\", \"34/2-4\", \"34/3-1 A\", \"34/3-1 S\", \"34/3-2 S\", \"34/3-3 A\", \"34/3-3 S\", \"34/3-4 A\", \"34/3-5\", \"34/4-10 R\", \"34/4-11\", \"34/4-13 S\", \"34/4-14 S\", \"34/4-2\", \"34/4-3\", \"34/4-5\", \"34/5-1 A\", \"34/5-1 S\", \"34/6-1 S\", \"34/6-2 A\", \"34/6-2 S\", \"34/6-3 A\", \"34/6-3 S\", \"34/6-4\", \"34/7-10\", \"34/7-12\", \"34/7-13\", \"34/7-14\", \"34/7-15 S\", \"34/7-16\", \"34/7-16 R\", \"34/7-16 R2\", \"34/7-17\", \"34/7-17 A\", \"34/7-18\", \"34/7-19\", \"34/7-19 R\", \"34/7-2\", \"34/7-20\", \"34/7-21\", \"34/7-21 A\", \"34/7-22\", \"34/7-23 A\", \"34/7-23 S\", \"34/7-24 S\", \"34/7-25 S\", \"34/7-26 A\", \"34/7-26 SR\", \"34/7-27\", \"34/7-28\", \"34/7-29 S\", \"34/7-29 SR\", \"34/7-3\", \"34/7-30 SR\", \"34/7-31\", \"34/7-31 A\", \"34/7-32\", \"34/7-33\", \"34/7-34\", \"34/7-34 A\", \"34/7-35 S\", \"34/7-36 S\", \"34/7-4\", \"34/7-5\", \"34/7-6\", \"34/7-7\", \"34/7-8\", \"34/8-1\", \"34/8-10 S\", \"34/8-11\", \"34/8-12 S\", \"34/8-13 A\", \"34/8-13 S\", \"34/8-14 A\", \"34/8-14 B\", \"34/8-14 C\", \"34/8-14 D\", \"34/8-14 S\", \"34/8-15 S\", \"34/8-17 S\", \"34/8-2\", \"34/8-3\", \"34/8-3 A\", \"34/8-4 A\", \"34/8-4 AR\", \"34/8-4 S\", \"34/8-5\", \"34/8-6\", \"34/8-7\", \"34/8-7 R\", \"34/8-8\", \"34/8-8 R\", \"34/8-9 S\", \"35/1-1\", \"35/1-2 S\", \"35/10-1\", \"35/10-2\", \"35/11-1\", \"35/11-10\", \"35/11-10 A\", \"35/11-11\", \"35/11-12\", \"35/11-13\", \"35/11-14 S\", \"35/11-15 S\", \"35/11-16 S\", \"35/11-17\", \"35/11-18\", \"35/11-18 A\", \"35/11-2\", \"35/11-20 A\", \"35/11-20 B\", \"35/11-20 S\", \"35/11-3 S\", \"35/11-4\", \"35/11-4 R\", \"35/11-5\", \"35/11-6\", \"35/11-7\", \"35/11-8 S\", \"35/11-9\", \"35/12-1\", \"35/12-2\", \"35/12-3 S\", \"35/12-4 A\", \"35/12-4 S\", \"35/12-5 S\", \"35/3-1\", \"35/3-2\", \"35/3-4\", \"35/3-5\", \"35/3-6\", \"35/3-7 S\", \"35/4-1\", \"35/7-1 S\", \"35/8-1\", \"35/8-2\", \"35/8-3\", \"35/8-4\", \"35/8-5 S\", \"35/8-6 A\", \"35/8-6 S\", \"35/9-1\", \"35/9-1 R\", \"35/9-10 A\", \"35/9-10 S\", \"35/9-11 A\", \"35/9-11 S\", \"35/9-12 S\", \"35/9-2\", \"35/9-5\", \"35/9-6 S\", \"35/9-7\", \"35/9-8\", \"35/9-9\", \"36/1-1\", \"36/1-2\", \"36/4-1\", \"36/7-1\", \"36/7-2\", \"36/7-3\", \"6/3-1\", \"6/3-2\", \"6201/11-2\", \"6204/11-1\", \"6204/11-2\", \"6205/3-1 R\", \"6305/12-1\", \"6305/12-2\", \"6306/10-1\", \"6306/5-2\", \"6306/6-1\", \"6406/1-1\", \"6406/11-1 S\", \"6406/12-1 S\", \"6406/12-2\", \"6406/12-3 A\", \"6406/12-3 B\", \"6406/12-3 S\", \"6406/12-4 A\", \"6406/12-4 S\", \"6406/12-5 S\", \"6406/2-1\", \"6406/2-1 R\", \"6406/2-2\", \"6406/2-2 R\", \"6406/2-3\", \"6406/2-4 S\", \"6406/2-4 SR\", \"6406/2-5\", \"6406/2-5 A\", \"6406/2-6\", \"6406/2-6 A\", \"6406/2-6 R\", \"6406/2-7\", \"6406/2-8\", \"6406/3-1\", \"6406/3-2\", \"6406/3-3\", \"6406/3-4\", \"6406/3-5\", \"6406/3-6\", \"6406/3-7\", \"6406/3-8\", \"6406/5-1\", \"6406/6-1\", \"6406/6-2\", \"6406/6-3\", \"6406/6-4 S\", \"6406/8-1\", \"6406/8-2\", \"6406/9-1\", \"6406/9-2\", \"6406/9-3\", \"6407/1-2\", \"6407/1-3\", \"6407/1-4\", \"6407/1-5 S\", \"6407/1-6 S\", \"6407/10-1\", \"6407/10-2\", \"6407/10-3\", \"6407/10-4\", \"6407/10-5\", \"6407/12-1\", \"6407/12-3\", \"6407/2-1\", \"6407/2-2\", \"6407/2-3\", \"6407/2-4\", \"6407/2-5 S\", \"6407/2-6 S\", \"6407/3-1 S\", \"6407/4-1\", \"6407/4-2\", \"6407/5-1\", \"6407/5-2 S\", \"6407/6-1\", \"6407/6-3\", \"6407/6-4\", \"6407/6-5\", \"6407/6-6\", \"6407/6-7 S\", \"6407/7-1 S\", \"6407/7-2\", \"6407/7-2 R\", \"6407/7-3\", \"6407/7-4\", \"6407/7-5\", \"6407/7-6\", \"6407/7-7 S\", \"6407/7-8\", \"6407/7-8 A\", \"6407/7-9 A\", \"6407/7-9 S\", \"6407/8-1\", \"6407/8-2\", \"6407/8-3\", \"6407/8-4 A\", \"6407/8-4 S\", \"6407/8-5 A\", \"6407/8-5 S\", \"6407/8-6\", \"6407/8-6 A\", \"6407/8-7\", \"6407/8-7 A\", \"6407/9-1\", \"6407/9-10\", \"6407/9-2\", \"6407/9-3\", \"6407/9-4\", \"6407/9-5\", \"6407/9-6\", \"6407/9-6 R\", \"6407/9-7\", \"6407/9-8\", \"6407/9-9\", \"6408/4-1\", \"6506/11-1\", \"6506/11-2\", \"6506/11-3\", \"6506/11-4 S\", \"6506/11-5 S\", \"6506/11-6\", \"6506/11-7\", \"6506/11-8\", \"6506/11-9 S\", \"6506/12-1\", \"6506/12-10\", \"6506/12-10 A\", \"6506/12-11 S\", \"6506/12-11 SR\", \"6506/12-12 A\", \"6506/12-12 S\", \"6506/12-3\", \"6506/12-4\", \"6506/12-5\", \"6506/12-6\", \"6506/12-7\", \"6506/12-8\", \"6506/12-9 S\", \"6506/6-1\", \"6506/9-1\", \"6506/9-2 S\", \"6506/9-3\", \"6507/10-1\", \"6507/10-2 S\", \"6507/11-1\", \"6507/11-10\", \"6507/11-11\", \"6507/11-2\", \"6507/11-3\", \"6507/11-4\", \"6507/11-5 S\", \"6507/11-6\", \"6507/11-8\", \"6507/11-9\", \"6507/12-1\", \"6507/12-2\", \"6507/12-3\", \"6507/2-1\", \"6507/2-2\", \"6507/2-3\", \"6507/3-1\", \"6507/3-10\", \"6507/3-11 S\", \"6507/3-2\", \"6507/3-3\", \"6507/3-3 A\", \"6507/3-3 B\", \"6507/3-4\", \"6507/3-5 S\", \"6507/3-6\", \"6507/3-7\", \"6507/3-8\", \"6507/5-1\", \"6507/5-2\", \"6507/5-4\", \"6507/5-4 A\", \"6507/5-5\", \"6507/5-7\", \"6507/6-1\", \"6507/6-2\", \"6507/6-3\", \"6507/6-4 A\", \"6507/6-4 S\", \"6507/7-1\", \"6507/7-10\", \"6507/7-11 S\", \"6507/7-12\", \"6507/7-13\", \"6507/7-13 A\", \"6507/7-14 S\", \"6507/7-15 S\", \"6507/7-2\", \"6507/7-3\", \"6507/7-4\", \"6507/7-5\", \"6507/7-5 A\", \"6507/7-6\", \"6507/7-8\", \"6507/8-1\", \"6507/8-2\", \"6507/8-3\", \"6507/8-4\", \"6507/8-5\", \"6507/8-6\", \"6507/8-7\", \"6507/8-8\", \"6508/1-1 A\", \"6508/1-1 S\", \"6508/1-2\", \"6508/5-1\", \"6510/2-1\", \"6510/2-1 R\", \"6607/12-2 S\", \"6607/12-3\", \"6608/10-1\", \"6608/10-10\", \"6608/10-11 S\", \"6608/10-12\", \"6608/10-12 A\", \"6608/10-13\", \"6608/10-14 S\", \"6608/10-15\", \"6608/10-16\", \"6608/10-17 S\", \"6608/10-2\", \"6608/10-3\", \"6608/10-3 R\", \"6608/10-4\", \"6608/10-5\", \"6608/10-6\", \"6608/10-6 R\", \"6608/10-6 R2\", \"6608/10-7\", \"6608/10-8\", \"6608/10-8 A\", \"6608/10-9\", \"6608/11-1\", \"6608/11-2\", \"6608/11-3\", \"6608/11-4\", \"6608/11-5\", \"6608/11-6\", \"6608/11-7 S\", \"6608/11-8\", \"6609/10-1\", \"6609/10-2\", \"6609/11-1\", \"6610/10-1\", \"6610/2-1 S\", \"6610/3-1 R\", \"6610/3-1 R2\", \"6610/7-1\", \"6610/7-2\", \"7/1-2 S\", \"7/11-10 S\", \"7/11-11 S\", \"7/11-12 A\", \"7/11-12 S\", \"7/11-13\", \"7/11-5\", \"7/11-6\", \"7/11-7\", \"7/11-7 R\", \"7/11-9\", \"7/12-10\", \"7/12-11\", \"7/12-12 S\", \"7/12-13 S\", \"7/12-2\", \"7/12-3 A\", \"7/12-4\", \"7/12-5\", \"7/12-6\", \"7/12-7\", \"7/12-8\", \"7/12-9\", \"7/3-1\", \"7/4-1\", \"7/4-2\", \"7/7-2\", \"7/7-3\", \"7/8-1\", \"7/8-3\", \"7/8-4\", \"7/8-5 S\", \"7/9-1\", \"8/1-1\", \"8/10-1\", \"8/10-2\", \"8/10-3\", \"8/10-4 A\", \"8/10-4 S\", \"8/10-5 A\", \"8/10-5 S\", \"8/10-6 S\", \"8/11-1\", \"8/12-1\", \"8/3-1\", \"8/3-2\", \"8/4-1\", \"8/5-1\", \"8/9-1\", \"9/1-1 S\", \"9/11-1\", \"9/12-1\", \"9/2-1\", \"9/2-11\", \"9/2-2\", \"9/2-3\", \"9/2-4 S\", \"9/2-5\", \"9/2-6 S\", \"9/2-7 S\", \"9/2-8 S\", \"9/2-9 S\", \"9/3-1\", \"9/3-2\", \"9/4-1\", \"9/4-2\", \"9/4-3\", \"9/4-4\", \"9/4-5\", \"9/8-1\"], \"nb_of_wells\": 1151}, {\"age\": \"Paleocene\", \"wlbName\": [\"1/2-1\", \"1/2-2\", \"1/3-1\", \"1/3-10\", \"1/3-10 A\", \"1/3-11\", \"1/3-12 S\", \"1/3-2\", \"1/3-3\", \"1/3-4\", \"1/3-5\", \"1/3-6\", \"1/3-7\", \"1/3-8\", \"1/3-9 S\", \"1/5-2\", \"1/5-4 S\", \"1/5-5\", \"1/6-1\", \"1/6-2\", \"1/6-3\", \"1/6-4\", \"1/6-5\", \"1/6-6\", \"1/6-7\", \"1/9-1\", \"1/9-1 R\", \"1/9-2\", \"1/9-3 R\", \"1/9-4\", \"1/9-4 R\", \"1/9-5\", \"1/9-6 S\", \"1/9-7\", \"10/4-1\", \"10/5-1\", \"10/7-1\", \"10/8-1\", \"11/10-1\", \"15/12-1\", \"15/12-10 S\", \"15/12-11 S\", \"15/12-12\", \"15/12-13\", \"15/12-13 A\", \"15/12-13 B\", \"15/12-14\", \"15/12-15\", \"15/12-16 S\", \"15/12-17 A\", \"15/12-17 S\", \"15/12-18 A\", \"15/12-18 S\", \"15/12-19\", \"15/12-2\", \"15/12-20 S\", \"15/12-21\", \"15/12-21 A\", \"15/12-22\", \"15/12-23\", \"15/12-23 A\", \"15/12-24 S\", \"15/12-3\", \"15/12-4\", \"15/12-5\", \"15/12-6 S\", \"15/12-7 S\", \"15/12-8\", \"15/12-8 A\", \"15/12-9 S\", \"15/2-1\", \"15/3-1 S\", \"15/3-2\", \"15/3-2 R\", \"15/3-3\", \"15/3-4\", \"15/3-5\", \"15/3-6\", \"15/3-7\", \"15/3-8\", \"15/3-9\", \"15/5-1\", \"15/5-2\", \"15/5-3\", \"15/5-4\", \"15/5-5\", \"15/5-6\", \"15/5-7\", \"15/5-7 A\", \"15/6-1\", \"15/6-10\", \"15/6-11 A\", \"15/6-11 S\", \"15/6-12\", \"15/6-13\", \"15/6-13 A\", \"15/6-13 B\", \"15/6-2 R\", \"15/6-3\", \"15/6-4\", \"15/6-5\", \"15/6-6\", \"15/6-7\", \"15/6-8 A\", \"15/6-8 S\", \"15/6-9 A\", \"15/6-9 B\", \"15/6-9 S\", \"15/8-1\", \"15/8-2\", \"15/9-1\", \"15/9-10\", \"15/9-11\", \"15/9-12\", \"15/9-13\", \"15/9-14\", \"15/9-15\", \"15/9-16\", \"15/9-17\", \"15/9-18\", \"15/9-19 A\", \"15/9-19 B\", \"15/9-19 S\", \"15/9-19 SR\", \"15/9-19 SR2\", \"15/9-2\", \"15/9-20 S\", \"15/9-21 S\", \"15/9-22\", \"15/9-23\", \"15/9-24\", \"15/9-3\", \"15/9-4\", \"15/9-5\", \"15/9-6\", \"15/9-7\", \"15/9-8\", \"15/9-9\", \"16/1-1\", \"16/1-10\", \"16/1-11\", \"16/1-11 A\", \"16/1-12\", \"16/1-13\", \"16/1-14\", \"16/1-15\", \"16/1-15 A\", \"16/1-16\", \"16/1-16 A\", \"16/1-17\", \"16/1-18\", \"16/1-19 S\", \"16/1-2\", \"16/1-20 A\", \"16/1-21 A\", \"16/1-21 S\", \"16/1-22 A\", \"16/1-22 B\", \"16/1-22 S\", \"16/1-23 S\", \"16/1-24\", \"16/1-25 S\", \"16/1-26 A\", \"16/1-26 S\", \"16/1-3\", \"16/1-4\", \"16/1-5\", \"16/1-5 A\", \"16/1-6 A\", \"16/1-6 S\", \"16/1-7\", \"16/1-8\", \"16/1-8 R\", \"16/1-9\", \"16/10-1\", \"16/10-2\", \"16/10-3\", \"16/10-4\", \"16/10-5\", \"16/11-1 S\", \"16/11-2\", \"16/2-1\", \"16/2-10\", \"16/2-11\", \"16/2-11 A\", \"16/2-12\", \"16/2-13 A\", \"16/2-13 S\", \"16/2-14\", \"16/2-15\", \"16/2-16\", \"16/2-16 A\", \"16/2-17 B\", \"16/2-17 S\", \"16/2-18 S\", \"16/2-19\", \"16/2-19 A\", \"16/2-2\", \"16/2-20 A\", \"16/2-20 S\", \"16/2-21\", \"16/2-3\", \"16/2-4\", \"16/2-5\", \"16/2-6\", \"16/2-7\", \"16/2-7 A\", \"16/2-8\", \"16/2-9 S\", \"16/3-2\", \"16/3-3\", \"16/3-4\", \"16/3-4 A\", \"16/3-5\", \"16/3-6\", \"16/3-7\", \"16/3-8 A\", \"16/3-8 S\", \"16/4-1\", \"16/4-10\", \"16/4-2\", \"16/4-3\", \"16/4-4\", \"16/4-5\", \"16/4-6 S\", \"16/4-7\", \"16/4-8 S\", \"16/4-9 S\", \"16/5-1\", \"16/5-2 S\", \"16/5-3\", \"16/5-4\", \"16/5-5\", \"16/5-6\", \"16/6-1\", \"16/7-1\", \"16/7-10\", \"16/7-11\", \"16/7-2\", \"16/7-3\", \"16/7-4\", \"16/7-5\", \"16/7-6\", \"16/7-7 S\", \"16/7-8 S\", \"16/7-9\", \"16/8-1\", \"16/8-2\", \"16/8-3 S\", \"16/9-1\", \"17/10-1\", \"17/11-1\", \"17/11-2\", \"17/12-1 R\", \"17/12-2\", \"17/12-3\", \"17/12-4\", \"17/12-4 A\", \"17/12-4 B\", \"17/3-1\", \"17/4-1\", \"17/6-1\", \"17/9-1\", \"17/9-1 R\", \"18/10-1\", \"18/11-1\", \"2/1-1\", \"2/1-10\", \"2/1-11\", \"2/1-12\", \"2/1-13 S\", \"2/1-14 S\", \"2/1-15\", \"2/1-16 S\", \"2/1-2\", \"2/1-3\", \"2/1-4\", \"2/1-5\", \"2/1-6\", \"2/1-7\", \"2/1-8\", \"2/1-9\", \"2/1-9 A\", \"2/10-1 S\", \"2/10-2\", \"2/11-1\", \"2/11-10 S\", \"2/11-11\", \"2/11-2\", \"2/11-3\", \"2/11-4\", \"2/11-5\", \"2/11-6 S\", \"2/11-7\", \"2/11-8\", \"2/11-9\", \"2/12-1\", \"2/12-2 S\", \"2/2-1\", \"2/2-2\", \"2/2-3\", \"2/2-4\", \"2/2-5\", \"2/2-6\", \"2/3-1\", \"2/3-2\", \"2/3-3\", \"2/3-4\", \"2/4-10\", \"2/4-11\", \"2/4-12\", \"2/4-14\", \"2/4-14 R\", \"2/4-14 R2\", \"2/4-15 S\", \"2/4-15 SR\", \"2/4-16\", \"2/4-16 R\", \"2/4-17\", \"2/4-18 R\", \"2/4-2\", \"2/4-20\", \"2/4-21\", \"2/4-21 A\", \"2/4-22 S\", \"2/4-23 S\", \"2/4-3\", \"2/4-4\", \"2/4-5\", \"2/4-6\", \"2/4-7\", \"2/4-8\", \"2/4-9\", \"2/5-1\", \"2/5-10\", \"2/5-10 A\", \"2/5-11\", \"2/5-12\", \"2/5-13\", \"2/5-14 S\", \"2/5-2\", \"2/5-3\", \"2/5-4\", \"2/5-5\", \"2/5-6\", \"2/5-7\", \"2/5-8\", \"2/5-9\", \"2/6-1\", \"2/6-2\", \"2/6-3\", \"2/6-4 S\", \"2/6-5\", \"2/7-1\", \"2/7-10\", \"2/7-11\", \"2/7-13\", \"2/7-14\", \"2/7-14 R\", \"2/7-15\", \"2/7-16\", \"2/7-19\", \"2/7-19 R\", \"2/7-2\", \"2/7-20\", \"2/7-20 R\", \"2/7-21 S\", \"2/7-21 SR\", \"2/7-22\", \"2/7-23 S\", \"2/7-24\", \"2/7-25 S\", \"2/7-26 S\", \"2/7-27 S\", \"2/7-28\", \"2/7-29\", \"2/7-30\", \"2/7-31\", \"2/7-4\", \"2/7-5\", \"2/7-6\", \"2/7-7\", \"2/7-8\", \"2/7-9\", \"2/8-10\", \"2/8-11\", \"2/8-12 S\", \"2/8-13\", \"2/8-14\", \"2/8-15\", \"2/8-17 A\", \"2/8-17 S\", \"2/8-18 S\", \"2/8-2\", \"2/8-3\", \"2/8-4\", \"2/8-5\", \"2/8-6\", \"2/8-7\", \"2/8-8\", \"2/8-9\", \"2/9-1\", \"2/9-2\", \"2/9-3\", \"2/9-4\", \"2/9-5 S\", \"24/12-1\", \"24/12-1 R\", \"24/12-2\", \"24/12-3 S\", \"24/12-4\", \"24/12-5 S\", \"24/12-6 S\", \"24/6-1\", \"24/6-2\", \"24/6-4\", \"24/9-1\", \"24/9-10 A\", \"24/9-10 S\", \"24/9-2\", \"24/9-3\", \"24/9-4\", \"24/9-5\", \"24/9-6\", \"24/9-7\", \"24/9-7 A\", \"24/9-7 B\", \"24/9-7 C\", \"24/9-8\", \"24/9-9 A\", \"24/9-9 B\", \"24/9-9 S\", \"25/1-1\", \"25/1-10\", \"25/1-11\", \"25/1-11 A\", \"25/1-11 R\", \"25/1-2\", \"25/1-3\", \"25/1-4\", \"25/1-5\", \"25/1-6\", \"25/1-7\", \"25/1-7 R\", \"25/1-7 R2\", \"25/1-7 R3\", \"25/1-7 R4\", \"25/1-8 S\", \"25/1-8 SR\", \"25/1-8 SR2\", \"25/1-8 SR3\", \"25/1-8 SR4\", \"25/1-9\", \"25/10-1\", \"25/10-1 R\", \"25/10-10\", \"25/10-11\", \"25/10-12 S\", \"25/10-13 S\", \"25/10-14 S\", \"25/10-15 S\", \"25/10-2\", \"25/10-2 R\", \"25/10-3\", \"25/10-4\", \"25/10-4 R\", \"25/10-5\", \"25/10-6 S\", \"25/10-7 S\", \"25/10-8\", \"25/10-8 A\", \"25/10-9\", \"25/11-1\", \"25/11-10\", \"25/11-11\", \"25/11-12\", \"25/11-13\", \"25/11-14 S\", \"25/11-14 SR\", \"25/11-15\", \"25/11-16\", \"25/11-17\", \"25/11-18\", \"25/11-19 S\", \"25/11-19 SR\", \"25/11-2\", \"25/11-20\", \"25/11-21 A\", \"25/11-21 S\", \"25/11-22\", \"25/11-23\", \"25/11-24\", \"25/11-25 A\", \"25/11-25 S\", \"25/11-26\", \"25/11-27\", \"25/11-28\", \"25/11-3\", \"25/11-4\", \"25/11-5\", \"25/11-6\", \"25/11-7\", \"25/11-8\", \"25/11-9\", \"25/12-1\", \"25/2-1\", \"25/2-10 S\", \"25/2-10 SR\", \"25/2-11\", \"25/2-12\", \"25/2-12 A\", \"25/2-13\", \"25/2-14\", \"25/2-15\", \"25/2-15 R\", \"25/2-15 R2\", \"25/2-16 S\", \"25/2-17\", \"25/2-18 A\", \"25/2-18 B\", \"25/2-18 C\", \"25/2-18 S\", \"25/2-2\", \"25/2-3\", \"25/2-4\", \"25/2-5\", \"25/2-6\", \"25/2-7\", \"25/2-8\", \"25/2-9\", \"25/3-1\", \"25/4-1\", \"25/4-10 A\", \"25/4-10 S\", \"25/4-2\", \"25/4-3\", \"25/4-4\", \"25/4-5\", \"25/4-6 S\", \"25/4-6 SR\", \"25/4-7\", \"25/4-8\", \"25/4-9 S\", \"25/5-1\", \"25/5-1 A\", \"25/5-2\", \"25/5-3\", \"25/5-4\", \"25/5-5\", \"25/5-6\", \"25/5-7\", \"25/5-8\", \"25/5-9\", \"25/6-1\", \"25/6-2\", \"25/6-3\", \"25/6-4 S\", \"25/6-5 S\", \"25/7-1 S\", \"25/7-2\", \"25/7-3\", \"25/7-4 S\", \"25/7-5\", \"25/7-6\", \"25/8-1\", \"25/8-10 S\", \"25/8-11\", \"25/8-12 A\", \"25/8-12 S\", \"25/8-13\", \"25/8-14 S\", \"25/8-15 S\", \"25/8-16 A\", \"25/8-16 S\", \"25/8-17\", \"25/8-17 A\", \"25/8-18 S\", \"25/8-2\", \"25/8-3\", \"25/8-4\", \"25/8-5 S\", \"25/8-5 SR\", \"25/8-6\", \"25/8-7\", \"25/8-8 A\", \"25/8-8 B\", \"25/8-8 S\", \"25/8-9\", \"25/8-9 A\", \"25/9-1\", \"25/9-2 S\", \"25/9-3\", \"25/9-4\", \"26/10-1\", \"26/4-1\", \"26/4-2\", \"26/5-1\", \"29/3-1\", \"29/6-1\", \"29/9-1\", \"3/4-1\", \"3/4-2 S\", \"3/5-1\", \"3/5-2\", \"3/6-1\", \"3/7-1\", \"3/7-10 S\", \"3/7-2\", \"3/7-3\", \"3/7-4\", \"3/7-5\", \"3/7-6\", \"3/7-7\", \"3/7-8 S\", \"3/7-9 S\", \"3/8-1\", \"30/10-1\", \"30/10-2\", \"30/10-3\", \"30/10-4\", \"30/10-5\", \"30/10-6\", \"30/10-7\", \"30/11-1\", \"30/11-10\", \"30/11-10 A\", \"30/11-11 A\", \"30/11-11 S\", \"30/11-12 A\", \"30/11-12 S\", \"30/11-13\", \"30/11-14\", \"30/11-14 B\", \"30/11-2\", \"30/11-3\", \"30/11-4\", \"30/11-5\", \"30/11-6 S\", \"30/11-7\", \"30/11-7 A\", \"30/11-8 A\", \"30/11-8 S\", \"30/11-9 A\", \"30/11-9 S\", \"30/12-1\", \"30/2-1\", \"30/2-2\", \"30/2-3\", \"30/2-4 S\", \"30/3-1\", \"30/3-1 R\", \"30/3-10 S\", \"30/3-2\", \"30/3-2 R\", \"30/3-3\", \"30/3-4\", \"30/3-4 R\", \"30/3-5 S\", \"30/3-7 A\", \"30/3-7 B\", \"30/3-7 BR\", \"30/3-7 S\", \"30/3-8 A\", \"30/3-8 S\", \"30/3-9\", \"30/4-1\", \"30/4-2\", \"30/4-3 S\", \"30/5-1\", \"30/5-2\", \"30/5-3 A\", \"30/5-3 S\", \"30/6-1\", \"30/6-10\", \"30/6-10 A\", \"30/6-11\", \"30/6-13\", \"30/6-13 R\", \"30/6-14\", \"30/6-15\", \"30/6-16\", \"30/6-17 A\", \"30/6-17 R\", \"30/6-18\", \"30/6-19\", \"30/6-19 R\", \"30/6-2\", \"30/6-20\", \"30/6-21\", \"30/6-22\", \"30/6-22 R\", \"30/6-23\", \"30/6-24 S\", \"30/6-25 S\", \"30/6-26\", \"30/6-27\", \"30/6-28 S\", \"30/6-3\", \"30/6-4\", \"30/6-5\", \"30/6-6\", \"30/6-7\", \"30/6-8\", \"30/6-9\", \"30/6-9 R\", \"30/7-1\", \"30/7-2\", \"30/7-3\", \"30/7-6\", \"30/7-6 R\", \"30/7-7\", \"30/7-8\", \"30/7-8 R\", \"30/8-1 S\", \"30/8-1 SR\", \"30/8-2\", \"30/8-3\", \"30/8-4 S\", \"30/9-1\", \"30/9-10\", \"30/9-11\", \"30/9-11 A\", \"30/9-12\", \"30/9-12 A\", \"30/9-12 AR\", \"30/9-13 S\", \"30/9-13 SR\", \"30/9-14\", \"30/9-15\", \"30/9-16\", \"30/9-17\", \"30/9-17 R\", \"30/9-18\", \"30/9-19\", \"30/9-19 A\", \"30/9-2\", \"30/9-2 R\", \"30/9-20 S\", \"30/9-21 A\", \"30/9-21 S\", \"30/9-22\", \"30/9-23\", \"30/9-24\", \"30/9-25\", \"30/9-27 S\", \"30/9-28 S\", \"30/9-3\", \"30/9-3 A\", \"30/9-4 S\", \"30/9-5 S\", \"30/9-6\", \"30/9-7\", \"30/9-8\", \"30/9-8 R\", \"30/9-9\", \"31/1-1\", \"31/10-1\", \"31/2-1\", \"31/2-1 R\", \"31/2-10\", \"31/2-11\", \"31/2-12\", \"31/2-13 S\", \"31/2-14\", \"31/2-15\", \"31/2-16 S\", \"31/2-16 SR\", \"31/2-17 A\", \"31/2-17 B\", \"31/2-17 BR\", \"31/2-17 S\", \"31/2-18\", \"31/2-18 A\", \"31/2-19 S\", \"31/2-2\", \"31/2-2 R\", \"31/2-21 S\", \"31/2-3\", \"31/2-4 R\", \"31/2-4 R2\", \"31/2-5\", \"31/2-5 R\", \"31/2-5 R2\", \"31/2-6\", \"31/2-7\", \"31/2-8\", \"31/2-9\", \"31/3-1\", \"31/3-2\", \"31/3-3\", \"31/3-4\", \"31/4-1\", \"31/4-10\", \"31/4-11\", \"31/4-12\", \"31/4-2\", \"31/4-3\", \"31/4-4\", \"31/4-5\", \"31/4-6\", \"31/4-7\", \"31/4-8\", \"31/4-9\", \"31/5-2\", \"31/5-2 R\", \"31/5-3\", \"31/5-4 A\", \"31/5-4 AR\", \"31/5-4 AR2\", \"31/5-4 S\", \"31/5-5\", \"31/5-5 R\", \"31/5-6\", \"31/6-1\", \"31/6-2\", \"31/6-2 R\", \"31/6-3\", \"31/6-4\", \"31/6-5\", \"31/6-6\", \"31/6-8\", \"31/6-8 R\", \"31/7-1\", \"31/7-1 A\", \"31/8-1\", \"32/4-1\", \"33/12-1\", \"33/12-10 S\", \"33/12-2\", \"33/12-3\", \"33/12-4\", \"33/12-5\", \"33/12-6\", \"33/12-7\", \"33/12-8 A\", \"33/12-8 S\", \"33/12-9 S\", \"33/2-1\", \"33/2-2 S\", \"33/5-1\", \"33/5-2\", \"33/6-1\", \"33/6-2\", \"33/6-3 S\", \"33/6-4\", \"33/9-1\", \"33/9-10\", \"33/9-11\", \"33/9-12\", \"33/9-13 S\", \"33/9-14\", \"33/9-15\", \"33/9-16\", \"33/9-17\", \"33/9-18\", \"33/9-18 A\", \"33/9-19 A\", \"33/9-19 S\", \"33/9-20 S\", \"33/9-21 A\", \"33/9-21 B\", \"33/9-21 S\", \"33/9-3\", \"33/9-5\", \"33/9-6\", \"33/9-7\", \"33/9-8\", \"33/9-9\", \"34/10-1\", \"34/10-11\", \"34/10-12\", \"34/10-13\", \"34/10-14\", \"34/10-15\", \"34/10-16\", \"34/10-16 R\", \"34/10-17\", \"34/10-18\", \"34/10-19\", \"34/10-2\", \"34/10-20\", \"34/10-21\", \"34/10-23\", \"34/10-3\", \"34/10-3 R\", \"34/10-30\", \"34/10-32\", \"34/10-32 R\", \"34/10-33\", \"34/10-33 A\", \"34/10-33 B\", \"34/10-33 C\", \"34/10-33 CR\", \"34/10-34\", \"34/10-35\", \"34/10-36\", \"34/10-37\", \"34/10-37 A\", \"34/10-38 S\", \"34/10-39 S\", \"34/10-4\", \"34/10-40 S\", \"34/10-41 S\", \"34/10-42 S\", \"34/10-43 S\", \"34/10-44 S\", \"34/10-45 A\", \"34/10-45 B\", \"34/10-45 S\", \"34/10-46 A\", \"34/10-46 B\", \"34/10-46 S\", \"34/10-47 A\", \"34/10-47 S\", \"34/10-48 A\", \"34/10-48 S\", \"34/10-49 A\", \"34/10-49 B\", \"34/10-49 S\", \"34/10-5\", \"34/10-52 A\", \"34/10-52 B\", \"34/10-52 S\", \"34/10-53 A\", \"34/10-53 S\", \"34/10-54 A\", \"34/10-54 S\", \"34/10-6\", \"34/10-7\", \"34/10-7 R\", \"34/10-8\", \"34/10-9\", \"34/10-9 R\", \"34/11-1\", \"34/11-2 S\", \"34/11-3\", \"34/11-4\", \"34/11-5 S\", \"34/12-1\", \"34/2-2 R\", \"34/2-3\", \"34/2-4\", \"34/3-1 A\", \"34/3-1 S\", \"34/3-2 S\", \"34/3-3 A\", \"34/3-3 S\", \"34/3-4 A\", \"34/3-4 S\", \"34/3-5\", \"34/4-1\", \"34/4-10\", \"34/4-10 R\", \"34/4-11\", \"34/4-12 A\", \"34/4-12 S\", \"34/4-13 S\", \"34/4-14 S\", \"34/4-2\", \"34/4-3\", \"34/4-4\", \"34/4-5\", \"34/4-6\", \"34/4-7\", \"34/4-8\", \"34/4-9 S\", \"34/5-1 A\", \"34/5-1 S\", \"34/6-1 S\", \"34/6-2 A\", \"34/6-2 S\", \"34/6-3 A\", \"34/6-3 S\", \"34/6-4\", \"34/7-1\", \"34/7-10\", \"34/7-11\", \"34/7-12\", \"34/7-13\", \"34/7-14\", \"34/7-15 S\", \"34/7-16\", \"34/7-16 R\", \"34/7-16 R2\", \"34/7-17\", \"34/7-17 A\", \"34/7-18\", \"34/7-19\", \"34/7-19 R\", \"34/7-2\", \"34/7-20\", \"34/7-21\", \"34/7-21 A\", \"34/7-22\", \"34/7-23 A\", \"34/7-23 S\", \"34/7-24 S\", \"34/7-25 S\", \"34/7-26 A\", \"34/7-26 S\", \"34/7-26 SR\", \"34/7-27\", \"34/7-28\", \"34/7-29 S\", \"34/7-29 SR\", \"34/7-3\", \"34/7-30 S\", \"34/7-30 SR\", \"34/7-31\", \"34/7-31 A\", \"34/7-32\", \"34/7-33\", \"34/7-34\", \"34/7-34 A\", \"34/7-35 S\", \"34/7-36 S\", \"34/7-4\", \"34/7-5\", \"34/7-6\", \"34/7-7\", \"34/7-8\", \"34/7-9\", \"34/8-1\", \"34/8-10 S\", \"34/8-11\", \"34/8-12 S\", \"34/8-13 A\", \"34/8-13 S\", \"34/8-14 A\", \"34/8-14 B\", \"34/8-14 C\", \"34/8-14 D\", \"34/8-14 S\", \"34/8-15 S\", \"34/8-16 S\", \"34/8-17 S\", \"34/8-2\", \"34/8-3\", \"34/8-3 A\", \"34/8-4 A\", \"34/8-4 AR\", \"34/8-4 S\", \"34/8-5\", \"34/8-6\", \"34/8-7\", \"34/8-7 R\", \"34/8-8\", \"34/8-8 R\", \"34/8-9 S\", \"35/1-1\", \"35/1-2 S\", \"35/10-1\", \"35/10-2\", \"35/10-3\", \"35/11-1\", \"35/11-10\", \"35/11-10 A\", \"35/11-11\", \"35/11-12\", \"35/11-13\", \"35/11-14 S\", \"35/11-15 S\", \"35/11-16 S\", \"35/11-17\", \"35/11-18\", \"35/11-18 A\", \"35/11-2\", \"35/11-20 A\", \"35/11-20 B\", \"35/11-20 S\", \"35/11-3 S\", \"35/11-4\", \"35/11-4 R\", \"35/11-5\", \"35/11-6\", \"35/11-7\", \"35/11-8 S\", \"35/11-9\", \"35/12-1\", \"35/12-2\", \"35/12-3 S\", \"35/12-4 A\", \"35/12-4 S\", \"35/12-5 S\", \"35/2-2\", \"35/2-3\", \"35/3-1\", \"35/3-2\", \"35/3-4\", \"35/3-5\", \"35/3-6\", \"35/3-7 S\", \"35/4-1\", \"35/6-1 S\", \"35/6-2 S\", \"35/7-1 S\", \"35/8-1\", \"35/8-2\", \"35/8-3\", \"35/8-4\", \"35/8-5 S\", \"35/8-6 A\", \"35/8-6 S\", \"35/9-1\", \"35/9-1 R\", \"35/9-10 A\", \"35/9-10 S\", \"35/9-11 A\", \"35/9-11 S\", \"35/9-12 S\", \"35/9-2\", \"35/9-3\", \"35/9-4 S\", \"35/9-5\", \"35/9-6 S\", \"35/9-7\", \"35/9-8\", \"35/9-9\", \"36/1-1\", \"36/1-2\", \"36/4-1\", \"36/7-2\", \"36/7-3\", \"36/7-4\", \"4/4-1\", \"6/3-1\", \"6/3-2\", \"6201/11-1\", \"6201/11-2\", \"6201/11-3\", \"6201/11-3 R\", \"6204/10-1\", \"6204/10-2\", \"6204/10-2 A\", \"6204/10-2 R\", \"6204/11-1\", \"6204/11-2\", \"6205/3-1\", \"6205/3-1 R\", \"6302/6-1\", \"6305/1-1\", \"6305/12-1\", \"6305/12-2\", \"6305/4-1\", \"6305/4-2 S\", \"6305/5-1\", \"6305/5-3 S\", \"6305/7-1\", \"6305/8-1\", \"6305/8-2\", \"6305/9-1\", \"6305/9-2\", \"6306/10-1\", \"6306/5-1\", \"6306/5-2\", \"6306/6-1\", \"6306/6-2\", \"6403/10-1\", \"6403/6-1\", \"6404/11-1\", \"6405/10-1\", \"6405/12-1\", \"6405/7-1\", \"6406/1-1\", \"6406/1-2\", \"6406/1-3\", \"6406/1-3 R\", \"6406/1-3 R2\", \"6406/1-4\", \"6406/11-1 S\", \"6406/12-1 S\", \"6406/12-2\", \"6406/12-3 A\", \"6406/12-3 B\", \"6406/12-3 S\", \"6406/12-4 A\", \"6406/12-4 S\", \"6406/12-5 S\", \"6406/2-1\", \"6406/2-1 R\", \"6406/2-2\", \"6406/2-2 R\", \"6406/2-3\", \"6406/2-4 S\", \"6406/2-4 SR\", \"6406/2-5\", \"6406/2-5 A\", \"6406/2-6\", \"6406/2-6 A\", \"6406/2-6 R\", \"6406/2-7\", \"6406/2-8\", \"6406/3-1\", \"6406/3-2\", \"6406/3-3\", \"6406/3-4\", \"6406/3-5\", \"6406/3-6\", \"6406/3-7\", \"6406/3-8\", \"6406/3-9\", \"6406/5-1\", \"6406/6-1\", \"6406/6-2\", \"6406/6-3\", \"6406/6-4\", \"6406/6-4 S\", \"6406/8-1\", \"6406/8-2\", \"6406/9-1\", \"6406/9-2\", \"6406/9-3\", \"6407/1-1\", \"6407/1-2\", \"6407/1-3\", \"6407/1-4\", \"6407/1-5 S\", \"6407/1-6 S\", \"6407/1-7\", \"6407/1-7 A\", \"6407/10-1\", \"6407/10-2\", \"6407/10-3\", \"6407/10-4\", \"6407/10-5\", \"6407/12-1\", \"6407/12-2\", \"6407/12-3\", \"6407/2-1\", \"6407/2-2\", \"6407/2-3\", \"6407/2-4\", \"6407/2-5 S\", \"6407/2-6 S\", \"6407/3-1 S\", \"6407/4-1\", \"6407/4-2\", \"6407/5-1\", \"6407/5-2 S\", \"6407/6-1\", \"6407/6-2\", \"6407/6-2 R\", \"6407/6-2 R2\", \"6407/6-3\", \"6407/6-4\", \"6407/6-5\", \"6407/6-6\", \"6407/6-7 S\", \"6407/7-1 S\", \"6407/7-2\", \"6407/7-2 R\", \"6407/7-3\", \"6407/7-4\", \"6407/7-5\", \"6407/7-6\", \"6407/7-7 S\", \"6407/7-8\", \"6407/7-8 A\", \"6407/7-9 A\", \"6407/7-9 S\", \"6407/8-1\", \"6407/8-2\", \"6407/8-3\", \"6407/8-4 A\", \"6407/8-4 S\", \"6407/8-5 A\", \"6407/8-5 S\", \"6407/8-6\", \"6407/8-6 A\", \"6407/8-7\", \"6407/8-7 A\", \"6407/9-1\", \"6407/9-10\", \"6407/9-2\", \"6407/9-3\", \"6407/9-4\", \"6407/9-5\", \"6407/9-6\", \"6407/9-6 R\", \"6407/9-7\", \"6407/9-8\", \"6407/9-9\", \"6408/4-1\", \"6504/5-1 S\", \"6505/10-1\", \"6506/11-1\", \"6506/11-2\", \"6506/11-3\", \"6506/11-4 S\", \"6506/11-5 S\", \"6506/11-6\", \"6506/11-7\", \"6506/11-8\", \"6506/11-9 S\", \"6506/12-1\", \"6506/12-10\", \"6506/12-10 A\", \"6506/12-11 S\", \"6506/12-11 SR\", \"6506/12-12 A\", \"6506/12-12 S\", \"6506/12-2\", \"6506/12-3\", \"6506/12-4\", \"6506/12-5\", \"6506/12-6\", \"6506/12-7\", \"6506/12-8\", \"6506/12-9 S\", \"6506/3-1\", \"6506/6-1\", \"6506/6-2\", \"6506/9-1\", \"6506/9-2 S\", \"6506/9-3\", \"6507/1-1\", \"6507/10-1\", \"6507/10-2 S\", \"6507/11-1\", \"6507/11-10\", \"6507/11-11\", \"6507/11-2\", \"6507/11-3\", \"6507/11-4\", \"6507/11-5 S\", \"6507/11-6\", \"6507/11-7\", \"6507/11-8\", \"6507/11-9\", \"6507/12-1\", \"6507/12-2\", \"6507/12-3\", \"6507/2-1\", \"6507/2-2\", \"6507/2-3\", \"6507/2-4\", \"6507/3-1\", \"6507/3-10\", \"6507/3-11 S\", \"6507/3-2\", \"6507/3-3\", \"6507/3-3 A\", \"6507/3-3 B\", \"6507/3-4\", \"6507/3-5 S\", \"6507/3-6\", \"6507/3-7\", \"6507/3-8\", \"6507/3-9 S\", \"6507/5-1\", \"6507/5-2\", \"6507/5-3\", \"6507/5-4\", \"6507/5-4 A\", \"6507/5-5\", \"6507/5-6 S\", \"6507/5-7\", \"6507/6-1\", \"6507/6-2\", \"6507/6-3\", \"6507/6-4 A\", \"6507/6-4 S\", \"6507/7-1\", \"6507/7-10\", \"6507/7-11 S\", \"6507/7-12\", \"6507/7-13\", \"6507/7-13 A\", \"6507/7-14 S\", \"6507/7-15 S\", \"6507/7-2\", \"6507/7-3\", \"6507/7-4\", \"6507/7-5\", \"6507/7-5 A\", \"6507/7-6\", \"6507/7-7\", \"6507/7-8\", \"6507/7-9\", \"6507/8-1\", \"6507/8-2\", \"6507/8-3\", \"6507/8-4\", \"6507/8-5\", \"6507/8-6\", \"6507/8-7\", \"6507/8-8\", \"6508/1-1 A\", \"6508/1-1 S\", \"6508/1-2\", \"6508/5-1\", \"6510/2-1\", \"6510/2-1 R\", \"6603/12-1\", \"6603/5-1 S\", \"6604/10-1\", \"6604/2-1\", \"6605/1-1\", \"6605/8-1\", \"6605/8-2\", \"6607/12-1\", \"6607/12-2 S\", \"6607/12-3\", \"6607/2-1\", \"6607/5-1\", \"6607/5-2\", \"6608/10-1\", \"6608/10-10\", \"6608/10-11 S\", \"6608/10-12\", \"6608/10-12 A\", \"6608/10-13\", \"6608/10-14 S\", \"6608/10-15\", \"6608/10-16\", \"6608/10-17 S\", \"6608/10-2\", \"6608/10-3\", \"6608/10-3 R\", \"6608/10-4\", \"6608/10-5\", \"6608/10-6\", \"6608/10-6 R\", \"6608/10-6 R2\", \"6608/10-7\", \"6608/10-8\", \"6608/10-8 A\", \"6608/10-9\", \"6608/11-1\", \"6608/11-2\", \"6608/11-3\", \"6608/11-4\", \"6608/11-5\", \"6608/11-6\", \"6608/11-7 S\", \"6608/11-8\", \"6608/2-1 S\", \"6608/8-1\", \"6608/8-2\", \"6609/10-1\", \"6609/10-2\", \"6609/11-1\", \"6609/5-1\", \"6609/6-1\", \"6609/7-1\", \"6610/10-1\", \"6610/2-1 S\", \"6610/3-1\", \"6610/3-1 R\", \"6610/3-1 R2\", \"6610/7-1\", \"6610/7-2\", \"6704/12-1\", \"6705/10-1\", \"6706/11-1\", \"6706/11-2\", \"6706/12-1\", \"6706/12-2\", \"6706/12-3\", \"6706/6-1\", \"6707/10-1\", \"6707/10-2 A\", \"6707/10-2 S\", \"6707/10-3 S\", \"6710/10-1\", \"7/1-1\", \"7/1-2 S\", \"7/11-1\", \"7/11-10 S\", \"7/11-11 S\", \"7/11-12 A\", \"7/11-12 S\", \"7/11-13\", \"7/11-2\", \"7/11-3\", \"7/11-4\", \"7/11-5\", \"7/11-6\", \"7/11-7\", \"7/11-7 R\", \"7/11-8\", \"7/11-9\", \"7/12-1 S\", \"7/12-10\", \"7/12-11\", \"7/12-12 S\", \"7/12-13 S\", \"7/12-2\", \"7/12-3\", \"7/12-3 A\", \"7/12-4\", \"7/12-5\", \"7/12-6\", \"7/12-7\", \"7/12-8\", \"7/12-9\", \"7/3-1\", \"7/4-1\", \"7/4-2\", \"7/4-3\", \"7/7-1\", \"7/7-2\", \"7/7-3\", \"7/7-4\", \"7/8-1\", \"7/8-2\", \"7/8-3\", \"7/8-4\", \"7/8-5 S\", \"7/8-6 S\", \"7/9-1\", \"8/1-1\", \"8/10-1\", \"8/10-2\", \"8/10-3\", \"8/10-4 A\", \"8/10-4 S\", \"8/10-5 A\", \"8/10-5 S\", \"8/10-6 S\", \"8/11-1\", \"8/12-1\", \"8/3-1\", \"8/3-2\", \"8/4-1\", \"8/5-1\", \"8/9-1\", \"9/1-1 S\", \"9/10-1\", \"9/11-1\", \"9/12-1\", \"9/2-1\", \"9/2-11\", \"9/2-2\", \"9/2-3\", \"9/2-4 S\", \"9/2-5\", \"9/2-6 S\", \"9/2-7 S\", \"9/2-8 S\", \"9/2-9 S\", \"9/3-1\", \"9/3-2\", \"9/4-1\", \"9/4-2\", \"9/4-3\", \"9/4-4\", \"9/4-5\", \"9/8-1\"], \"nb_of_wells\": 1549}, {\"age\": \"Permian\", \"wlbName\": [\"15/9-16\", \"15/9-9\", \"16/1-2\", \"16/1-3\", \"16/2-7\", \"16/3-5\", \"16/3-7\", \"16/3-8 A\", \"16/3-8 S\", \"16/4-1\", \"16/7-2\", \"16/7-3\", \"17/4-1\", \"2/1-7\", \"2/4-17\", \"25/10-2 R\", \"25/10-4 R\", \"3/5-1\", \"3/8-1\", \"6/3-2\", \"7/3-1\", \"8/10-3\"], \"nb_of_wells\": 22}, {\"age\": \"Triassic\", \"wlbName\": [\"1/3-12 S\", \"1/3-3\", \"1/3-8\", \"1/6-6\", \"1/9-7\", \"10/5-1\", \"10/8-1\", \"11/10-1\", \"11/9-1\", \"15/12-1\", \"15/12-10 S\", \"15/12-11 S\", \"15/12-12\", \"15/12-13 B\", \"15/12-16 S\", \"15/12-17 A\", \"15/12-17 S\", \"15/12-19\", \"15/12-2\", \"15/12-20 S\", \"15/12-21\", \"15/12-21 A\", \"15/12-22\", \"15/12-23\", \"15/12-24 S\", \"15/12-5\", \"15/12-6 S\", \"15/12-7 S\", \"15/12-8\", \"15/12-8 A\", \"15/12-9 S\", \"15/3-3\", \"15/3-4\", \"15/5-7\", \"15/6-10\", \"15/6-12\", \"15/6-13\", \"15/6-13 A\", \"15/6-13 B\", \"15/6-3\", \"15/6-4\", \"15/6-5\", \"15/6-6\", \"15/6-7\", \"15/6-8 S\", \"15/6-9 A\", \"15/6-9 S\", \"15/9-1\", \"15/9-10\", \"15/9-11\", \"15/9-13\", \"15/9-14\", \"15/9-15\", \"15/9-16\", \"15/9-17\", \"15/9-18\", \"15/9-19 A\", \"15/9-19 B\", \"15/9-19 SR\", \"15/9-19 SR2\", \"15/9-2\", \"15/9-20 S\", \"15/9-22\", \"15/9-23\", \"15/9-3\", \"15/9-4\", \"15/9-5\", \"15/9-6\", \"15/9-8\", \"15/9-9\", \"16/1-11\", \"16/1-11 A\", \"16/1-14\", \"16/1-16\", \"16/1-16 A\", \"16/1-18\", \"16/1-2\", \"16/1-20 A\", \"16/1-21 A\", \"16/1-21 S\", \"16/1-22 A\", \"16/1-22 B\", \"16/1-22 S\", \"16/1-23 S\", \"16/1-26 S\", \"16/1-3\", \"16/1-7\", \"16/1-9\", \"16/10-1\", \"16/10-2\", \"16/10-3\", \"16/10-4\", \"16/11-1 S\", \"16/2-10\", \"16/2-11\", \"16/2-11 A\", \"16/2-13 A\", \"16/2-13 S\", \"16/2-14\", \"16/2-15\", \"16/2-16\", \"16/2-16 A\", \"16/2-17 S\", \"16/2-19\", \"16/2-19 A\", \"16/2-20 A\", \"16/2-20 S\", \"16/2-21\", \"16/2-6\", \"16/2-7\", \"16/2-7 A\", \"16/2-8\", \"16/2-9 S\", \"16/3-8 A\", \"16/3-8 S\", \"16/4-1\", \"16/4-10\", \"16/4-6 S\", \"16/4-7\", \"16/4-8 S\", \"16/4-9 S\", \"16/5-2 S\", \"16/5-3\", \"16/5-4\", \"16/5-6\", \"16/7-11\", \"16/7-2\", \"16/7-3\", \"16/7-4\", \"16/7-5\", \"16/7-6\", \"16/7-7 S\", \"16/7-8 S\", \"16/7-9\", \"16/8-1\", \"16/9-1\", \"17/10-1\", \"17/11-1\", \"17/11-2\", \"17/12-1 R\", \"17/12-3\", \"17/12-4\", \"17/3-1\", \"17/4-1\", \"17/6-1\", \"17/9-1 R\", \"18/10-1\", \"2/1-10\", \"2/1-11\", \"2/1-13 S\", \"2/1-2\", \"2/1-3\", \"2/1-4\", \"2/1-6\", \"2/1-7\", \"2/1-8\", \"2/10-2\", \"2/12-1\", \"2/12-2 S\", \"2/2-1\", \"2/2-2\", \"2/2-3\", \"2/2-4\", \"2/3-1\", \"2/3-3\", \"2/3-4\", \"2/4-20\", \"2/4-23 S\", \"2/5-10\", \"2/5-10 A\", \"2/5-13\", \"2/5-6\", \"2/5-7\", \"2/6-1\", \"2/6-3\", \"2/6-4 S\", \"2/7-28\", \"2/7-29\", \"2/8-12 S\", \"2/9-3\", \"25/10-10\", \"25/10-12 S\", \"25/10-15 S\", \"25/11-1\", \"25/2-13\", \"25/2-4\", \"25/2-5\", \"25/2-6\", \"25/4-1\", \"25/4-5\", \"25/6-1\", \"25/8-12 A\", \"25/8-12 S\", \"25/8-5 S\", \"25/8-5 SR\", \"25/9-1\", \"29/6-1\", \"3/4-1\", \"3/5-2\", \"3/7-10 S\", \"3/7-2\", \"3/7-9 S\", \"30/2-3\", \"30/3-2 R\", \"30/3-7 S\", \"30/5-3 S\", \"30/6-1\", \"30/6-14\", \"30/6-15\", \"30/6-16\", \"30/6-19\", \"30/6-19 R\", \"30/6-23\", \"30/6-24 S\", \"30/6-28 S\", \"30/6-29 S\", \"30/6-9\", \"30/6-9 R\", \"30/8-1 SR\", \"30/9-16\", \"30/9-24\", \"30/9-28 S\", \"30/9-3 A\", \"30/9-4 S\", \"30/9-7\", \"30/9-9\", \"31/4-8\", \"32/2-1\", \"33/12-1\", \"33/12-2\", \"33/12-5\", \"33/12-8 S\", \"33/2-1\", \"33/2-2 S\", \"33/5-1\", \"33/5-2\", \"33/6-1\", \"33/6-3 S\", \"34/10-1\", \"34/10-11\", \"34/10-16\", \"34/10-16 R\", \"34/10-2\", \"34/10-21\", \"34/10-3\", \"34/10-3 R\", \"34/10-30\", \"34/10-32\", \"34/10-32 R\", \"34/10-38 S\", \"34/10-4\", \"34/10-43 S\", \"34/10-44 S\", \"34/10-47 A\", \"34/10-48 A\", \"34/10-48 S\", \"34/10-5\", \"34/10-54 A\", \"34/10-7\", \"34/10-7 R\", \"34/10-9 R\", \"34/2-2 R\", \"34/2-3\", \"34/2-4\", \"34/4-1\", \"34/4-11\", \"34/4-12 A\", \"34/4-12 S\", \"34/4-13 S\", \"34/4-14 S\", \"34/4-2\", \"34/4-3\", \"34/4-4\", \"34/4-5\", \"34/4-6\", \"34/4-7\", \"34/4-8\", \"34/4-9 S\", \"34/5-1 S\", \"34/6-1 S\", \"34/6-2 S\", \"34/6-3 S\", \"34/7-1\", \"34/7-10\", \"34/7-12\", \"34/7-13\", \"34/7-16 R\", \"34/7-16 R2\", \"34/7-17\", \"34/7-2\", \"34/7-20\", \"34/7-3\", \"34/7-34\", \"34/7-34 A\", \"34/7-4\", \"34/7-5\", \"34/7-6\", \"34/7-7\", \"34/7-8\", \"34/7-9\", \"34/8-1\", \"34/8-10 S\", \"34/8-12 S\", \"34/8-13 S\", \"34/8-16 S\", \"34/8-17 S\", \"34/8-2\", \"34/8-4 A\", \"34/8-4 AR\", \"34/8-4 S\", \"34/8-5\", \"34/8-7\", \"34/8-7 R\", \"34/8-8\", \"34/8-8 R\", \"34/8-9 S\", \"35/1-1\", \"35/9-6 S\", \"6/3-1\", \"6/3-2\", \"6201/11-1\", \"6201/11-2\", \"6201/11-3 R\", \"7/1-1\", \"7/11-10 S\", \"7/11-11 S\", \"7/11-12 A\", \"7/11-12 S\", \"7/11-13\", \"7/11-5\", \"7/11-6\", \"7/11-7\", \"7/11-7 R\", \"7/11-8\", \"7/11-9\", \"7/12-10\", \"7/12-11\", \"7/12-3 A\", \"7/12-5\", \"7/12-6\", \"7/12-8\", \"7/12-9\", \"7/4-2\", \"7/4-3\", \"7/7-1\", \"7/7-2\", \"7/7-3\", \"7/8-2\", \"7/8-3\", \"7/8-4\", \"7/8-5 S\", \"7/9-1\", \"8/1-1\", \"8/10-1\", \"8/10-2\", \"8/10-3\", \"8/10-4 A\", \"8/10-4 S\", \"8/10-5 A\", \"8/10-5 S\", \"8/10-6 S\", \"8/11-1\", \"8/12-1\", \"8/3-1\", \"8/3-2\", \"8/4-1\", \"8/5-1\", \"9/1-1 S\", \"9/11-1\", \"9/12-1\", \"9/2-1\", \"9/2-2\", \"9/3-1\", \"9/3-2\", \"9/4-1\", \"9/4-2\", \"9/4-3\", \"9/4-4\", \"9/4-5\"], \"nb_of_wells\": 379}]}};\n",
       "var opt = {};\n",
       "var type = \"vega-lite\";\n",
       "var id = \"cb486c2e-9d35-416e-964e-e3a3201e4d64\";\n",
       "\n",
       "var output_area = this;\n",
       "\n",
       "require([\"nbextensions/jupyter-vega/index\"], function(vega) {\n",
       "  var target = document.createElement(\"div\");\n",
       "  target.id = id;\n",
       "  target.className = \"vega-embed\";\n",
       "\n",
       "  var style = document.createElement(\"style\");\n",
       "  style.textContent = [\n",
       "    \".vega-embed .error p {\",\n",
       "    \"  color: firebrick;\",\n",
       "    \"  font-size: 14px;\",\n",
       "    \"}\",\n",
       "  ].join(\"\\\\n\");\n",
       "\n",
       "  // element is a jQuery wrapped DOM element inside the output area\n",
       "  // see http://ipython.readthedocs.io/en/stable/api/generated/\\\n",
       "  // IPython.display.html#IPython.display.Javascript.__init__\n",
       "  element[0].appendChild(target);\n",
       "  element[0].appendChild(style);\n",
       "\n",
       "  vega.render(\"#\" + id, spec, type, opt, output_area);\n",
       "}, function (err) {\n",
       "  if (err.requireType !== \"scripterror\") {\n",
       "    throw(err);\n",
       "  }\n",
       "});\n"
      ],
      "text/plain": [
       "<vega.vegalite.VegaLite at 0x1a2957ee80>"
      ]
     },
     "metadata": {
      "jupyter-vega": "#cb486c2e-9d35-416e-964e-e3a3201e4d64"
     },
     "output_type": "display_data"
    },
    {
     "data": {
      "text/plain": []
     },
     "execution_count": 51,
     "metadata": {},
     "output_type": "execute_result"
    },
    {
     "data": {
      "image/png": "[encoded data removed]"
     },
     "metadata": {
      "jupyter-vega": "#cb486c2e-9d35-416e-964e-e3a3201e4d64"
     },
     "output_type": "display_data"
    }
   ],
   "source": [
    "alt.Chart(df_count).mark_bar().encode(\n",
    "   x = 'nb_of_wells',\n",
    "   y = alt.Y(\n",
    "            'age',\n",
    "            sort=alt.EncodingSortField(\n",
    "            field='nb_of_wells',  # The field to use for the sort\n",
    "            op='sum',  # The operation to run on the field prior to sorting\n",
    "            order='descending'  # The order to sort in\n",
    "        )\n",
    "    ),\n",
    "    color=alt.value('brown')\n",
    ").properties(height=150, width=500)"
   ]
  },
  {
   "cell_type": "markdown",
   "metadata": {},
   "source": [
    "---"
   ]
  },
  {
   "cell_type": "markdown",
   "metadata": {},
   "source": [
    "#### Geospatialisation - converting our dataframe to ultimately a shapefile."
   ]
  },
  {
   "cell_type": "code",
   "execution_count": 52,
   "metadata": {},
   "outputs": [],
   "source": [
    "# creating a tuple with long/lat in DD\n",
    "df_strati_NTS_NS_age_DD = df_strati_NTS_NS_age.copy()\n",
    "\n",
    "df_strati_NTS_NS_age_DD['Coordinates'] = list(zip(df_strati_NTS_NS_age_DD.wlbEwDesDeg, \n",
    "                                                  df_strati_NTS_NS_age_DD.wlbNsDecDeg))\n",
    "\n",
    "# Tuples to Point\n",
    "df_strati_NTS_NS_age_DD['Coordinates'] = df_strati_NTS_NS_age_DD['Coordinates'].apply(Point)\n",
    "\n",
    "# Now, we can create the GeoDataFrame by setting geometry with the coordinates\n",
    "df_strati_NTS_NS_age_DD = geopandas.GeoDataFrame(df_strati_NTS_NS_age_DD, geometry='Coordinates')"
   ]
  },
  {
   "cell_type": "markdown",
   "metadata": {},
   "source": [
    "We can now create 2 separate dataframes, one for North Sea wells, and the other for Norwegian Sea wells:"
   ]
  },
  {
   "cell_type": "code",
   "execution_count": 53,
   "metadata": {},
   "outputs": [],
   "source": [
    "df_strati_NTS_age_DD = df_strati_NTS_NS_age_DD.loc[df_strati_NTS_NS_age_DD.wlbMainArea=='NORTH SEA']\n",
    "df_strati_NS_age_DD = df_strati_NTS_NS_age_DD.loc[df_strati_NTS_NS_age_DD.wlbMainArea=='NORWEGIAN SEA']"
   ]
  },
  {
   "cell_type": "markdown",
   "metadata": {},
   "source": [
    "Quick display of the geodataframe with both North Sea and Norwegian Sea - This is to QC the general position of our wells"
   ]
  },
  {
   "cell_type": "code",
   "execution_count": 54,
   "metadata": {},
   "outputs": [
    {
     "data": {
      "text/plain": [
       "<matplotlib.axes._subplots.AxesSubplot at 0x1a2c2c9da0>"
      ]
     },
     "execution_count": 54,
     "metadata": {},
     "output_type": "execute_result"
    },
    {
     "data": {
      "image/png": "[encoded data removed]",
      "text/plain": [
       "<Figure size 576x576 with 1 Axes>"
      ]
     },
     "metadata": {
      "needs_background": "light"
     },
     "output_type": "display_data"
    }
   ],
   "source": [
    "df_strati_NTS_NS_age_DD.plot(figsize=(8,8), color='grey', markersize = 1)"
   ]
  },
  {
   "cell_type": "markdown",
   "metadata": {},
   "source": [
    "We can now save our dataframe to SHAPEFILE:"
   ]
  },
  {
   "cell_type": "code",
   "execution_count": 55,
   "metadata": {},
   "outputs": [],
   "source": [
    "# create a shapefile from df_strati_NS_age_DD\n",
    "df_strati_NTS_NS_age_DD.to_file('strati_NS_age_DD.shp',driver ='ESRI Shapefile')"
   ]
  },
  {
   "cell_type": "markdown",
   "metadata": {},
   "source": [
    "---"
   ]
  },
  {
   "cell_type": "markdown",
   "metadata": {},
   "source": [
    "### Using MAPBOX"
   ]
  },
  {
   "cell_type": "markdown",
   "metadata": {},
   "source": [
    "It is now possible to display our shapefile in MAPBOX. Below is an example showing all wells with Triassic. More about MapBox here: www.mapbox.com."
   ]
  },
  {
   "cell_type": "code",
   "execution_count": 56,
   "metadata": {},
   "outputs": [
    {
     "data": {
      "text/html": [
       "\n",
       "        <iframe\n",
       "            width=\"900\"\n",
       "            height=\"700\"\n",
       "            src=\"https://api.mapbox.com/styles/v1/annee/cjtxe6kxk2n9v1fpiqravigpi.html?fresh=true&title=true&access_token=pk.eyJ1IjoiYW5uZWUiLCJhIjoiY2puYng1ZjNlMDU3djN2c2YxdGxqeTk5biJ9.Iq8vP18GcAukiVpWNqJ5Pg#5.2/59.5/5.0/0\"\n",
       "            frameborder=\"0\"\n",
       "            allowfullscreen\n",
       "        ></iframe>\n",
       "        "
      ],
      "text/plain": [
       "<IPython.lib.display.IFrame at 0x1a2bc9d7f0>"
      ]
     },
     "execution_count": 56,
     "metadata": {},
     "output_type": "execute_result"
    }
   ],
   "source": [
    "IFrame(src='https://api.mapbox.com/styles/v1/annee/cjtxe6kxk2n9v1fpiqravigpi.html?fresh=true&title=true&access_token=pk.eyJ1IjoiYW5uZWUiLCJhIjoiY2puYng1ZjNlMDU3djN2c2YxdGxqeTk5biJ9.Iq8vP18GcAukiVpWNqJ5Pg#5.2/59.5/5.0/0', width=900, height=700)"
   ]
  },
  {
   "cell_type": "code",
   "execution_count": null,
   "metadata": {},
   "outputs": [],
   "source": [
    "# EOF"
   ]
  }
 ],
 "metadata": {
  "kernelspec": {
   "display_name": "Python 3",
   "language": "python",
   "name": "python3"
  },
  "language_info": {
   "codemirror_mode": {
    "name": "ipython",
    "version": 3
   },
   "file_extension": ".py",
   "mimetype": "text/x-python",
   "name": "python",
   "nbconvert_exporter": "python",
   "pygments_lexer": "ipython3",
   "version": "3.7.2"
  }
 },
 "nbformat": 4,
 "nbformat_minor": 2
}
